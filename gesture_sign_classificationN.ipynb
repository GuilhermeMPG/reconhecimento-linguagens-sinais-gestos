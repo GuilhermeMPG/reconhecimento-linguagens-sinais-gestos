{
  "cells": [
    {
      "cell_type": "code",
      "execution_count": 1,
      "metadata": {
        "id": "_AGA2lv1rhW_"
      },
      "outputs": [],
      "source": [
        "# Código adaptado em Jupyter Notebook com base nos materiais disponibilizados pelo professor, juntamente com exemplos do próprio TensorFlow. \n",
        "# O TensorFlow é uma biblioteca popular para aprendizado de máquina e pode ser encontrado na sua documentação oficial.\n",
        "import numpy as np\n",
        "import tensorflow as tf\n",
        "from sklearn.model_selection import train_test_split\n",
        "\n",
        "RANDOM_SEED = 1024"
      ]
    },
    {
      "cell_type": "markdown",
      "metadata": {
        "id": "ZDguXYmFrhXA"
      },
      "source": [
        "Especifique cada caminho\n"
      ]
    },
    {
      "cell_type": "code",
      "execution_count": 2,
      "metadata": {
        "id": "9Z7Z9w_srhXB"
      },
      "outputs": [],
      "source": [
        "dataset = 'model/gesture_sign_classifier/gesture_sign_history.csv'\n",
        "model_save_path = 'model/gesture_sign_classifier/gesture_sign_classifier.keras'"
      ]
    },
    {
      "cell_type": "markdown",
      "metadata": {
        "id": "h8LgLD1YrhXB"
      },
      "source": [
        "Configuração do número de classificação"
      ]
    },
    {
      "cell_type": "code",
      "execution_count": 3,
      "metadata": {
        "id": "kP5mq1g0rhXB"
      },
      "outputs": [],
      "source": [
        "NUM_CLASSES = 36"
      ]
    },
    {
      "cell_type": "markdown",
      "metadata": {
        "id": "lu74KcO1rhXB"
      },
      "source": [
        "Comprimento de entrada"
      ]
    },
    {
      "cell_type": "code",
      "execution_count": 4,
      "metadata": {
        "id": "NryeSr5PrhXB"
      },
      "outputs": [],
      "source": [
        "TAMANHO_DATA = (966 * 4)\n"
      ]
    },
    {
      "cell_type": "markdown",
      "metadata": {
        "id": "QmvvxgHArhXB"
      },
      "source": [
        "Carregar dados de aprendizagem\n",
        "\n"
      ]
    },
    {
      "cell_type": "code",
      "execution_count": 5,
      "metadata": {
        "id": "tmLPKtslrhXB"
      },
      "outputs": [],
      "source": [
        "X_dataset = np.loadtxt(dataset, delimiter=',', dtype='float32', usecols=list(range(1, (TAMANHO_DATA) + 1)))"
      ]
    },
    {
      "cell_type": "code",
      "execution_count": 6,
      "metadata": {
        "id": "ZpRwynpqrhXC"
      },
      "outputs": [],
      "source": [
        "y_dataset = np.loadtxt(dataset, delimiter=',', dtype='int32', usecols=(0))"
      ]
    },
    {
      "cell_type": "code",
      "execution_count": 7,
      "metadata": {
        "id": "h36-2dPHrhXC"
      },
      "outputs": [
        {
          "name": "stdout",
          "output_type": "stream",
          "text": [
            "Tamanho do conjunto de treino: 10178\n",
            "Tamanho do conjunto de validação: 2181\n",
            "Tamanho do conjunto de teste: 2181\n"
          ]
        }
      ],
      "source": [
        "# Dividindo os dados em 70% treino e 30% (teste + validação)\n",
        "X_train, X_test_val, y_train, y_test_val = train_test_split(X_dataset, y_dataset, train_size=0.70, random_state=RANDOM_SEED)\n",
        "\n",
        "# Dividindo os 30% em 15% validação e 15% teste\n",
        "X_test, X_val, y_test, y_val = train_test_split(X_test_val, y_test_val, test_size=0.5, random_state=RANDOM_SEED)\n",
        "\n",
        "# Exibindo a quantidade de dados em cada conjunto\n",
        "print(f'Tamanho do conjunto de treino: {len(X_train)}')\n",
        "print(f'Tamanho do conjunto de validação: {len(X_val)}')\n",
        "print(f'Tamanho do conjunto de teste: {len(X_test)}')"
      ]
    },
    {
      "cell_type": "markdown",
      "metadata": {
        "id": "tZU0U_k3rhXC"
      },
      "source": [
        "Construção de modelo"
      ]
    },
    {
      "cell_type": "code",
      "execution_count": 10,
      "metadata": {
        "id": "sQJFryxyrhXC"
      },
      "outputs": [],
      "source": [
        "model = tf.keras.models.Sequential([\n",
        "    tf.keras.layers.InputLayer(input_shape=(TAMANHO_DATA, )),\n",
        "    tf.keras.layers.Dense(512, activation='relu', kernel_initializer=tf.keras.initializers.HeNormal(seed=RANDOM_SEED)),\n",
        "    tf.keras.layers.Dropout(0.5, seed=RANDOM_SEED),\n",
        "    tf.keras.layers.Dense(256, activation='relu', kernel_initializer=tf.keras.initializers.HeNormal(seed=RANDOM_SEED)),\n",
        "    tf.keras.layers.Dropout(0.5, seed=RANDOM_SEED),\n",
        "    tf.keras.layers.Dense(128, activation='relu', kernel_initializer=tf.keras.initializers.HeNormal(seed=RANDOM_SEED)),\n",
        "    tf.keras.layers.Dense(NUM_CLASSES, activation='softmax')\n",
        "])\n"
      ]
    },
    {
      "cell_type": "code",
      "execution_count": 11,
      "metadata": {
        "id": "z2NoizMyrhXC",
        "outputId": "15fcaefa-de1e-4e2f-e177-9c1b4913a645"
      },
      "outputs": [
        {
          "data": {
            "text/html": [
              "<pre style=\"white-space:pre;overflow-x:auto;line-height:normal;font-family:Menlo,'DejaVu Sans Mono',consolas,'Courier New',monospace\"><span style=\"font-weight: bold\">Model: \"sequential_1\"</span>\n",
              "</pre>\n"
            ],
            "text/plain": [
              "\u001b[1mModel: \"sequential_1\"\u001b[0m\n"
            ]
          },
          "metadata": {},
          "output_type": "display_data"
        },
        {
          "data": {
            "text/html": [
              "<pre style=\"white-space:pre;overflow-x:auto;line-height:normal;font-family:Menlo,'DejaVu Sans Mono',consolas,'Courier New',monospace\">┏━━━━━━━━━━━━━━━━━━━━━━━━━━━━━━━━━┳━━━━━━━━━━━━━━━━━━━━━━━━┳━━━━━━━━━━━━━━━┓\n",
              "┃<span style=\"font-weight: bold\"> Layer (type)                    </span>┃<span style=\"font-weight: bold\"> Output Shape           </span>┃<span style=\"font-weight: bold\">       Param # </span>┃\n",
              "┡━━━━━━━━━━━━━━━━━━━━━━━━━━━━━━━━━╇━━━━━━━━━━━━━━━━━━━━━━━━╇━━━━━━━━━━━━━━━┩\n",
              "│ dense_4 (<span style=\"color: #0087ff; text-decoration-color: #0087ff\">Dense</span>)                 │ (<span style=\"color: #00d7ff; text-decoration-color: #00d7ff\">None</span>, <span style=\"color: #00af00; text-decoration-color: #00af00\">512</span>)            │     <span style=\"color: #00af00; text-decoration-color: #00af00\">1,978,880</span> │\n",
              "├─────────────────────────────────┼────────────────────────┼───────────────┤\n",
              "│ dropout_2 (<span style=\"color: #0087ff; text-decoration-color: #0087ff\">Dropout</span>)             │ (<span style=\"color: #00d7ff; text-decoration-color: #00d7ff\">None</span>, <span style=\"color: #00af00; text-decoration-color: #00af00\">512</span>)            │             <span style=\"color: #00af00; text-decoration-color: #00af00\">0</span> │\n",
              "├─────────────────────────────────┼────────────────────────┼───────────────┤\n",
              "│ dense_5 (<span style=\"color: #0087ff; text-decoration-color: #0087ff\">Dense</span>)                 │ (<span style=\"color: #00d7ff; text-decoration-color: #00d7ff\">None</span>, <span style=\"color: #00af00; text-decoration-color: #00af00\">256</span>)            │       <span style=\"color: #00af00; text-decoration-color: #00af00\">131,328</span> │\n",
              "├─────────────────────────────────┼────────────────────────┼───────────────┤\n",
              "│ dropout_3 (<span style=\"color: #0087ff; text-decoration-color: #0087ff\">Dropout</span>)             │ (<span style=\"color: #00d7ff; text-decoration-color: #00d7ff\">None</span>, <span style=\"color: #00af00; text-decoration-color: #00af00\">256</span>)            │             <span style=\"color: #00af00; text-decoration-color: #00af00\">0</span> │\n",
              "├─────────────────────────────────┼────────────────────────┼───────────────┤\n",
              "│ dense_6 (<span style=\"color: #0087ff; text-decoration-color: #0087ff\">Dense</span>)                 │ (<span style=\"color: #00d7ff; text-decoration-color: #00d7ff\">None</span>, <span style=\"color: #00af00; text-decoration-color: #00af00\">128</span>)            │        <span style=\"color: #00af00; text-decoration-color: #00af00\">32,896</span> │\n",
              "├─────────────────────────────────┼────────────────────────┼───────────────┤\n",
              "│ dense_7 (<span style=\"color: #0087ff; text-decoration-color: #0087ff\">Dense</span>)                 │ (<span style=\"color: #00d7ff; text-decoration-color: #00d7ff\">None</span>, <span style=\"color: #00af00; text-decoration-color: #00af00\">36</span>)             │         <span style=\"color: #00af00; text-decoration-color: #00af00\">4,644</span> │\n",
              "└─────────────────────────────────┴────────────────────────┴───────────────┘\n",
              "</pre>\n"
            ],
            "text/plain": [
              "┏━━━━━━━━━━━━━━━━━━━━━━━━━━━━━━━━━┳━━━━━━━━━━━━━━━━━━━━━━━━┳━━━━━━━━━━━━━━━┓\n",
              "┃\u001b[1m \u001b[0m\u001b[1mLayer (type)                   \u001b[0m\u001b[1m \u001b[0m┃\u001b[1m \u001b[0m\u001b[1mOutput Shape          \u001b[0m\u001b[1m \u001b[0m┃\u001b[1m \u001b[0m\u001b[1m      Param #\u001b[0m\u001b[1m \u001b[0m┃\n",
              "┡━━━━━━━━━━━━━━━━━━━━━━━━━━━━━━━━━╇━━━━━━━━━━━━━━━━━━━━━━━━╇━━━━━━━━━━━━━━━┩\n",
              "│ dense_4 (\u001b[38;5;33mDense\u001b[0m)                 │ (\u001b[38;5;45mNone\u001b[0m, \u001b[38;5;34m512\u001b[0m)            │     \u001b[38;5;34m1,978,880\u001b[0m │\n",
              "├─────────────────────────────────┼────────────────────────┼───────────────┤\n",
              "│ dropout_2 (\u001b[38;5;33mDropout\u001b[0m)             │ (\u001b[38;5;45mNone\u001b[0m, \u001b[38;5;34m512\u001b[0m)            │             \u001b[38;5;34m0\u001b[0m │\n",
              "├─────────────────────────────────┼────────────────────────┼───────────────┤\n",
              "│ dense_5 (\u001b[38;5;33mDense\u001b[0m)                 │ (\u001b[38;5;45mNone\u001b[0m, \u001b[38;5;34m256\u001b[0m)            │       \u001b[38;5;34m131,328\u001b[0m │\n",
              "├─────────────────────────────────┼────────────────────────┼───────────────┤\n",
              "│ dropout_3 (\u001b[38;5;33mDropout\u001b[0m)             │ (\u001b[38;5;45mNone\u001b[0m, \u001b[38;5;34m256\u001b[0m)            │             \u001b[38;5;34m0\u001b[0m │\n",
              "├─────────────────────────────────┼────────────────────────┼───────────────┤\n",
              "│ dense_6 (\u001b[38;5;33mDense\u001b[0m)                 │ (\u001b[38;5;45mNone\u001b[0m, \u001b[38;5;34m128\u001b[0m)            │        \u001b[38;5;34m32,896\u001b[0m │\n",
              "├─────────────────────────────────┼────────────────────────┼───────────────┤\n",
              "│ dense_7 (\u001b[38;5;33mDense\u001b[0m)                 │ (\u001b[38;5;45mNone\u001b[0m, \u001b[38;5;34m36\u001b[0m)             │         \u001b[38;5;34m4,644\u001b[0m │\n",
              "└─────────────────────────────────┴────────────────────────┴───────────────┘\n"
            ]
          },
          "metadata": {},
          "output_type": "display_data"
        },
        {
          "data": {
            "text/html": [
              "<pre style=\"white-space:pre;overflow-x:auto;line-height:normal;font-family:Menlo,'DejaVu Sans Mono',consolas,'Courier New',monospace\"><span style=\"font-weight: bold\"> Total params: </span><span style=\"color: #00af00; text-decoration-color: #00af00\">2,147,748</span> (8.19 MB)\n",
              "</pre>\n"
            ],
            "text/plain": [
              "\u001b[1m Total params: \u001b[0m\u001b[38;5;34m2,147,748\u001b[0m (8.19 MB)\n"
            ]
          },
          "metadata": {},
          "output_type": "display_data"
        },
        {
          "data": {
            "text/html": [
              "<pre style=\"white-space:pre;overflow-x:auto;line-height:normal;font-family:Menlo,'DejaVu Sans Mono',consolas,'Courier New',monospace\"><span style=\"font-weight: bold\"> Trainable params: </span><span style=\"color: #00af00; text-decoration-color: #00af00\">2,147,748</span> (8.19 MB)\n",
              "</pre>\n"
            ],
            "text/plain": [
              "\u001b[1m Trainable params: \u001b[0m\u001b[38;5;34m2,147,748\u001b[0m (8.19 MB)\n"
            ]
          },
          "metadata": {},
          "output_type": "display_data"
        },
        {
          "data": {
            "text/html": [
              "<pre style=\"white-space:pre;overflow-x:auto;line-height:normal;font-family:Menlo,'DejaVu Sans Mono',consolas,'Courier New',monospace\"><span style=\"font-weight: bold\"> Non-trainable params: </span><span style=\"color: #00af00; text-decoration-color: #00af00\">0</span> (0.00 B)\n",
              "</pre>\n"
            ],
            "text/plain": [
              "\u001b[1m Non-trainable params: \u001b[0m\u001b[38;5;34m0\u001b[0m (0.00 B)\n"
            ]
          },
          "metadata": {},
          "output_type": "display_data"
        }
      ],
      "source": [
        "model.summary()  # tf.keras.utils.plot_model(model, show_shapes=True)"
      ]
    },
    {
      "cell_type": "code",
      "execution_count": 12,
      "metadata": {
        "id": "VU9Z7Ns5rhXC"
      },
      "outputs": [],
      "source": [
        "#Callback para checkpoint do modelo\n",
        "cp_callback = tf.keras.callbacks.ModelCheckpoint(\n",
        "  model_save_path, verbose=1, save_weights_only=False)\n",
        "\n",
        "#Callback para parada antecipada\n",
        "es_callback = tf.keras.callbacks.EarlyStopping(patience=20, verbose=1)"
      ]
    },
    {
      "cell_type": "code",
      "execution_count": 13,
      "metadata": {
        "colab": {
          "base_uri": "https://localhost:8080/",
          "height": 211
        },
        "id": "bg5jQdiTrhXD",
        "outputId": "402cad72-f6c6-4273-e613-f101e0ad9779"
      },
      "outputs": [],
      "source": [
        "#Compilação do modelo\n",
        "model.compile(\n",
        "    optimizer=tf.keras.optimizers.Adam(learning_rate=0.001),\n",
        "    loss='sparse_categorical_crossentropy',\n",
        "    metrics=['accuracy']\n",
        ")\n",
        "\n"
      ]
    },
    {
      "cell_type": "markdown",
      "metadata": {
        "id": "9Q4HsdQmrhXD"
      },
      "source": [
        "Treinamento do modelo"
      ]
    },
    {
      "cell_type": "code",
      "execution_count": 15,
      "metadata": {
        "id": "8OmaPJjtrhXD",
        "outputId": "cec74298-5773-48fc-fa4b-b01cf48ea269",
        "scrolled": true
      },
      "outputs": [
        {
          "name": "stdout",
          "output_type": "stream",
          "text": [
            "Epoch 1/50\n",
            "\u001b[1m159/160\u001b[0m \u001b[32m━━━━━━━━━━━━━━━━━━━\u001b[0m\u001b[37m━\u001b[0m \u001b[1m0s\u001b[0m 15ms/step - accuracy: 0.9294 - loss: 0.2081\n",
            "Epoch 1: saving model to model/gesture_sign_classifier/gesture_sign_classifier.keras\n",
            "\u001b[1m160/160\u001b[0m \u001b[32m━━━━━━━━━━━━━━━━━━━━\u001b[0m\u001b[37m\u001b[0m \u001b[1m3s\u001b[0m 16ms/step - accuracy: 0.9294 - loss: 0.2080 - val_accuracy: 0.9904 - val_loss: 0.0720\n",
            "Epoch 2/50\n",
            "\u001b[1m158/160\u001b[0m \u001b[32m━━━━━━━━━━━━━━━━━━━\u001b[0m\u001b[37m━\u001b[0m \u001b[1m0s\u001b[0m 15ms/step - accuracy: 0.9369 - loss: 0.2040\n",
            "Epoch 2: saving model to model/gesture_sign_classifier/gesture_sign_classifier.keras\n",
            "\u001b[1m160/160\u001b[0m \u001b[32m━━━━━━━━━━━━━━━━━━━━\u001b[0m\u001b[37m\u001b[0m \u001b[1m3s\u001b[0m 16ms/step - accuracy: 0.9369 - loss: 0.2039 - val_accuracy: 0.9885 - val_loss: 0.0598\n",
            "Epoch 3/50\n",
            "\u001b[1m160/160\u001b[0m \u001b[32m━━━━━━━━━━━━━━━━━━━━\u001b[0m\u001b[37m\u001b[0m \u001b[1m0s\u001b[0m 15ms/step - accuracy: 0.9373 - loss: 0.1905\n",
            "Epoch 3: saving model to model/gesture_sign_classifier/gesture_sign_classifier.keras\n",
            "\u001b[1m160/160\u001b[0m \u001b[32m━━━━━━━━━━━━━━━━━━━━\u001b[0m\u001b[37m\u001b[0m \u001b[1m3s\u001b[0m 16ms/step - accuracy: 0.9372 - loss: 0.1904 - val_accuracy: 0.9794 - val_loss: 0.0900\n",
            "Epoch 4/50\n",
            "\u001b[1m160/160\u001b[0m \u001b[32m━━━━━━━━━━━━━━━━━━━━\u001b[0m\u001b[37m\u001b[0m \u001b[1m0s\u001b[0m 15ms/step - accuracy: 0.9358 - loss: 0.1984\n",
            "Epoch 4: saving model to model/gesture_sign_classifier/gesture_sign_classifier.keras\n",
            "\u001b[1m160/160\u001b[0m \u001b[32m━━━━━━━━━━━━━━━━━━━━\u001b[0m\u001b[37m\u001b[0m \u001b[1m3s\u001b[0m 16ms/step - accuracy: 0.9359 - loss: 0.1984 - val_accuracy: 0.9885 - val_loss: 0.0660\n",
            "Epoch 5/50\n",
            "\u001b[1m157/160\u001b[0m \u001b[32m━━━━━━━━━━━━━━━━━━━\u001b[0m\u001b[37m━\u001b[0m \u001b[1m0s\u001b[0m 15ms/step - accuracy: 0.9395 - loss: 0.1909\n",
            "Epoch 5: saving model to model/gesture_sign_classifier/gesture_sign_classifier.keras\n",
            "\u001b[1m160/160\u001b[0m \u001b[32m━━━━━━━━━━━━━━━━━━━━\u001b[0m\u001b[37m\u001b[0m \u001b[1m3s\u001b[0m 16ms/step - accuracy: 0.9395 - loss: 0.1909 - val_accuracy: 0.9881 - val_loss: 0.0716\n",
            "Epoch 6/50\n",
            "\u001b[1m157/160\u001b[0m \u001b[32m━━━━━━━━━━━━━━━━━━━\u001b[0m\u001b[37m━\u001b[0m \u001b[1m0s\u001b[0m 15ms/step - accuracy: 0.9220 - loss: 0.2535\n",
            "Epoch 6: saving model to model/gesture_sign_classifier/gesture_sign_classifier.keras\n",
            "\u001b[1m160/160\u001b[0m \u001b[32m━━━━━━━━━━━━━━━━━━━━\u001b[0m\u001b[37m\u001b[0m \u001b[1m3s\u001b[0m 16ms/step - accuracy: 0.9221 - loss: 0.2528 - val_accuracy: 0.9835 - val_loss: 0.0764\n",
            "Epoch 7/50\n",
            "\u001b[1m157/160\u001b[0m \u001b[32m━━━━━━━━━━━━━━━━━━━\u001b[0m\u001b[37m━\u001b[0m \u001b[1m0s\u001b[0m 14ms/step - accuracy: 0.9420 - loss: 0.1868\n",
            "Epoch 7: saving model to model/gesture_sign_classifier/gesture_sign_classifier.keras\n",
            "\u001b[1m160/160\u001b[0m \u001b[32m━━━━━━━━━━━━━━━━━━━━\u001b[0m\u001b[37m\u001b[0m \u001b[1m2s\u001b[0m 15ms/step - accuracy: 0.9419 - loss: 0.1869 - val_accuracy: 0.9927 - val_loss: 0.0604\n",
            "Epoch 8/50\n",
            "\u001b[1m157/160\u001b[0m \u001b[32m━━━━━━━━━━━━━━━━━━━\u001b[0m\u001b[37m━\u001b[0m \u001b[1m0s\u001b[0m 14ms/step - accuracy: 0.9379 - loss: 0.1877\n",
            "Epoch 8: saving model to model/gesture_sign_classifier/gesture_sign_classifier.keras\n",
            "\u001b[1m160/160\u001b[0m \u001b[32m━━━━━━━━━━━━━━━━━━━━\u001b[0m\u001b[37m\u001b[0m \u001b[1m2s\u001b[0m 15ms/step - accuracy: 0.9378 - loss: 0.1878 - val_accuracy: 0.9840 - val_loss: 0.0891\n",
            "Epoch 9/50\n",
            "\u001b[1m157/160\u001b[0m \u001b[32m━━━━━━━━━━━━━━━━━━━\u001b[0m\u001b[37m━\u001b[0m \u001b[1m0s\u001b[0m 14ms/step - accuracy: 0.9421 - loss: 0.1903\n",
            "Epoch 9: saving model to model/gesture_sign_classifier/gesture_sign_classifier.keras\n",
            "\u001b[1m160/160\u001b[0m \u001b[32m━━━━━━━━━━━━━━━━━━━━\u001b[0m\u001b[37m\u001b[0m \u001b[1m3s\u001b[0m 16ms/step - accuracy: 0.9421 - loss: 0.1903 - val_accuracy: 0.9876 - val_loss: 0.0738\n",
            "Epoch 10/50\n",
            "\u001b[1m157/160\u001b[0m \u001b[32m━━━━━━━━━━━━━━━━━━━\u001b[0m\u001b[37m━\u001b[0m \u001b[1m0s\u001b[0m 14ms/step - accuracy: 0.9499 - loss: 0.1607\n",
            "Epoch 10: saving model to model/gesture_sign_classifier/gesture_sign_classifier.keras\n",
            "\u001b[1m160/160\u001b[0m \u001b[32m━━━━━━━━━━━━━━━━━━━━\u001b[0m\u001b[37m\u001b[0m \u001b[1m2s\u001b[0m 15ms/step - accuracy: 0.9499 - loss: 0.1608 - val_accuracy: 0.9904 - val_loss: 0.0796\n",
            "Epoch 11/50\n",
            "\u001b[1m157/160\u001b[0m \u001b[32m━━━━━━━━━━━━━━━━━━━\u001b[0m\u001b[37m━\u001b[0m \u001b[1m0s\u001b[0m 14ms/step - accuracy: 0.9437 - loss: 0.1757\n",
            "Epoch 11: saving model to model/gesture_sign_classifier/gesture_sign_classifier.keras\n",
            "\u001b[1m160/160\u001b[0m \u001b[32m━━━━━━━━━━━━━━━━━━━━\u001b[0m\u001b[37m\u001b[0m \u001b[1m3s\u001b[0m 16ms/step - accuracy: 0.9436 - loss: 0.1759 - val_accuracy: 0.9858 - val_loss: 0.0785\n",
            "Epoch 12/50\n",
            "\u001b[1m157/160\u001b[0m \u001b[32m━━━━━━━━━━━━━━━━━━━\u001b[0m\u001b[37m━\u001b[0m \u001b[1m0s\u001b[0m 14ms/step - accuracy: 0.9465 - loss: 0.1651\n",
            "Epoch 12: saving model to model/gesture_sign_classifier/gesture_sign_classifier.keras\n",
            "\u001b[1m160/160\u001b[0m \u001b[32m━━━━━━━━━━━━━━━━━━━━\u001b[0m\u001b[37m\u001b[0m \u001b[1m2s\u001b[0m 15ms/step - accuracy: 0.9465 - loss: 0.1649 - val_accuracy: 0.9872 - val_loss: 0.0682\n",
            "Epoch 13/50\n",
            "\u001b[1m157/160\u001b[0m \u001b[32m━━━━━━━━━━━━━━━━━━━\u001b[0m\u001b[37m━\u001b[0m \u001b[1m0s\u001b[0m 14ms/step - accuracy: 0.9461 - loss: 0.1683\n",
            "Epoch 13: saving model to model/gesture_sign_classifier/gesture_sign_classifier.keras\n",
            "\u001b[1m160/160\u001b[0m \u001b[32m━━━━━━━━━━━━━━━━━━━━\u001b[0m\u001b[37m\u001b[0m \u001b[1m3s\u001b[0m 16ms/step - accuracy: 0.9462 - loss: 0.1678 - val_accuracy: 0.9840 - val_loss: 0.0776\n",
            "Epoch 14/50\n",
            "\u001b[1m157/160\u001b[0m \u001b[32m━━━━━━━━━━━━━━━━━━━\u001b[0m\u001b[37m━\u001b[0m \u001b[1m0s\u001b[0m 15ms/step - accuracy: 0.9530 - loss: 0.1340\n",
            "Epoch 14: saving model to model/gesture_sign_classifier/gesture_sign_classifier.keras\n",
            "\u001b[1m160/160\u001b[0m \u001b[32m━━━━━━━━━━━━━━━━━━━━\u001b[0m\u001b[37m\u001b[0m \u001b[1m3s\u001b[0m 16ms/step - accuracy: 0.9530 - loss: 0.1342 - val_accuracy: 0.9798 - val_loss: 0.0882\n",
            "Epoch 15/50\n",
            "\u001b[1m159/160\u001b[0m \u001b[32m━━━━━━━━━━━━━━━━━━━\u001b[0m\u001b[37m━\u001b[0m \u001b[1m0s\u001b[0m 15ms/step - accuracy: 0.9459 - loss: 0.1776\n",
            "Epoch 15: saving model to model/gesture_sign_classifier/gesture_sign_classifier.keras\n",
            "\u001b[1m160/160\u001b[0m \u001b[32m━━━━━━━━━━━━━━━━━━━━\u001b[0m\u001b[37m\u001b[0m \u001b[1m3s\u001b[0m 16ms/step - accuracy: 0.9459 - loss: 0.1776 - val_accuracy: 0.9844 - val_loss: 0.0895\n",
            "Epoch 16/50\n",
            "\u001b[1m157/160\u001b[0m \u001b[32m━━━━━━━━━━━━━━━━━━━\u001b[0m\u001b[37m━\u001b[0m \u001b[1m0s\u001b[0m 15ms/step - accuracy: 0.9265 - loss: 0.2333\n",
            "Epoch 16: saving model to model/gesture_sign_classifier/gesture_sign_classifier.keras\n",
            "\u001b[1m160/160\u001b[0m \u001b[32m━━━━━━━━━━━━━━━━━━━━\u001b[0m\u001b[37m\u001b[0m \u001b[1m3s\u001b[0m 16ms/step - accuracy: 0.9268 - loss: 0.2321 - val_accuracy: 0.9876 - val_loss: 0.0705\n",
            "Epoch 17/50\n",
            "\u001b[1m157/160\u001b[0m \u001b[32m━━━━━━━━━━━━━━━━━━━\u001b[0m\u001b[37m━\u001b[0m \u001b[1m0s\u001b[0m 15ms/step - accuracy: 0.9343 - loss: 0.2140\n",
            "Epoch 17: saving model to model/gesture_sign_classifier/gesture_sign_classifier.keras\n",
            "\u001b[1m160/160\u001b[0m \u001b[32m━━━━━━━━━━━━━━━━━━━━\u001b[0m\u001b[37m\u001b[0m \u001b[1m2s\u001b[0m 15ms/step - accuracy: 0.9345 - loss: 0.2133 - val_accuracy: 0.9872 - val_loss: 0.0844\n",
            "Epoch 18/50\n",
            "\u001b[1m158/160\u001b[0m \u001b[32m━━━━━━━━━━━━━━━━━━━\u001b[0m\u001b[37m━\u001b[0m \u001b[1m0s\u001b[0m 15ms/step - accuracy: 0.9542 - loss: 0.1378\n",
            "Epoch 18: saving model to model/gesture_sign_classifier/gesture_sign_classifier.keras\n",
            "\u001b[1m160/160\u001b[0m \u001b[32m━━━━━━━━━━━━━━━━━━━━\u001b[0m\u001b[37m\u001b[0m \u001b[1m3s\u001b[0m 16ms/step - accuracy: 0.9542 - loss: 0.1379 - val_accuracy: 0.9890 - val_loss: 0.0647\n",
            "Epoch 19/50\n",
            "\u001b[1m157/160\u001b[0m \u001b[32m━━━━━━━━━━━━━━━━━━━\u001b[0m\u001b[37m━\u001b[0m \u001b[1m0s\u001b[0m 15ms/step - accuracy: 0.9479 - loss: 0.1734\n",
            "Epoch 19: saving model to model/gesture_sign_classifier/gesture_sign_classifier.keras\n",
            "\u001b[1m160/160\u001b[0m \u001b[32m━━━━━━━━━━━━━━━━━━━━\u001b[0m\u001b[37m\u001b[0m \u001b[1m3s\u001b[0m 16ms/step - accuracy: 0.9478 - loss: 0.1734 - val_accuracy: 0.9895 - val_loss: 0.0608\n",
            "Epoch 20/50\n",
            "\u001b[1m158/160\u001b[0m \u001b[32m━━━━━━━━━━━━━━━━━━━\u001b[0m\u001b[37m━\u001b[0m \u001b[1m0s\u001b[0m 15ms/step - accuracy: 0.9482 - loss: 0.1686\n",
            "Epoch 20: saving model to model/gesture_sign_classifier/gesture_sign_classifier.keras\n",
            "\u001b[1m160/160\u001b[0m \u001b[32m━━━━━━━━━━━━━━━━━━━━\u001b[0m\u001b[37m\u001b[0m \u001b[1m3s\u001b[0m 16ms/step - accuracy: 0.9482 - loss: 0.1684 - val_accuracy: 0.9881 - val_loss: 0.0678\n",
            "Epoch 21/50\n",
            "\u001b[1m157/160\u001b[0m \u001b[32m━━━━━━━━━━━━━━━━━━━\u001b[0m\u001b[37m━\u001b[0m \u001b[1m0s\u001b[0m 14ms/step - accuracy: 0.9539 - loss: 0.1481\n",
            "Epoch 21: saving model to model/gesture_sign_classifier/gesture_sign_classifier.keras\n",
            "\u001b[1m160/160\u001b[0m \u001b[32m━━━━━━━━━━━━━━━━━━━━\u001b[0m\u001b[37m\u001b[0m \u001b[1m2s\u001b[0m 15ms/step - accuracy: 0.9538 - loss: 0.1485 - val_accuracy: 0.9872 - val_loss: 0.0632\n",
            "Epoch 22/50\n",
            "\u001b[1m159/160\u001b[0m \u001b[32m━━━━━━━━━━━━━━━━━━━\u001b[0m\u001b[37m━\u001b[0m \u001b[1m0s\u001b[0m 16ms/step - accuracy: 0.9560 - loss: 0.1427\n",
            "Epoch 22: saving model to model/gesture_sign_classifier/gesture_sign_classifier.keras\n",
            "\u001b[1m160/160\u001b[0m \u001b[32m━━━━━━━━━━━━━━━━━━━━\u001b[0m\u001b[37m\u001b[0m \u001b[1m3s\u001b[0m 18ms/step - accuracy: 0.9559 - loss: 0.1428 - val_accuracy: 0.9885 - val_loss: 0.0626\n",
            "Epoch 22: early stopping\n"
          ]
        },
        {
          "data": {
            "text/plain": [
              "<keras.src.callbacks.history.History at 0x1db26ef9bb0>"
            ]
          },
          "execution_count": 15,
          "metadata": {},
          "output_type": "execute_result"
        }
      ],
      "source": [
        "model.fit(\n",
        "    X_train,\n",
        "    y_train,\n",
        "    epochs=50,\n",
        "    batch_size=64,\n",
        "    validation_data=(X_val, y_val),\n",
        "    callbacks=[cp_callback, es_callback]\n",
        ")"
      ]
    },
    {
      "cell_type": "code",
      "execution_count": 16,
      "metadata": {
        "id": "yRTVe6NarhXD"
      },
      "outputs": [],
      "source": [
        "# Carregamento do modelo salvo\n",
        "model = tf.keras.models.load_model(model_save_path)"
      ]
    },
    {
      "cell_type": "code",
      "execution_count": 17,
      "metadata": {
        "id": "TwyIR1LWrhXD",
        "outputId": "3594d7db-9b97-4bb9-8586-d720d17b199a"
      },
      "outputs": [
        {
          "name": "stdout",
          "output_type": "stream",
          "text": [
            "\u001b[1m1/1\u001b[0m \u001b[32m━━━━━━━━━━━━━━━━━━━━\u001b[0m\u001b[37m\u001b[0m \u001b[1m0s\u001b[0m 48ms/step\n",
            "[5.25297298e-31 1.85620992e-25 2.87677555e-25 3.63910664e-27\n",
            " 2.13717358e-21 1.75266412e-10 4.20802338e-22 0.00000000e+00\n",
            " 2.03824200e-34 4.11457640e-37 1.00000000e+00 0.00000000e+00\n",
            " 1.15210144e-20 3.38502994e-33 3.34736406e-20 3.01519377e-16\n",
            " 9.97398490e-15 2.56578403e-16 1.51842567e-17 2.14865520e-13\n",
            " 8.13587870e-21 9.95305589e-20 1.09867974e-14 1.31813594e-15\n",
            " 8.07787675e-14 2.70944302e-21 8.97203908e-11 7.05450666e-23\n",
            " 1.46866930e-09 8.36942830e-20 8.86391322e-29 5.59326661e-34\n",
            " 1.17988820e-32 5.91717472e-22 1.83291160e-11 9.03879665e-24]\n",
            "10\n"
          ]
        }
      ],
      "source": [
        "# Teste de inferência\n",
        "predict_result = model.predict(np.array([X_test[0]]))\n",
        "print(np.squeeze(predict_result))\n",
        "print(np.argmax(np.squeeze(predict_result)))"
      ]
    },
    {
      "cell_type": "markdown",
      "metadata": {
        "id": "6OuS9YGOrhXD"
      },
      "source": [
        "Linhas mistas"
      ]
    },
    {
      "cell_type": "code",
      "execution_count": 18,
      "metadata": {
        "id": "bGAmJ3i3rhXD",
        "outputId": "a4e0c646-1592-4f85-ce47-d0a8ff89ad4f"
      },
      "outputs": [
        {
          "name": "stdout",
          "output_type": "stream",
          "text": [
            "\u001b[1m69/69\u001b[0m \u001b[32m━━━━━━━━━━━━━━━━━━━━\u001b[0m\u001b[37m\u001b[0m \u001b[1m0s\u001b[0m 2ms/step\n"
          ]
        },
        {
          "data": {
            "image/png": "[encoded data removed]",
            "text/plain": [
              "<Figure size 700x600 with 2 Axes>"
            ]
          },
          "metadata": {},
          "output_type": "display_data"
        },
        {
          "name": "stdout",
          "output_type": "stream",
          "text": [
            "Classification Report\n",
            "              precision    recall  f1-score   support\n",
            "\n",
            "           0       0.97      1.00      0.99        68\n",
            "           1       1.00      0.95      0.97        37\n",
            "           2       0.98      0.98      0.98        43\n",
            "           3       1.00      0.93      0.97        30\n",
            "           4       1.00      1.00      1.00        28\n",
            "           5       1.00      1.00      1.00        32\n",
            "           6       0.93      1.00      0.97        14\n",
            "          10       1.00      1.00      1.00        82\n",
            "          11       0.98      0.99      0.98        87\n",
            "          12       1.00      0.97      0.99        72\n",
            "          13       0.99      1.00      1.00       104\n",
            "          14       1.00      0.97      0.98        67\n",
            "          15       0.99      0.95      0.97       128\n",
            "          16       0.94      1.00      0.97        76\n",
            "          17       1.00      0.91      0.95        53\n",
            "          18       1.00      1.00      1.00        60\n",
            "          19       1.00      1.00      1.00        38\n",
            "          20       1.00      1.00      1.00        50\n",
            "          21       1.00      1.00      1.00        53\n",
            "          22       0.96      1.00      0.98        68\n",
            "          23       1.00      0.93      0.97        45\n",
            "          24       0.99      1.00      0.99        92\n",
            "          25       0.98      1.00      0.99       108\n",
            "          26       1.00      0.99      0.99        89\n",
            "          27       0.99      1.00      0.99        85\n",
            "          28       1.00      1.00      1.00        80\n",
            "          29       0.95      0.99      0.97        91\n",
            "          30       0.99      0.99      0.99        81\n",
            "          31       1.00      1.00      1.00        73\n",
            "          32       1.00      1.00      1.00        80\n",
            "          33       0.97      0.99      0.98        79\n",
            "          34       1.00      1.00      1.00        52\n",
            "          35       1.00      1.00      1.00        36\n",
            "\n",
            "    accuracy                           0.99      2181\n",
            "   macro avg       0.99      0.99      0.99      2181\n",
            "weighted avg       0.99      0.99      0.99      2181\n",
            "\n"
          ]
        }
      ],
      "source": [
        "#O código abaixo foi adaptado a partir da seguinte resposta do Stack Overflow:\n",
        "# Fonte: Stack Overflow Users. (2018). Stack Overflow. \n",
        "# Retrieved from https://stackoverflow.com/questions/50443411/how-to-load-a-tflite-model-in-script\n",
        "import pandas as pd\n",
        "import seaborn as sns\n",
        "import matplotlib.pyplot as plt\n",
        "from sklearn.metrics import confusion_matrix, classification_report\n",
        "\n",
        "def print_confusion_matrix(y_true, y_pred, report=True):\n",
        "    labels = sorted(list(set(y_true)))\n",
        "    cmx_data = confusion_matrix(y_true, y_pred, labels=labels)\n",
        "\n",
        "    df_cmx = pd.DataFrame(cmx_data, index=labels, columns=labels)\n",
        "\n",
        "    fig, ax = plt.subplots(figsize=(7, 6))\n",
        "    sns.heatmap(df_cmx, annot=True, fmt='g' ,square=False)\n",
        "    ax.set_ylim(len(set(y_true)), 0)\n",
        "    plt.show()\n",
        "\n",
        "    if report:\n",
        "        print('Classification Report')\n",
        "        print(classification_report(y_test, y_pred))\n",
        "\n",
        "Y_pred = model.predict(X_test)\n",
        "y_pred = np.argmax(Y_pred, axis=1)\n",
        "\n",
        "print_confusion_matrix(y_test, y_pred)"
      ]
    },
    {
      "cell_type": "markdown",
      "metadata": {
        "id": "a6brrSFLrhXD"
      },
      "source": [
        "Converter em modelo para Tensorflow-Lite"
      ]
    },
    {
      "cell_type": "code",
      "execution_count": 19,
      "metadata": {
        "id": "TWV8XN7rrhXD"
      },
      "outputs": [],
      "source": [
        "# Salvando como modelo apenas para inferência\n",
        "model.save(model_save_path, include_optimizer=False)\n",
        "model = tf.keras.models.load_model(model_save_path)"
      ]
    },
    {
      "cell_type": "code",
      "execution_count": 20,
      "metadata": {
        "id": "OULJmjNlrhXE"
      },
      "outputs": [],
      "source": [
        "tflite_save_path = 'model/gesture_sign_classifier/gesture_sign_classifier.tflite'"
      ]
    },
    {
      "cell_type": "code",
      "execution_count": 21,
      "metadata": {
        "id": "W2WG7c1vrhXE",
        "outputId": "22443d5e-829e-4913-dad2-0beeaec63d9f"
      },
      "outputs": [
        {
          "name": "stdout",
          "output_type": "stream",
          "text": [
            "INFO:tensorflow:Assets written to: saved_model\\assets\n"
          ]
        },
        {
          "name": "stderr",
          "output_type": "stream",
          "text": [
            "INFO:tensorflow:Assets written to: saved_model\\assets\n"
          ]
        },
        {
          "name": "stdout",
          "output_type": "stream",
          "text": [
            "Saved artifact at 'saved_model'. The following endpoints are available:\n",
            "\n",
            "* Endpoint 'serve'\n",
            "  args_0 (POSITIONAL_ONLY): TensorSpec(shape=(None, 3864), dtype=tf.float32, name='input_layer_2')\n",
            "Output Type:\n",
            "  TensorSpec(shape=(None, 36), dtype=tf.float32, name=None)\n",
            "Captures:\n",
            "  2040893729552: TensorSpec(shape=(), dtype=tf.resource, name=None)\n",
            "  2040893734160: TensorSpec(shape=(), dtype=tf.resource, name=None)\n",
            "  2040955717392: TensorSpec(shape=(), dtype=tf.resource, name=None)\n",
            "  2040955716624: TensorSpec(shape=(), dtype=tf.resource, name=None)\n",
            "  2040955718544: TensorSpec(shape=(), dtype=tf.resource, name=None)\n",
            "  2040955717776: TensorSpec(shape=(), dtype=tf.resource, name=None)\n",
            "  2040955716816: TensorSpec(shape=(), dtype=tf.resource, name=None)\n",
            "  2040955718928: TensorSpec(shape=(), dtype=tf.resource, name=None)\n"
          ]
        }
      ],
      "source": [
        "#Codigo adaptado a partir da documentação do tensoflow\n",
        "#Fonte: MediaPipe Authors. (2020). MediaPipe Python (Version 2.0) [Source code]. Retrieved from https://www.tensorflow.org/lite/convert?hl=pt-br\n",
        "\n",
        "\n",
        "# Exportar o modelo Keras para o formato de modelo salvo\n",
        "model.export(\"saved_model\")\n",
        "\n",
        "# Converter o modelo salvo para TensorFlow Lite\n",
        "converter = tf.lite.TFLiteConverter.from_saved_model(\"saved_model\")\n",
        "tflite_model = converter.convert()\n",
        "\n",
        "# Salvar o modelo TensorFlow Lite em um arquivo\n",
        "with open(tflite_save_path, \"wb\") as f:\n",
        "    f.write(tflite_model)\n"
      ]
    }
  ],
  "metadata": {
    "colab": {
      "provenance": []
    },
    "kernelspec": {
      "display_name": "Python 3",
      "language": "python",
      "name": "python3"
    },
    "language_info": {
      "codemirror_mode": {
        "name": "ipython",
        "version": 3
      },
      "file_extension": ".py",
      "mimetype": "text/x-python",
      "name": "python",
      "nbconvert_exporter": "python",
      "pygments_lexer": "ipython3",
      "version": "3.12.3"
    }
  },
  "nbformat": 4,
  "nbformat_minor": 0
}
