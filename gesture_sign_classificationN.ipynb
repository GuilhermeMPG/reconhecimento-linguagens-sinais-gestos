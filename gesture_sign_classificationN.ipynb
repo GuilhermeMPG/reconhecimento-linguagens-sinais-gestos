{
  "cells": [
    {
      "cell_type": "code",
      "execution_count": 140,
      "metadata": {
        "id": "_AGA2lv1rhW_"
      },
      "outputs": [],
      "source": [
        "# Código adaptado em Jupyter Notebook com base nos materiais disponibilizados pelo professor, juntamente com exemplos do próprio TensorFlow. \n",
        "# O TensorFlow é uma biblioteca popular para aprendizado de máquina e pode ser encontrado na sua documentação oficial.\n",
        "\n",
        "import csv\n",
        "from tensorflow.keras.layers import LeakyReLU\n",
        "from tensorflow.keras.regularizers import l2\n",
        "import numpy as np\n",
        "import tensorflow as tf\n",
        "from sklearn.model_selection import train_test_split\n",
        "\n",
        "RANDOM_SEED = 1024"
      ]
    },
    {
      "cell_type": "markdown",
      "metadata": {
        "id": "ZDguXYmFrhXA"
      },
      "source": [
        "Especifique cada caminho\n"
      ]
    },
    {
      "cell_type": "code",
      "execution_count": 141,
      "metadata": {
        "id": "9Z7Z9w_srhXB"
      },
      "outputs": [],
      "source": [
        "dataset = 'model/gesture_sign_classifier/gesture_sign_history.csv'\n",
        "model_save_path = 'model/gesture_sign_classifier/gesture_sign_classifier.keras'"
      ]
    },
    {
      "cell_type": "markdown",
      "metadata": {
        "id": "h8LgLD1YrhXB"
      },
      "source": [
        "Configuração do número de classificação"
      ]
    },
    {
      "cell_type": "code",
      "execution_count": 142,
      "metadata": {
        "id": "kP5mq1g0rhXB"
      },
      "outputs": [],
      "source": [
        "NUM_CLASSES = 36"
      ]
    },
    {
      "cell_type": "markdown",
      "metadata": {
        "id": "lu74KcO1rhXB"
      },
      "source": [
        "Comprimento de entrada"
      ]
    },
    {
      "cell_type": "code",
      "execution_count": 143,
      "metadata": {
        "id": "NryeSr5PrhXB"
      },
      "outputs": [],
      "source": [
        "TIME_STEPS = 966\n",
        "DIMENSION = 4"
      ]
    },
    {
      "cell_type": "markdown",
      "metadata": {
        "id": "QmvvxgHArhXB"
      },
      "source": [
        "Carregar dados de aprendizagem\n",
        "\n"
      ]
    },
    {
      "cell_type": "code",
      "execution_count": 144,
      "metadata": {
        "id": "tmLPKtslrhXB"
      },
      "outputs": [],
      "source": [
        "X_dataset = np.loadtxt(dataset, delimiter=',', dtype='float32', usecols=list(range(1, (TIME_STEPS * DIMENSION) + 1)))"
      ]
    },
    {
      "cell_type": "code",
      "execution_count": 145,
      "metadata": {
        "id": "ZpRwynpqrhXC"
      },
      "outputs": [],
      "source": [
        "y_dataset = np.loadtxt(dataset, delimiter=',', dtype='int32', usecols=(0))"
      ]
    },
    {
      "cell_type": "code",
      "execution_count": 146,
      "metadata": {
        "id": "h36-2dPHrhXC"
      },
      "outputs": [
        {
          "name": "stdout",
          "output_type": "stream",
          "text": [
            "Tamanho do conjunto de treino: 11143\n",
            "Tamanho do conjunto de validação: 2388\n",
            "Tamanho do conjunto de teste: 2388\n"
          ]
        }
      ],
      "source": [
        "# Dividindo os dados em 70% treino e 30% (teste + validação)\n",
        "X_train, X_test_val, y_train, y_test_val = train_test_split(X_dataset, y_dataset, train_size=0.70, random_state=RANDOM_SEED)\n",
        "\n",
        "# Dividindo os 30% em 15% validação e 15% teste\n",
        "X_test, X_val, y_test, y_val = train_test_split(X_test_val, y_test_val, test_size=0.5, random_state=RANDOM_SEED)\n",
        "\n",
        "# Exibindo a quantidade de dados em cada conjunto\n",
        "print(f'Tamanho do conjunto de treino: {len(X_train)}')\n",
        "print(f'Tamanho do conjunto de validação: {len(X_val)}')\n",
        "print(f'Tamanho do conjunto de teste: {len(X_test)}')"
      ]
    },
    {
      "cell_type": "markdown",
      "metadata": {
        "id": "tZU0U_k3rhXC"
      },
      "source": [
        "Construção de modelo"
      ]
    },
    {
      "cell_type": "code",
      "execution_count": 147,
      "metadata": {
        "id": "sQJFryxyrhXC"
      },
      "outputs": [
        {
          "name": "stderr",
          "output_type": "stream",
          "text": [
            "c:\\Users\\Guilherme\\AppData\\Local\\Programs\\Python\\Python312\\Lib\\site-packages\\keras\\src\\layers\\core\\input_layer.py:25: UserWarning: Argument `input_shape` is deprecated. Use `shape` instead.\n",
            "  warnings.warn(\n"
          ]
        }
      ],
      "source": [
        "use_lstm = False\n",
        "model = None\n",
        "# Adicionar mais camadas densas pode ajudar o modelo a aprender representações mais complexas.\n",
        "model = tf.keras.models.Sequential([\n",
        "    tf.keras.layers.InputLayer(input_shape=(TIME_STEPS * DIMENSION, )),\n",
        "    tf.keras.layers.Dense(512, activation='relu', kernel_initializer=tf.keras.initializers.HeNormal(seed=RANDOM_SEED)),\n",
        "    tf.keras.layers.Dropout(0.5, seed=RANDOM_SEED),\n",
        "    tf.keras.layers.Dense(256, activation='relu', kernel_initializer=tf.keras.initializers.HeNormal(seed=RANDOM_SEED)),\n",
        "    tf.keras.layers.Dropout(0.5, seed=RANDOM_SEED),\n",
        "    tf.keras.layers.Dense(128, activation='relu', kernel_initializer=tf.keras.initializers.HeNormal(seed=RANDOM_SEED)),\n",
        "    tf.keras.layers.Dense(NUM_CLASSES, activation='softmax')\n",
        "])\n",
        "# model = tf.keras.models.Sequential([\n",
        "#     tf.keras.layers.InputLayer(input_shape=(1974, 1)),\n",
        "#     tf.keras.layers.LSTM(128, return_sequences=True),\n",
        "#     tf.keras.layers.LSTM(64),\n",
        "#     tf.keras.layers.Dense(32, activation='relu'),\n",
        "#     tf.keras.layers.Dense(NUM_CLASSES, activation='softmax')\n",
        "# ])\n",
        "# model = tf.keras.models.Sequential([\n",
        "#     tf.keras.layers.InputLayer(input_shape=(TIME_STEPS * DIMENSION , )),\n",
        "#     tf.keras.layers.Dense(512, kernel_initializer=tf.keras.initializers.HeNormal(seed=RANDOM_SEED)),\n",
        "#     tf.keras.layers.LeakyReLU(),\n",
        "#     tf.keras.layers.Dropout(0.5, seed=RANDOM_SEED),\n",
        "#     tf.keras.layers.Dense(256, kernel_initializer=tf.keras.initializers.HeNormal(seed=RANDOM_SEED)),\n",
        "#     tf.keras.layers.LeakyReLU(),\n",
        "#     tf.keras.layers.Dropout(0.5, seed=RANDOM_SEED),\n",
        "#     tf.keras.layers.Dense(128, kernel_initializer=tf.keras.initializers.HeNormal(seed=RANDOM_SEED)),\n",
        "#     tf.keras.layers.LeakyReLU(),\n",
        "#     tf.keras.layers.Dense(NUM_CLASSES, activation='softmax')\n",
        "# ])\n",
        "# model = tf.keras.models.Sequential([\n",
        "#     tf.keras.layers.InputLayer(input_shape=(TIME_STEPS * DIMENSION, )),\n",
        "#     tf.keras.layers.Dense(512, activation='relu', kernel_regularizer=l2(0.001), kernel_initializer=tf.keras.initializers.HeNormal(seed=RANDOM_SEED)),\n",
        "#     tf.keras.layers.Dropout(0.5, seed=RANDOM_SEED),\n",
        "#     tf.keras.layers.Dense(256, activation='relu', kernel_regularizer=l2(0.001), kernel_initializer=tf.keras.initializers.HeNormal(seed=RANDOM_SEED)),\n",
        "#     tf.keras.layers.Dropout(0.5, seed=RANDOM_SEED),\n",
        "#     tf.keras.layers.Dense(128, activation='relu', kernel_regularizer=l2(0.001), kernel_initializer=tf.keras.initializers.HeNormal(seed=RANDOM_SEED)),\n",
        "#     tf.keras.layers.Dense(NUM_CLASSES, activation='softmax')\n",
        "# ])\n",
        "# if use_lstm:\n",
        "#     model = tf.keras.models.Sequential([\n",
        "#         tf.keras.layers.InputLayer(input_shape=(TIME_STEPS * DIMENSION, )),\n",
        "#         tf.keras.layers.Reshape((TIME_STEPS, DIMENSION), input_shape=(TIME_STEPS * DIMENSION, )),\n",
        "#         tf.keras.layers.Dropout(0.2),\n",
        "#         tf.keras.layers.LSTM(16, input_shape=[TIME_STEPS, DIMENSION]),\n",
        "#         tf.keras.layers.Dropout(0.5),\n",
        "#         tf.keras.layers.Dense(10, activation='relu'),\n",
        "#         tf.keras.layers.Dense(NUM_CLASSES, activation='softmax')\n",
        "#     ])\n",
        "# else:\n",
        "\n",
        "# model = tf.keras.models.Sequential([\n",
        "#         tf.keras.layers.InputLayer(input_shape=(TIME_STEPS * DIMENSION, )),        \n",
        "#         tf.keras.layers.Dropout(0.5),\n",
        "#         tf.keras.layers.Dense(256, activation='relu'),\n",
        "#         tf.keras.layers.Dropout(0.5),\n",
        "#         tf.keras.layers.Dense(128, activation='relu'),\n",
        "        \n",
        "#         tf.keras.layers.Dense(NUM_CLASSES, activation='softmax')\n",
        "#     ])"
      ]
    },
    {
      "cell_type": "code",
      "execution_count": 148,
      "metadata": {
        "id": "z2NoizMyrhXC",
        "outputId": "15fcaefa-de1e-4e2f-e177-9c1b4913a645"
      },
      "outputs": [
        {
          "data": {
            "text/html": [
              "<pre style=\"white-space:pre;overflow-x:auto;line-height:normal;font-family:Menlo,'DejaVu Sans Mono',consolas,'Courier New',monospace\"><span style=\"font-weight: bold\">Model: \"sequential_6\"</span>\n",
              "</pre>\n"
            ],
            "text/plain": [
              "\u001b[1mModel: \"sequential_6\"\u001b[0m\n"
            ]
          },
          "metadata": {},
          "output_type": "display_data"
        },
        {
          "data": {
            "text/html": [
              "<pre style=\"white-space:pre;overflow-x:auto;line-height:normal;font-family:Menlo,'DejaVu Sans Mono',consolas,'Courier New',monospace\">┏━━━━━━━━━━━━━━━━━━━━━━━━━━━━━━━━━┳━━━━━━━━━━━━━━━━━━━━━━━━┳━━━━━━━━━━━━━━━┓\n",
              "┃<span style=\"font-weight: bold\"> Layer (type)                    </span>┃<span style=\"font-weight: bold\"> Output Shape           </span>┃<span style=\"font-weight: bold\">       Param # </span>┃\n",
              "┡━━━━━━━━━━━━━━━━━━━━━━━━━━━━━━━━━╇━━━━━━━━━━━━━━━━━━━━━━━━╇━━━━━━━━━━━━━━━┩\n",
              "│ dense_24 (<span style=\"color: #0087ff; text-decoration-color: #0087ff\">Dense</span>)                │ (<span style=\"color: #00d7ff; text-decoration-color: #00d7ff\">None</span>, <span style=\"color: #00af00; text-decoration-color: #00af00\">512</span>)            │     <span style=\"color: #00af00; text-decoration-color: #00af00\">1,978,880</span> │\n",
              "├─────────────────────────────────┼────────────────────────┼───────────────┤\n",
              "│ dropout_12 (<span style=\"color: #0087ff; text-decoration-color: #0087ff\">Dropout</span>)            │ (<span style=\"color: #00d7ff; text-decoration-color: #00d7ff\">None</span>, <span style=\"color: #00af00; text-decoration-color: #00af00\">512</span>)            │             <span style=\"color: #00af00; text-decoration-color: #00af00\">0</span> │\n",
              "├─────────────────────────────────┼────────────────────────┼───────────────┤\n",
              "│ dense_25 (<span style=\"color: #0087ff; text-decoration-color: #0087ff\">Dense</span>)                │ (<span style=\"color: #00d7ff; text-decoration-color: #00d7ff\">None</span>, <span style=\"color: #00af00; text-decoration-color: #00af00\">256</span>)            │       <span style=\"color: #00af00; text-decoration-color: #00af00\">131,328</span> │\n",
              "├─────────────────────────────────┼────────────────────────┼───────────────┤\n",
              "│ dropout_13 (<span style=\"color: #0087ff; text-decoration-color: #0087ff\">Dropout</span>)            │ (<span style=\"color: #00d7ff; text-decoration-color: #00d7ff\">None</span>, <span style=\"color: #00af00; text-decoration-color: #00af00\">256</span>)            │             <span style=\"color: #00af00; text-decoration-color: #00af00\">0</span> │\n",
              "├─────────────────────────────────┼────────────────────────┼───────────────┤\n",
              "│ dense_26 (<span style=\"color: #0087ff; text-decoration-color: #0087ff\">Dense</span>)                │ (<span style=\"color: #00d7ff; text-decoration-color: #00d7ff\">None</span>, <span style=\"color: #00af00; text-decoration-color: #00af00\">128</span>)            │        <span style=\"color: #00af00; text-decoration-color: #00af00\">32,896</span> │\n",
              "├─────────────────────────────────┼────────────────────────┼───────────────┤\n",
              "│ dense_27 (<span style=\"color: #0087ff; text-decoration-color: #0087ff\">Dense</span>)                │ (<span style=\"color: #00d7ff; text-decoration-color: #00d7ff\">None</span>, <span style=\"color: #00af00; text-decoration-color: #00af00\">36</span>)             │         <span style=\"color: #00af00; text-decoration-color: #00af00\">4,644</span> │\n",
              "└─────────────────────────────────┴────────────────────────┴───────────────┘\n",
              "</pre>\n"
            ],
            "text/plain": [
              "┏━━━━━━━━━━━━━━━━━━━━━━━━━━━━━━━━━┳━━━━━━━━━━━━━━━━━━━━━━━━┳━━━━━━━━━━━━━━━┓\n",
              "┃\u001b[1m \u001b[0m\u001b[1mLayer (type)                   \u001b[0m\u001b[1m \u001b[0m┃\u001b[1m \u001b[0m\u001b[1mOutput Shape          \u001b[0m\u001b[1m \u001b[0m┃\u001b[1m \u001b[0m\u001b[1m      Param #\u001b[0m\u001b[1m \u001b[0m┃\n",
              "┡━━━━━━━━━━━━━━━━━━━━━━━━━━━━━━━━━╇━━━━━━━━━━━━━━━━━━━━━━━━╇━━━━━━━━━━━━━━━┩\n",
              "│ dense_24 (\u001b[38;5;33mDense\u001b[0m)                │ (\u001b[38;5;45mNone\u001b[0m, \u001b[38;5;34m512\u001b[0m)            │     \u001b[38;5;34m1,978,880\u001b[0m │\n",
              "├─────────────────────────────────┼────────────────────────┼───────────────┤\n",
              "│ dropout_12 (\u001b[38;5;33mDropout\u001b[0m)            │ (\u001b[38;5;45mNone\u001b[0m, \u001b[38;5;34m512\u001b[0m)            │             \u001b[38;5;34m0\u001b[0m │\n",
              "├─────────────────────────────────┼────────────────────────┼───────────────┤\n",
              "│ dense_25 (\u001b[38;5;33mDense\u001b[0m)                │ (\u001b[38;5;45mNone\u001b[0m, \u001b[38;5;34m256\u001b[0m)            │       \u001b[38;5;34m131,328\u001b[0m │\n",
              "├─────────────────────────────────┼────────────────────────┼───────────────┤\n",
              "│ dropout_13 (\u001b[38;5;33mDropout\u001b[0m)            │ (\u001b[38;5;45mNone\u001b[0m, \u001b[38;5;34m256\u001b[0m)            │             \u001b[38;5;34m0\u001b[0m │\n",
              "├─────────────────────────────────┼────────────────────────┼───────────────┤\n",
              "│ dense_26 (\u001b[38;5;33mDense\u001b[0m)                │ (\u001b[38;5;45mNone\u001b[0m, \u001b[38;5;34m128\u001b[0m)            │        \u001b[38;5;34m32,896\u001b[0m │\n",
              "├─────────────────────────────────┼────────────────────────┼───────────────┤\n",
              "│ dense_27 (\u001b[38;5;33mDense\u001b[0m)                │ (\u001b[38;5;45mNone\u001b[0m, \u001b[38;5;34m36\u001b[0m)             │         \u001b[38;5;34m4,644\u001b[0m │\n",
              "└─────────────────────────────────┴────────────────────────┴───────────────┘\n"
            ]
          },
          "metadata": {},
          "output_type": "display_data"
        },
        {
          "data": {
            "text/html": [
              "<pre style=\"white-space:pre;overflow-x:auto;line-height:normal;font-family:Menlo,'DejaVu Sans Mono',consolas,'Courier New',monospace\"><span style=\"font-weight: bold\"> Total params: </span><span style=\"color: #00af00; text-decoration-color: #00af00\">2,147,748</span> (8.19 MB)\n",
              "</pre>\n"
            ],
            "text/plain": [
              "\u001b[1m Total params: \u001b[0m\u001b[38;5;34m2,147,748\u001b[0m (8.19 MB)\n"
            ]
          },
          "metadata": {},
          "output_type": "display_data"
        },
        {
          "data": {
            "text/html": [
              "<pre style=\"white-space:pre;overflow-x:auto;line-height:normal;font-family:Menlo,'DejaVu Sans Mono',consolas,'Courier New',monospace\"><span style=\"font-weight: bold\"> Trainable params: </span><span style=\"color: #00af00; text-decoration-color: #00af00\">2,147,748</span> (8.19 MB)\n",
              "</pre>\n"
            ],
            "text/plain": [
              "\u001b[1m Trainable params: \u001b[0m\u001b[38;5;34m2,147,748\u001b[0m (8.19 MB)\n"
            ]
          },
          "metadata": {},
          "output_type": "display_data"
        },
        {
          "data": {
            "text/html": [
              "<pre style=\"white-space:pre;overflow-x:auto;line-height:normal;font-family:Menlo,'DejaVu Sans Mono',consolas,'Courier New',monospace\"><span style=\"font-weight: bold\"> Non-trainable params: </span><span style=\"color: #00af00; text-decoration-color: #00af00\">0</span> (0.00 B)\n",
              "</pre>\n"
            ],
            "text/plain": [
              "\u001b[1m Non-trainable params: \u001b[0m\u001b[38;5;34m0\u001b[0m (0.00 B)\n"
            ]
          },
          "metadata": {},
          "output_type": "display_data"
        }
      ],
      "source": [
        "model.summary()  # tf.keras.utils.plot_model(model, show_shapes=True)"
      ]
    },
    {
      "cell_type": "code",
      "execution_count": 149,
      "metadata": {
        "id": "VU9Z7Ns5rhXC"
      },
      "outputs": [],
      "source": [
        "#Callback para checkpoint do modelo\n",
        "cp_callback = tf.keras.callbacks.ModelCheckpoint(\n",
        "  model_save_path, verbose=1, save_weights_only=False)\n",
        "\n",
        "#Callback para parada antecipada\n",
        "es_callback = tf.keras.callbacks.EarlyStopping(patience=20, verbose=1)"
      ]
    },
    {
      "cell_type": "code",
      "execution_count": 150,
      "metadata": {
        "colab": {
          "base_uri": "https://localhost:8080/",
          "height": 211
        },
        "id": "bg5jQdiTrhXD",
        "outputId": "402cad72-f6c6-4273-e613-f101e0ad9779"
      },
      "outputs": [],
      "source": [
        "#Compilação do modelo\n",
        "model.compile(\n",
        "    optimizer=tf.keras.optimizers.Adam(learning_rate=0.001),\n",
        "    loss='sparse_categorical_crossentropy',\n",
        "    metrics=['accuracy']\n",
        ")\n",
        "\n"
      ]
    },
    {
      "cell_type": "markdown",
      "metadata": {
        "id": "9Q4HsdQmrhXD"
      },
      "source": [
        "Treinamento do modelo"
      ]
    },
    {
      "cell_type": "code",
      "execution_count": 151,
      "metadata": {
        "id": "8OmaPJjtrhXD",
        "outputId": "cec74298-5773-48fc-fa4b-b01cf48ea269",
        "scrolled": true
      },
      "outputs": [
        {
          "name": "stdout",
          "output_type": "stream",
          "text": [
            "Epoch 1/10\n",
            "\u001b[1m173/175\u001b[0m \u001b[32m━━━━━━━━━━━━━━━━━━━\u001b[0m\u001b[37m━\u001b[0m \u001b[1m0s\u001b[0m 16ms/step - accuracy: 0.2328 - loss: 2.8261\n",
            "Epoch 1: saving model to model/gesture_sign_classifier/gesture_sign_classifier.keras\n",
            "\u001b[1m175/175\u001b[0m \u001b[32m━━━━━━━━━━━━━━━━━━━━\u001b[0m\u001b[37m\u001b[0m \u001b[1m5s\u001b[0m 17ms/step - accuracy: 0.2350 - loss: 2.8147 - val_accuracy: 0.7852 - val_loss: 0.6827\n",
            "Epoch 2/10\n",
            "\u001b[1m173/175\u001b[0m \u001b[32m━━━━━━━━━━━━━━━━━━━\u001b[0m\u001b[37m━\u001b[0m \u001b[1m0s\u001b[0m 15ms/step - accuracy: 0.6390 - loss: 0.9939\n",
            "Epoch 2: saving model to model/gesture_sign_classifier/gesture_sign_classifier.keras\n",
            "\u001b[1m175/175\u001b[0m \u001b[32m━━━━━━━━━━━━━━━━━━━━\u001b[0m\u001b[37m\u001b[0m \u001b[1m3s\u001b[0m 15ms/step - accuracy: 0.6397 - loss: 0.9916 - val_accuracy: 0.8706 - val_loss: 0.3027\n",
            "Epoch 3/10\n",
            "\u001b[1m173/175\u001b[0m \u001b[32m━━━━━━━━━━━━━━━━━━━\u001b[0m\u001b[37m━\u001b[0m \u001b[1m0s\u001b[0m 15ms/step - accuracy: 0.7665 - loss: 0.6310\n",
            "Epoch 3: saving model to model/gesture_sign_classifier/gesture_sign_classifier.keras\n",
            "\u001b[1m175/175\u001b[0m \u001b[32m━━━━━━━━━━━━━━━━━━━━\u001b[0m\u001b[37m\u001b[0m \u001b[1m3s\u001b[0m 16ms/step - accuracy: 0.7669 - loss: 0.6298 - val_accuracy: 0.9451 - val_loss: 0.1720\n",
            "Epoch 4/10\n",
            "\u001b[1m173/175\u001b[0m \u001b[32m━━━━━━━━━━━━━━━━━━━\u001b[0m\u001b[37m━\u001b[0m \u001b[1m0s\u001b[0m 15ms/step - accuracy: 0.8420 - loss: 0.4182\n",
            "Epoch 4: saving model to model/gesture_sign_classifier/gesture_sign_classifier.keras\n",
            "\u001b[1m175/175\u001b[0m \u001b[32m━━━━━━━━━━━━━━━━━━━━\u001b[0m\u001b[37m\u001b[0m \u001b[1m3s\u001b[0m 16ms/step - accuracy: 0.8422 - loss: 0.4179 - val_accuracy: 0.9765 - val_loss: 0.0995\n",
            "Epoch 5/10\n",
            "\u001b[1m174/175\u001b[0m \u001b[32m━━━━━━━━━━━━━━━━━━━\u001b[0m\u001b[37m━\u001b[0m \u001b[1m0s\u001b[0m 15ms/step - accuracy: 0.8681 - loss: 0.3647\n",
            "Epoch 5: saving model to model/gesture_sign_classifier/gesture_sign_classifier.keras\n",
            "\u001b[1m175/175\u001b[0m \u001b[32m━━━━━━━━━━━━━━━━━━━━\u001b[0m\u001b[37m\u001b[0m \u001b[1m3s\u001b[0m 16ms/step - accuracy: 0.8682 - loss: 0.3644 - val_accuracy: 0.9481 - val_loss: 0.1270\n",
            "Epoch 6/10\n",
            "\u001b[1m173/175\u001b[0m \u001b[32m━━━━━━━━━━━━━━━━━━━\u001b[0m\u001b[37m━\u001b[0m \u001b[1m0s\u001b[0m 15ms/step - accuracy: 0.8931 - loss: 0.2922\n",
            "Epoch 6: saving model to model/gesture_sign_classifier/gesture_sign_classifier.keras\n",
            "\u001b[1m175/175\u001b[0m \u001b[32m━━━━━━━━━━━━━━━━━━━━\u001b[0m\u001b[37m\u001b[0m \u001b[1m3s\u001b[0m 16ms/step - accuracy: 0.8932 - loss: 0.2918 - val_accuracy: 0.9108 - val_loss: 0.1591\n",
            "Epoch 7/10\n",
            "\u001b[1m175/175\u001b[0m \u001b[32m━━━━━━━━━━━━━━━━━━━━\u001b[0m\u001b[37m\u001b[0m \u001b[1m0s\u001b[0m 15ms/step - accuracy: 0.8876 - loss: 0.3109\n",
            "Epoch 7: saving model to model/gesture_sign_classifier/gesture_sign_classifier.keras\n",
            "\u001b[1m175/175\u001b[0m \u001b[32m━━━━━━━━━━━━━━━━━━━━\u001b[0m\u001b[37m\u001b[0m \u001b[1m3s\u001b[0m 16ms/step - accuracy: 0.8877 - loss: 0.3107 - val_accuracy: 0.9761 - val_loss: 0.0734\n",
            "Epoch 8/10\n",
            "\u001b[1m173/175\u001b[0m \u001b[32m━━━━━━━━━━━━━━━━━━━\u001b[0m\u001b[37m━\u001b[0m \u001b[1m0s\u001b[0m 15ms/step - accuracy: 0.9234 - loss: 0.2236\n",
            "Epoch 8: saving model to model/gesture_sign_classifier/gesture_sign_classifier.keras\n",
            "\u001b[1m175/175\u001b[0m \u001b[32m━━━━━━━━━━━━━━━━━━━━\u001b[0m\u001b[37m\u001b[0m \u001b[1m3s\u001b[0m 16ms/step - accuracy: 0.9234 - loss: 0.2235 - val_accuracy: 0.9929 - val_loss: 0.0458\n",
            "Epoch 9/10\n",
            "\u001b[1m172/175\u001b[0m \u001b[32m━━━━━━━━━━━━━━━━━━━\u001b[0m\u001b[37m━\u001b[0m \u001b[1m0s\u001b[0m 15ms/step - accuracy: 0.9348 - loss: 0.1780\n",
            "Epoch 9: saving model to model/gesture_sign_classifier/gesture_sign_classifier.keras\n",
            "\u001b[1m175/175\u001b[0m \u001b[32m━━━━━━━━━━━━━━━━━━━━\u001b[0m\u001b[37m\u001b[0m \u001b[1m3s\u001b[0m 17ms/step - accuracy: 0.9348 - loss: 0.1780 - val_accuracy: 0.9899 - val_loss: 0.0418\n",
            "Epoch 10/10\n",
            "\u001b[1m174/175\u001b[0m \u001b[32m━━━━━━━━━━━━━━━━━━━\u001b[0m\u001b[37m━\u001b[0m \u001b[1m0s\u001b[0m 16ms/step - accuracy: 0.9132 - loss: 0.2590\n",
            "Epoch 10: saving model to model/gesture_sign_classifier/gesture_sign_classifier.keras\n",
            "\u001b[1m175/175\u001b[0m \u001b[32m━━━━━━━━━━━━━━━━━━━━\u001b[0m\u001b[37m\u001b[0m \u001b[1m3s\u001b[0m 16ms/step - accuracy: 0.9134 - loss: 0.2586 - val_accuracy: 0.9916 - val_loss: 0.0397\n"
          ]
        },
        {
          "data": {
            "text/plain": [
              "<keras.src.callbacks.history.History at 0x19798652b40>"
            ]
          },
          "execution_count": 151,
          "metadata": {},
          "output_type": "execute_result"
        }
      ],
      "source": [
        "model.fit(\n",
        "    X_train,\n",
        "    y_train,\n",
        "    epochs=10,\n",
        "    batch_size=64,\n",
        "    validation_data=(X_val, y_val),\n",
        "    callbacks=[cp_callback, es_callback]\n",
        ")"
      ]
    },
    {
      "cell_type": "code",
      "execution_count": 152,
      "metadata": {
        "id": "yRTVe6NarhXD"
      },
      "outputs": [],
      "source": [
        "# Carregamento do modelo salvo\n",
        "model = tf.keras.models.load_model(model_save_path)"
      ]
    },
    {
      "cell_type": "code",
      "execution_count": 153,
      "metadata": {
        "id": "TwyIR1LWrhXD",
        "outputId": "3594d7db-9b97-4bb9-8586-d720d17b199a"
      },
      "outputs": [
        {
          "name": "stdout",
          "output_type": "stream",
          "text": [
            "\u001b[1m1/1\u001b[0m \u001b[32m━━━━━━━━━━━━━━━━━━━━\u001b[0m\u001b[37m\u001b[0m \u001b[1m0s\u001b[0m 44ms/step\n",
            "[3.4135787e-19 6.6599187e-12 1.6171613e-18 9.7858950e-11 1.2207883e-14\n",
            " 4.4360544e-13 9.0743649e-18 1.7079373e-20 4.1440172e-20 2.4094736e-16\n",
            " 2.7399233e-15 1.7007246e-23 2.6034955e-15 4.8559623e-14 4.0064730e-16\n",
            " 2.1371492e-19 1.0925079e-10 2.3215072e-13 1.9665691e-17 6.4905178e-13\n",
            " 1.0761497e-12 7.8041800e-12 9.9956805e-01 4.3173568e-04 1.6999380e-10\n",
            " 1.5336987e-07 7.9484606e-11 2.0086723e-16 1.2164325e-14 8.1939956e-20\n",
            " 1.6394712e-20 1.1987920e-17 1.6414353e-21 4.9896972e-11 1.7588439e-14\n",
            " 1.2631003e-11]\n",
            "22\n"
          ]
        }
      ],
      "source": [
        "# Teste de inferência\n",
        "predict_result = model.predict(np.array([X_test[0]]))\n",
        "print(np.squeeze(predict_result))\n",
        "print(np.argmax(np.squeeze(predict_result)))"
      ]
    },
    {
      "cell_type": "markdown",
      "metadata": {
        "id": "6OuS9YGOrhXD"
      },
      "source": [
        "Linhas mistas"
      ]
    },
    {
      "cell_type": "code",
      "execution_count": 154,
      "metadata": {
        "id": "bGAmJ3i3rhXD",
        "outputId": "a4e0c646-1592-4f85-ce47-d0a8ff89ad4f"
      },
      "outputs": [
        {
          "name": "stdout",
          "output_type": "stream",
          "text": [
            "\u001b[1m75/75\u001b[0m \u001b[32m━━━━━━━━━━━━━━━━━━━━\u001b[0m\u001b[37m\u001b[0m \u001b[1m0s\u001b[0m 2ms/step\n"
          ]
        },
        {
          "data": {
            "image/png": "[encoded data removed]",
            "text/plain": [
              "<Figure size 700x600 with 2 Axes>"
            ]
          },
          "metadata": {},
          "output_type": "display_data"
        },
        {
          "name": "stdout",
          "output_type": "stream",
          "text": [
            "Classification Report\n",
            "              precision    recall  f1-score   support\n",
            "\n",
            "           1       1.00      1.00      1.00        17\n",
            "           2       1.00      1.00      1.00        20\n",
            "           3       1.00      1.00      1.00        18\n",
            "           4       1.00      1.00      1.00        14\n",
            "           5       1.00      1.00      1.00        12\n",
            "          10       1.00      1.00      1.00       165\n",
            "          11       1.00      1.00      1.00       149\n",
            "          12       0.92      0.99      0.95       134\n",
            "          13       1.00      1.00      1.00       111\n",
            "          14       1.00      1.00      1.00        98\n",
            "          15       1.00      0.97      0.99        79\n",
            "          16       1.00      0.99      0.99        97\n",
            "          17       0.97      0.95      0.96        40\n",
            "          18       0.99      1.00      1.00       110\n",
            "          19       1.00      0.95      0.97        19\n",
            "          20       1.00      1.00      1.00        20\n",
            "          21       1.00      1.00      1.00        92\n",
            "          22       0.99      1.00      1.00       102\n",
            "          23       1.00      0.99      0.99        89\n",
            "          24       1.00      0.85      0.92        71\n",
            "          25       0.97      1.00      0.98       111\n",
            "          26       1.00      1.00      1.00       104\n",
            "          27       1.00      0.99      0.99        99\n",
            "          28       1.00      1.00      1.00       102\n",
            "          29       0.98      1.00      0.99       106\n",
            "          30       0.99      1.00      0.99        98\n",
            "          31       1.00      1.00      1.00        88\n",
            "          32       1.00      1.00      1.00        85\n",
            "          33       1.00      1.00      1.00        13\n",
            "          34       1.00      1.00      1.00       104\n",
            "          35       1.00      1.00      1.00        21\n",
            "\n",
            "    accuracy                           0.99      2388\n",
            "   macro avg       0.99      0.99      0.99      2388\n",
            "weighted avg       0.99      0.99      0.99      2388\n",
            "\n"
          ]
        }
      ],
      "source": [
        "#O código abaixo foi adaptado a partir da seguinte resposta do Stack Overflow:\n",
        "# Fonte: Stack Overflow Users. (2018). Stack Overflow. \n",
        "# Retrieved from https://stackoverflow.com/questions/50443411/how-to-load-a-tflite-model-in-script\n",
        "import pandas as pd\n",
        "import seaborn as sns\n",
        "import matplotlib.pyplot as plt\n",
        "from sklearn.metrics import confusion_matrix, classification_report\n",
        "\n",
        "def print_confusion_matrix(y_true, y_pred, report=True):\n",
        "    labels = sorted(list(set(y_true)))\n",
        "    cmx_data = confusion_matrix(y_true, y_pred, labels=labels)\n",
        "\n",
        "    df_cmx = pd.DataFrame(cmx_data, index=labels, columns=labels)\n",
        "\n",
        "    fig, ax = plt.subplots(figsize=(7, 6))\n",
        "    sns.heatmap(df_cmx, annot=True, fmt='g' ,square=False)\n",
        "    ax.set_ylim(len(set(y_true)), 0)\n",
        "    plt.show()\n",
        "\n",
        "    if report:\n",
        "        print('Classification Report')\n",
        "        print(classification_report(y_test, y_pred))\n",
        "\n",
        "Y_pred = model.predict(X_test)\n",
        "y_pred = np.argmax(Y_pred, axis=1)\n",
        "\n",
        "print_confusion_matrix(y_test, y_pred)"
      ]
    },
    {
      "cell_type": "markdown",
      "metadata": {
        "id": "a6brrSFLrhXD"
      },
      "source": [
        "Converter em modelo para Tensorflow-Lite"
      ]
    },
    {
      "cell_type": "code",
      "execution_count": 155,
      "metadata": {
        "id": "TWV8XN7rrhXD"
      },
      "outputs": [],
      "source": [
        "# Salvando como modelo apenas para inferência\n",
        "model.save(model_save_path, include_optimizer=False)\n",
        "model = tf.keras.models.load_model(model_save_path)"
      ]
    },
    {
      "cell_type": "code",
      "execution_count": 156,
      "metadata": {
        "id": "OULJmjNlrhXE"
      },
      "outputs": [],
      "source": [
        "tflite_save_path = 'model/gesture_sign_classifier/gesture_sign_classifier.tflite'"
      ]
    },
    {
      "cell_type": "code",
      "execution_count": 157,
      "metadata": {
        "id": "W2WG7c1vrhXE",
        "outputId": "22443d5e-829e-4913-dad2-0beeaec63d9f"
      },
      "outputs": [
        {
          "name": "stdout",
          "output_type": "stream",
          "text": [
            "INFO:tensorflow:Assets written to: saved_model\\assets\n"
          ]
        },
        {
          "name": "stderr",
          "output_type": "stream",
          "text": [
            "INFO:tensorflow:Assets written to: saved_model\\assets\n"
          ]
        },
        {
          "name": "stdout",
          "output_type": "stream",
          "text": [
            "Saved artifact at 'saved_model'. The following endpoints are available:\n",
            "\n",
            "* Endpoint 'serve'\n",
            "  args_0 (POSITIONAL_ONLY): TensorSpec(shape=(None, 3864), dtype=tf.float32, name='input_layer_6')\n",
            "Output Type:\n",
            "  TensorSpec(shape=(None, 36), dtype=tf.float32, name=None)\n",
            "Captures:\n",
            "  1751205601232: TensorSpec(shape=(), dtype=tf.resource, name=None)\n",
            "  1751205604880: TensorSpec(shape=(), dtype=tf.resource, name=None)\n",
            "  1751205606032: TensorSpec(shape=(), dtype=tf.resource, name=None)\n",
            "  1751205599696: TensorSpec(shape=(), dtype=tf.resource, name=None)\n",
            "  1751205604112: TensorSpec(shape=(), dtype=tf.resource, name=None)\n",
            "  1751205594320: TensorSpec(shape=(), dtype=tf.resource, name=None)\n",
            "  1751205604688: TensorSpec(shape=(), dtype=tf.resource, name=None)\n",
            "  1750849351376: TensorSpec(shape=(), dtype=tf.resource, name=None)\n"
          ]
        }
      ],
      "source": [
        "#Codigo adaptado a partir da documentação do tensoflow\n",
        "#Fonte: MediaPipe Authors. (2020). MediaPipe Python (Version 2.0) [Source code]. Retrieved from https://www.tensorflow.org/lite/convert?hl=pt-br\n",
        "\n",
        "\n",
        "# Exportar o modelo Keras para o formato de modelo salvo\n",
        "model.export(\"saved_model\")\n",
        "\n",
        "# Converter o modelo salvo para TensorFlow Lite\n",
        "converter = tf.lite.TFLiteConverter.from_saved_model(\"saved_model\")\n",
        "tflite_model = converter.convert()\n",
        "\n",
        "# Salvar o modelo TensorFlow Lite em um arquivo\n",
        "with open(tflite_save_path, \"wb\") as f:\n",
        "    f.write(tflite_model)\n"
      ]
    },
    {
      "cell_type": "markdown",
      "metadata": {
        "id": "qER9pC2OrhXE"
      },
      "source": [
        "Teste de raciocínio"
      ]
    },
    {
      "cell_type": "code",
      "execution_count": 158,
      "metadata": {
        "id": "BFt9SIMDrhXE"
      },
      "outputs": [],
      "source": [
        "# Inicialização do modelo TFLite\n",
        "# Código alterado a partir de: https://www.tensorflow.org/lite/guide/inference?hl=pt-br#load_and_run_a_model_in_python\n",
        "interpreter = tf.lite.Interpreter(model_path=tflite_save_path)\n",
        "interpreter.allocate_tensors()"
      ]
    },
    {
      "cell_type": "code",
      "execution_count": 159,
      "metadata": {
        "id": "eWgztI8vrhXE",
        "outputId": "441f3e59-7618-43d6-e1cf-62f9e6aec8bb"
      },
      "outputs": [
        {
          "name": "stdout",
          "output_type": "stream",
          "text": [
            "[{'name': 'serving_default_input_layer_6:0', 'index': 0, 'shape': array([   1, 3864]), 'shape_signature': array([  -1, 3864]), 'dtype': <class 'numpy.float32'>, 'quantization': (0.0, 0), 'quantization_parameters': {'scales': array([], dtype=float32), 'zero_points': array([], dtype=int32), 'quantized_dimension': 0}, 'sparsity_parameters': {}}]\n"
          ]
        }
      ],
      "source": [
        "# Obter detalhes de entrada e saída\n",
        "input_details = interpreter.get_input_details()\n",
        "output_details = interpreter.get_output_details()\n",
        "print(input_details)"
      ]
    },
    {
      "cell_type": "code",
      "execution_count": 160,
      "metadata": {
        "id": "oYbVszLwrhXE"
      },
      "outputs": [],
      "source": [
        "interpreter.set_tensor(input_details[0]['index'], np.array([X_test[0]]))"
      ]
    },
    {
      "cell_type": "code",
      "execution_count": 161,
      "metadata": {
        "id": "lOpwySX8rhXE",
        "outputId": "95da68e5-ac11-4a73-dd81-6b1ae1a29fd3"
      },
      "outputs": [
        {
          "name": "stdout",
          "output_type": "stream",
          "text": [
            "CPU times: total: 0 ns\n",
            "Wall time: 999 µs\n"
          ]
        }
      ],
      "source": [
        "%%time\n",
        "# Realizar inferência\n",
        "interpreter.invoke()\n",
        "tflite_results = interpreter.get_tensor(output_details[0]['index'])"
      ]
    },
    {
      "cell_type": "code",
      "execution_count": 162,
      "metadata": {
        "id": "g8s4CjivrhXE",
        "outputId": "65bbcfbf-68e7-4d61-e4f6-04570add1f83"
      },
      "outputs": [
        {
          "name": "stdout",
          "output_type": "stream",
          "text": [
            "[3.4135782e-19 6.6599183e-12 1.6171611e-18 9.7859131e-11 1.2207928e-14\n",
            " 4.4360538e-13 9.0743641e-18 1.7079372e-20 4.1440169e-20 2.4094734e-16\n",
            " 2.7399335e-15 1.7007178e-23 2.6034854e-15 4.8559620e-14 4.0064878e-16\n",
            " 2.1371489e-19 1.0925099e-10 2.3215159e-13 1.9665688e-17 6.4905297e-13\n",
            " 1.0761518e-12 7.8041939e-12 9.9956805e-01 4.3173486e-04 1.6999314e-10\n",
            " 1.5336971e-07 7.9484447e-11 2.0086721e-16 1.2164323e-14 8.1939949e-20\n",
            " 1.6394708e-20 1.1987873e-17 1.6414225e-21 4.9896969e-11 1.7588471e-14\n",
            " 1.2631074e-11]\n",
            "22\n"
          ]
        }
      ],
      "source": [
        "print(np.squeeze(tflite_results))\n",
        "print(np.argmax(np.squeeze(tflite_results)))"
      ]
    }
  ],
  "metadata": {
    "colab": {
      "provenance": []
    },
    "kernelspec": {
      "display_name": "Python 3",
      "language": "python",
      "name": "python3"
    },
    "language_info": {
      "codemirror_mode": {
        "name": "ipython",
        "version": 3
      },
      "file_extension": ".py",
      "mimetype": "text/x-python",
      "name": "python",
      "nbconvert_exporter": "python",
      "pygments_lexer": "ipython3",
      "version": "3.12.3"
    }
  },
  "nbformat": 4,
  "nbformat_minor": 0
}
