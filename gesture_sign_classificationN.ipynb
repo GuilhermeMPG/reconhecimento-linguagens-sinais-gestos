{
  "cells": [
    {
      "cell_type": "code",
      "execution_count": 2,
      "metadata": {
        "id": "_AGA2lv1rhW_"
      },
      "outputs": [],
      "source": [
        "# Código adaptado em Jupyter Notebook com base nos materiais disponibilizados pelo professor, juntamente com exemplos do próprio TensorFlow. \n",
        "# O TensorFlow é uma biblioteca popular para aprendizado de máquina e pode ser encontrado na sua documentação oficial.\n",
        "import numpy as np\n",
        "import tensorflow as tf\n",
        "from sklearn.model_selection import train_test_split\n",
        "\n",
        "RANDOM_SEED = 1024"
      ]
    },
    {
      "cell_type": "markdown",
      "metadata": {
        "id": "ZDguXYmFrhXA"
      },
      "source": [
        "Especifique cada caminho\n"
      ]
    },
    {
      "cell_type": "code",
      "execution_count": 3,
      "metadata": {
        "id": "9Z7Z9w_srhXB"
      },
      "outputs": [],
      "source": [
        "dataset = 'model/gesture_sign_classifier/gesture_sign_history.csv'\n",
        "model_save_path = 'model/gesture_sign_classifier/gesture_sign_classifier.keras'"
      ]
    },
    {
      "cell_type": "markdown",
      "metadata": {
        "id": "h8LgLD1YrhXB"
      },
      "source": [
        "Configuração do número de classificação"
      ]
    },
    {
      "cell_type": "code",
      "execution_count": 4,
      "metadata": {
        "id": "kP5mq1g0rhXB"
      },
      "outputs": [],
      "source": [
        "NUM_CLASSES = 36"
      ]
    },
    {
      "cell_type": "markdown",
      "metadata": {
        "id": "lu74KcO1rhXB"
      },
      "source": [
        "Comprimento de entrada"
      ]
    },
    {
      "cell_type": "code",
      "execution_count": 5,
      "metadata": {
        "id": "NryeSr5PrhXB"
      },
      "outputs": [],
      "source": [
        "TAMANHO_DATA = (966 * 4)\n"
      ]
    },
    {
      "cell_type": "markdown",
      "metadata": {
        "id": "QmvvxgHArhXB"
      },
      "source": [
        "Carregar dados de aprendizagem\n",
        "\n"
      ]
    },
    {
      "cell_type": "code",
      "execution_count": 6,
      "metadata": {
        "id": "tmLPKtslrhXB"
      },
      "outputs": [],
      "source": [
        "X_dataset = np.loadtxt(dataset, delimiter=',', dtype='float32', usecols=list(range(1, (TAMANHO_DATA) + 1)))"
      ]
    },
    {
      "cell_type": "code",
      "execution_count": 7,
      "metadata": {
        "id": "ZpRwynpqrhXC"
      },
      "outputs": [],
      "source": [
        "y_dataset = np.loadtxt(dataset, delimiter=',', dtype='int32', usecols=(0))"
      ]
    },
    {
      "cell_type": "code",
      "execution_count": 8,
      "metadata": {
        "id": "h36-2dPHrhXC"
      },
      "outputs": [
        {
          "name": "stdout",
          "output_type": "stream",
          "text": [
            "Tamanho do conjunto de treino: 9811\n",
            "Tamanho do conjunto de validação: 2103\n",
            "Tamanho do conjunto de teste: 2103\n"
          ]
        }
      ],
      "source": [
        "# Dividindo os dados em 70% treino e 30% (teste + validação)\n",
        "X_train, X_test_val, y_train, y_test_val = train_test_split(X_dataset, y_dataset, train_size=0.70, random_state=RANDOM_SEED)\n",
        "\n",
        "# Dividindo os 30% em 15% validação e 15% teste\n",
        "X_test, X_val, y_test, y_val = train_test_split(X_test_val, y_test_val, test_size=0.5, random_state=RANDOM_SEED)\n",
        "\n",
        "# Exibindo a quantidade de dados em cada conjunto\n",
        "print(f'Tamanho do conjunto de treino: {len(X_train)}')\n",
        "print(f'Tamanho do conjunto de validação: {len(X_val)}')\n",
        "print(f'Tamanho do conjunto de teste: {len(X_test)}')"
      ]
    },
    {
      "cell_type": "markdown",
      "metadata": {
        "id": "tZU0U_k3rhXC"
      },
      "source": [
        "Construção de modelo"
      ]
    },
    {
      "cell_type": "code",
      "execution_count": 9,
      "metadata": {
        "id": "sQJFryxyrhXC"
      },
      "outputs": [
        {
          "name": "stderr",
          "output_type": "stream",
          "text": [
            "c:\\Users\\Guilherme\\AppData\\Local\\Programs\\Python\\Python312\\Lib\\site-packages\\keras\\src\\layers\\core\\input_layer.py:25: UserWarning: Argument `input_shape` is deprecated. Use `shape` instead.\n",
            "  warnings.warn(\n"
          ]
        }
      ],
      "source": [
        "\n",
        "\n",
        "model = tf.keras.models.Sequential([\n",
        "    tf.keras.layers.InputLayer(input_shape=(TAMANHO_DATA, )),\n",
        "    tf.keras.layers.Dense(512, activation='relu'),\n",
        "    tf.keras.layers.Dropout(0.5, seed=RANDOM_SEED),\n",
        "    tf.keras.layers.Dense(256, activation='relu'),\n",
        "    tf.keras.layers.Dropout(0.5, seed=RANDOM_SEED),\n",
        "    tf.keras.layers.Dense(128, activation='relu'),\n",
        "    tf.keras.layers.Dense(NUM_CLASSES, activation='softmax')\n",
        "])\n"
      ]
    },
    {
      "cell_type": "code",
      "execution_count": 10,
      "metadata": {
        "id": "z2NoizMyrhXC",
        "outputId": "15fcaefa-de1e-4e2f-e177-9c1b4913a645"
      },
      "outputs": [
        {
          "data": {
            "text/html": [
              "<pre style=\"white-space:pre;overflow-x:auto;line-height:normal;font-family:Menlo,'DejaVu Sans Mono',consolas,'Courier New',monospace\"><span style=\"font-weight: bold\">Model: \"sequential\"</span>\n",
              "</pre>\n"
            ],
            "text/plain": [
              "\u001b[1mModel: \"sequential\"\u001b[0m\n"
            ]
          },
          "metadata": {},
          "output_type": "display_data"
        },
        {
          "data": {
            "text/html": [
              "<pre style=\"white-space:pre;overflow-x:auto;line-height:normal;font-family:Menlo,'DejaVu Sans Mono',consolas,'Courier New',monospace\">┏━━━━━━━━━━━━━━━━━━━━━━━━━━━━━━━━━┳━━━━━━━━━━━━━━━━━━━━━━━━┳━━━━━━━━━━━━━━━┓\n",
              "┃<span style=\"font-weight: bold\"> Layer (type)                    </span>┃<span style=\"font-weight: bold\"> Output Shape           </span>┃<span style=\"font-weight: bold\">       Param # </span>┃\n",
              "┡━━━━━━━━━━━━━━━━━━━━━━━━━━━━━━━━━╇━━━━━━━━━━━━━━━━━━━━━━━━╇━━━━━━━━━━━━━━━┩\n",
              "│ dense (<span style=\"color: #0087ff; text-decoration-color: #0087ff\">Dense</span>)                   │ (<span style=\"color: #00d7ff; text-decoration-color: #00d7ff\">None</span>, <span style=\"color: #00af00; text-decoration-color: #00af00\">512</span>)            │     <span style=\"color: #00af00; text-decoration-color: #00af00\">1,978,880</span> │\n",
              "├─────────────────────────────────┼────────────────────────┼───────────────┤\n",
              "│ dropout (<span style=\"color: #0087ff; text-decoration-color: #0087ff\">Dropout</span>)               │ (<span style=\"color: #00d7ff; text-decoration-color: #00d7ff\">None</span>, <span style=\"color: #00af00; text-decoration-color: #00af00\">512</span>)            │             <span style=\"color: #00af00; text-decoration-color: #00af00\">0</span> │\n",
              "├─────────────────────────────────┼────────────────────────┼───────────────┤\n",
              "│ dense_1 (<span style=\"color: #0087ff; text-decoration-color: #0087ff\">Dense</span>)                 │ (<span style=\"color: #00d7ff; text-decoration-color: #00d7ff\">None</span>, <span style=\"color: #00af00; text-decoration-color: #00af00\">256</span>)            │       <span style=\"color: #00af00; text-decoration-color: #00af00\">131,328</span> │\n",
              "├─────────────────────────────────┼────────────────────────┼───────────────┤\n",
              "│ dropout_1 (<span style=\"color: #0087ff; text-decoration-color: #0087ff\">Dropout</span>)             │ (<span style=\"color: #00d7ff; text-decoration-color: #00d7ff\">None</span>, <span style=\"color: #00af00; text-decoration-color: #00af00\">256</span>)            │             <span style=\"color: #00af00; text-decoration-color: #00af00\">0</span> │\n",
              "├─────────────────────────────────┼────────────────────────┼───────────────┤\n",
              "│ dense_2 (<span style=\"color: #0087ff; text-decoration-color: #0087ff\">Dense</span>)                 │ (<span style=\"color: #00d7ff; text-decoration-color: #00d7ff\">None</span>, <span style=\"color: #00af00; text-decoration-color: #00af00\">128</span>)            │        <span style=\"color: #00af00; text-decoration-color: #00af00\">32,896</span> │\n",
              "├─────────────────────────────────┼────────────────────────┼───────────────┤\n",
              "│ dense_3 (<span style=\"color: #0087ff; text-decoration-color: #0087ff\">Dense</span>)                 │ (<span style=\"color: #00d7ff; text-decoration-color: #00d7ff\">None</span>, <span style=\"color: #00af00; text-decoration-color: #00af00\">36</span>)             │         <span style=\"color: #00af00; text-decoration-color: #00af00\">4,644</span> │\n",
              "└─────────────────────────────────┴────────────────────────┴───────────────┘\n",
              "</pre>\n"
            ],
            "text/plain": [
              "┏━━━━━━━━━━━━━━━━━━━━━━━━━━━━━━━━━┳━━━━━━━━━━━━━━━━━━━━━━━━┳━━━━━━━━━━━━━━━┓\n",
              "┃\u001b[1m \u001b[0m\u001b[1mLayer (type)                   \u001b[0m\u001b[1m \u001b[0m┃\u001b[1m \u001b[0m\u001b[1mOutput Shape          \u001b[0m\u001b[1m \u001b[0m┃\u001b[1m \u001b[0m\u001b[1m      Param #\u001b[0m\u001b[1m \u001b[0m┃\n",
              "┡━━━━━━━━━━━━━━━━━━━━━━━━━━━━━━━━━╇━━━━━━━━━━━━━━━━━━━━━━━━╇━━━━━━━━━━━━━━━┩\n",
              "│ dense (\u001b[38;5;33mDense\u001b[0m)                   │ (\u001b[38;5;45mNone\u001b[0m, \u001b[38;5;34m512\u001b[0m)            │     \u001b[38;5;34m1,978,880\u001b[0m │\n",
              "├─────────────────────────────────┼────────────────────────┼───────────────┤\n",
              "│ dropout (\u001b[38;5;33mDropout\u001b[0m)               │ (\u001b[38;5;45mNone\u001b[0m, \u001b[38;5;34m512\u001b[0m)            │             \u001b[38;5;34m0\u001b[0m │\n",
              "├─────────────────────────────────┼────────────────────────┼───────────────┤\n",
              "│ dense_1 (\u001b[38;5;33mDense\u001b[0m)                 │ (\u001b[38;5;45mNone\u001b[0m, \u001b[38;5;34m256\u001b[0m)            │       \u001b[38;5;34m131,328\u001b[0m │\n",
              "├─────────────────────────────────┼────────────────────────┼───────────────┤\n",
              "│ dropout_1 (\u001b[38;5;33mDropout\u001b[0m)             │ (\u001b[38;5;45mNone\u001b[0m, \u001b[38;5;34m256\u001b[0m)            │             \u001b[38;5;34m0\u001b[0m │\n",
              "├─────────────────────────────────┼────────────────────────┼───────────────┤\n",
              "│ dense_2 (\u001b[38;5;33mDense\u001b[0m)                 │ (\u001b[38;5;45mNone\u001b[0m, \u001b[38;5;34m128\u001b[0m)            │        \u001b[38;5;34m32,896\u001b[0m │\n",
              "├─────────────────────────────────┼────────────────────────┼───────────────┤\n",
              "│ dense_3 (\u001b[38;5;33mDense\u001b[0m)                 │ (\u001b[38;5;45mNone\u001b[0m, \u001b[38;5;34m36\u001b[0m)             │         \u001b[38;5;34m4,644\u001b[0m │\n",
              "└─────────────────────────────────┴────────────────────────┴───────────────┘\n"
            ]
          },
          "metadata": {},
          "output_type": "display_data"
        },
        {
          "data": {
            "text/html": [
              "<pre style=\"white-space:pre;overflow-x:auto;line-height:normal;font-family:Menlo,'DejaVu Sans Mono',consolas,'Courier New',monospace\"><span style=\"font-weight: bold\"> Total params: </span><span style=\"color: #00af00; text-decoration-color: #00af00\">2,147,748</span> (8.19 MB)\n",
              "</pre>\n"
            ],
            "text/plain": [
              "\u001b[1m Total params: \u001b[0m\u001b[38;5;34m2,147,748\u001b[0m (8.19 MB)\n"
            ]
          },
          "metadata": {},
          "output_type": "display_data"
        },
        {
          "data": {
            "text/html": [
              "<pre style=\"white-space:pre;overflow-x:auto;line-height:normal;font-family:Menlo,'DejaVu Sans Mono',consolas,'Courier New',monospace\"><span style=\"font-weight: bold\"> Trainable params: </span><span style=\"color: #00af00; text-decoration-color: #00af00\">2,147,748</span> (8.19 MB)\n",
              "</pre>\n"
            ],
            "text/plain": [
              "\u001b[1m Trainable params: \u001b[0m\u001b[38;5;34m2,147,748\u001b[0m (8.19 MB)\n"
            ]
          },
          "metadata": {},
          "output_type": "display_data"
        },
        {
          "data": {
            "text/html": [
              "<pre style=\"white-space:pre;overflow-x:auto;line-height:normal;font-family:Menlo,'DejaVu Sans Mono',consolas,'Courier New',monospace\"><span style=\"font-weight: bold\"> Non-trainable params: </span><span style=\"color: #00af00; text-decoration-color: #00af00\">0</span> (0.00 B)\n",
              "</pre>\n"
            ],
            "text/plain": [
              "\u001b[1m Non-trainable params: \u001b[0m\u001b[38;5;34m0\u001b[0m (0.00 B)\n"
            ]
          },
          "metadata": {},
          "output_type": "display_data"
        }
      ],
      "source": [
        "model.summary()  # tf.keras.utils.plot_model(model, show_shapes=True)"
      ]
    },
    {
      "cell_type": "code",
      "execution_count": 11,
      "metadata": {
        "id": "VU9Z7Ns5rhXC"
      },
      "outputs": [],
      "source": [
        "#Callback para checkpoint do modelo\n",
        "cp_callback = tf.keras.callbacks.ModelCheckpoint(\n",
        "  model_save_path, verbose=1, save_weights_only=False)\n",
        "\n",
        "#Callback para parada antecipada\n",
        "es_callback = tf.keras.callbacks.EarlyStopping(patience=20, verbose=1)"
      ]
    },
    {
      "cell_type": "code",
      "execution_count": 12,
      "metadata": {
        "colab": {
          "base_uri": "https://localhost:8080/",
          "height": 211
        },
        "id": "bg5jQdiTrhXD",
        "outputId": "402cad72-f6c6-4273-e613-f101e0ad9779"
      },
      "outputs": [],
      "source": [
        "#Compilação do modelo\n",
        "model.compile(\n",
        "    optimizer=tf.keras.optimizers.Adam(learning_rate=0.001),\n",
        "    loss='sparse_categorical_crossentropy',\n",
        "    metrics=['accuracy']\n",
        ")\n",
        "\n"
      ]
    },
    {
      "cell_type": "markdown",
      "metadata": {
        "id": "9Q4HsdQmrhXD"
      },
      "source": [
        "Treinamento do modelo"
      ]
    },
    {
      "cell_type": "code",
      "execution_count": 13,
      "metadata": {
        "id": "8OmaPJjtrhXD",
        "outputId": "cec74298-5773-48fc-fa4b-b01cf48ea269",
        "scrolled": true
      },
      "outputs": [
        {
          "name": "stdout",
          "output_type": "stream",
          "text": [
            "Epoch 1/50\n",
            "\u001b[1m152/154\u001b[0m \u001b[32m━━━━━━━━━━━━━━━━━━━\u001b[0m\u001b[37m━\u001b[0m \u001b[1m0s\u001b[0m 16ms/step - accuracy: 0.1536 - loss: 3.0912\n",
            "Epoch 1: saving model to model/gesture_sign_classifier/gesture_sign_classifier.keras\n",
            "\u001b[1m154/154\u001b[0m \u001b[32m━━━━━━━━━━━━━━━━━━━━\u001b[0m\u001b[37m\u001b[0m \u001b[1m4s\u001b[0m 18ms/step - accuracy: 0.1554 - loss: 3.0810 - val_accuracy: 0.6353 - val_loss: 1.1426\n",
            "Epoch 2/50\n",
            "\u001b[1m152/154\u001b[0m \u001b[32m━━━━━━━━━━━━━━━━━━━\u001b[0m\u001b[37m━\u001b[0m \u001b[1m0s\u001b[0m 15ms/step - accuracy: 0.4961 - loss: 1.4374\n",
            "Epoch 2: saving model to model/gesture_sign_classifier/gesture_sign_classifier.keras\n",
            "\u001b[1m154/154\u001b[0m \u001b[32m━━━━━━━━━━━━━━━━━━━━\u001b[0m\u001b[37m\u001b[0m \u001b[1m3s\u001b[0m 16ms/step - accuracy: 0.4971 - loss: 1.4342 - val_accuracy: 0.7779 - val_loss: 0.6071\n",
            "Epoch 3/50\n",
            "\u001b[1m152/154\u001b[0m \u001b[32m━━━━━━━━━━━━━━━━━━━\u001b[0m\u001b[37m━\u001b[0m \u001b[1m0s\u001b[0m 15ms/step - accuracy: 0.6644 - loss: 0.9373\n",
            "Epoch 3: saving model to model/gesture_sign_classifier/gesture_sign_classifier.keras\n",
            "\u001b[1m154/154\u001b[0m \u001b[32m━━━━━━━━━━━━━━━━━━━━\u001b[0m\u001b[37m\u001b[0m \u001b[1m3s\u001b[0m 16ms/step - accuracy: 0.6649 - loss: 0.9358 - val_accuracy: 0.8526 - val_loss: 0.3726\n",
            "Epoch 4/50\n",
            "\u001b[1m151/154\u001b[0m \u001b[32m━━━━━━━━━━━━━━━━━━━\u001b[0m\u001b[37m━\u001b[0m \u001b[1m0s\u001b[0m 17ms/step - accuracy: 0.7452 - loss: 0.7033\n",
            "Epoch 4: saving model to model/gesture_sign_classifier/gesture_sign_classifier.keras\n",
            "\u001b[1m154/154\u001b[0m \u001b[32m━━━━━━━━━━━━━━━━━━━━\u001b[0m\u001b[37m\u001b[0m \u001b[1m3s\u001b[0m 18ms/step - accuracy: 0.7455 - loss: 0.7024 - val_accuracy: 0.8645 - val_loss: 0.3209\n",
            "Epoch 5/50\n",
            "\u001b[1m151/154\u001b[0m \u001b[32m━━━━━━━━━━━━━━━━━━━\u001b[0m\u001b[37m━\u001b[0m \u001b[1m0s\u001b[0m 15ms/step - accuracy: 0.7789 - loss: 0.5862\n",
            "Epoch 5: saving model to model/gesture_sign_classifier/gesture_sign_classifier.keras\n",
            "\u001b[1m154/154\u001b[0m \u001b[32m━━━━━━━━━━━━━━━━━━━━\u001b[0m\u001b[37m\u001b[0m \u001b[1m3s\u001b[0m 16ms/step - accuracy: 0.7792 - loss: 0.5857 - val_accuracy: 0.9044 - val_loss: 0.2827\n",
            "Epoch 6/50\n",
            "\u001b[1m152/154\u001b[0m \u001b[32m━━━━━━━━━━━━━━━━━━━\u001b[0m\u001b[37m━\u001b[0m \u001b[1m0s\u001b[0m 16ms/step - accuracy: 0.8002 - loss: 0.5199\n",
            "Epoch 6: saving model to model/gesture_sign_classifier/gesture_sign_classifier.keras\n",
            "\u001b[1m154/154\u001b[0m \u001b[32m━━━━━━━━━━━━━━━━━━━━\u001b[0m\u001b[37m\u001b[0m \u001b[1m3s\u001b[0m 18ms/step - accuracy: 0.8004 - loss: 0.5197 - val_accuracy: 0.9001 - val_loss: 0.2221\n",
            "Epoch 7/50\n",
            "\u001b[1m152/154\u001b[0m \u001b[32m━━━━━━━━━━━━━━━━━━━\u001b[0m\u001b[37m━\u001b[0m \u001b[1m0s\u001b[0m 15ms/step - accuracy: 0.8253 - loss: 0.4728\n",
            "Epoch 7: saving model to model/gesture_sign_classifier/gesture_sign_classifier.keras\n",
            "\u001b[1m154/154\u001b[0m \u001b[32m━━━━━━━━━━━━━━━━━━━━\u001b[0m\u001b[37m\u001b[0m \u001b[1m3s\u001b[0m 17ms/step - accuracy: 0.8255 - loss: 0.4721 - val_accuracy: 0.9358 - val_loss: 0.1709\n",
            "Epoch 8/50\n",
            "\u001b[1m151/154\u001b[0m \u001b[32m━━━━━━━━━━━━━━━━━━━\u001b[0m\u001b[37m━\u001b[0m \u001b[1m0s\u001b[0m 15ms/step - accuracy: 0.8540 - loss: 0.4029\n",
            "Epoch 8: saving model to model/gesture_sign_classifier/gesture_sign_classifier.keras\n",
            "\u001b[1m154/154\u001b[0m \u001b[32m━━━━━━━━━━━━━━━━━━━━\u001b[0m\u001b[37m\u001b[0m \u001b[1m3s\u001b[0m 17ms/step - accuracy: 0.8540 - loss: 0.4032 - val_accuracy: 0.9358 - val_loss: 0.1881\n",
            "Epoch 9/50\n",
            "\u001b[1m154/154\u001b[0m \u001b[32m━━━━━━━━━━━━━━━━━━━━\u001b[0m\u001b[37m\u001b[0m \u001b[1m0s\u001b[0m 16ms/step - accuracy: 0.8625 - loss: 0.3662\n",
            "Epoch 9: saving model to model/gesture_sign_classifier/gesture_sign_classifier.keras\n",
            "\u001b[1m154/154\u001b[0m \u001b[32m━━━━━━━━━━━━━━━━━━━━\u001b[0m\u001b[37m\u001b[0m \u001b[1m3s\u001b[0m 18ms/step - accuracy: 0.8625 - loss: 0.3662 - val_accuracy: 0.9463 - val_loss: 0.1426\n",
            "Epoch 10/50\n",
            "\u001b[1m152/154\u001b[0m \u001b[32m━━━━━━━━━━━━━━━━━━━\u001b[0m\u001b[37m━\u001b[0m \u001b[1m0s\u001b[0m 16ms/step - accuracy: 0.8636 - loss: 0.3589\n",
            "Epoch 10: saving model to model/gesture_sign_classifier/gesture_sign_classifier.keras\n",
            "\u001b[1m154/154\u001b[0m \u001b[32m━━━━━━━━━━━━━━━━━━━━\u001b[0m\u001b[37m\u001b[0m \u001b[1m3s\u001b[0m 17ms/step - accuracy: 0.8637 - loss: 0.3587 - val_accuracy: 0.9648 - val_loss: 0.1250\n",
            "Epoch 11/50\n",
            "\u001b[1m154/154\u001b[0m \u001b[32m━━━━━━━━━━━━━━━━━━━━\u001b[0m\u001b[37m\u001b[0m \u001b[1m0s\u001b[0m 15ms/step - accuracy: 0.8848 - loss: 0.3303\n",
            "Epoch 11: saving model to model/gesture_sign_classifier/gesture_sign_classifier.keras\n",
            "\u001b[1m154/154\u001b[0m \u001b[32m━━━━━━━━━━━━━━━━━━━━\u001b[0m\u001b[37m\u001b[0m \u001b[1m3s\u001b[0m 16ms/step - accuracy: 0.8848 - loss: 0.3304 - val_accuracy: 0.9629 - val_loss: 0.1374\n",
            "Epoch 12/50\n",
            "\u001b[1m152/154\u001b[0m \u001b[32m━━━━━━━━━━━━━━━━━━━\u001b[0m\u001b[37m━\u001b[0m \u001b[1m0s\u001b[0m 16ms/step - accuracy: 0.8784 - loss: 0.3367\n",
            "Epoch 12: saving model to model/gesture_sign_classifier/gesture_sign_classifier.keras\n",
            "\u001b[1m154/154\u001b[0m \u001b[32m━━━━━━━━━━━━━━━━━━━━\u001b[0m\u001b[37m\u001b[0m \u001b[1m3s\u001b[0m 17ms/step - accuracy: 0.8786 - loss: 0.3362 - val_accuracy: 0.9558 - val_loss: 0.1201\n",
            "Epoch 13/50\n",
            "\u001b[1m153/154\u001b[0m \u001b[32m━━━━━━━━━━━━━━━━━━━\u001b[0m\u001b[37m━\u001b[0m \u001b[1m0s\u001b[0m 16ms/step - accuracy: 0.8895 - loss: 0.3070\n",
            "Epoch 13: saving model to model/gesture_sign_classifier/gesture_sign_classifier.keras\n",
            "\u001b[1m154/154\u001b[0m \u001b[32m━━━━━━━━━━━━━━━━━━━━\u001b[0m\u001b[37m\u001b[0m \u001b[1m3s\u001b[0m 17ms/step - accuracy: 0.8896 - loss: 0.3068 - val_accuracy: 0.9501 - val_loss: 0.1163\n",
            "Epoch 14/50\n",
            "\u001b[1m151/154\u001b[0m \u001b[32m━━━━━━━━━━━━━━━━━━━\u001b[0m\u001b[37m━\u001b[0m \u001b[1m0s\u001b[0m 16ms/step - accuracy: 0.9036 - loss: 0.2761\n",
            "Epoch 14: saving model to model/gesture_sign_classifier/gesture_sign_classifier.keras\n",
            "\u001b[1m154/154\u001b[0m \u001b[32m━━━━━━━━━━━━━━━━━━━━\u001b[0m\u001b[37m\u001b[0m \u001b[1m3s\u001b[0m 17ms/step - accuracy: 0.9036 - loss: 0.2760 - val_accuracy: 0.9681 - val_loss: 0.1010\n",
            "Epoch 15/50\n",
            "\u001b[1m151/154\u001b[0m \u001b[32m━━━━━━━━━━━━━━━━━━━\u001b[0m\u001b[37m━\u001b[0m \u001b[1m0s\u001b[0m 16ms/step - accuracy: 0.9019 - loss: 0.2841\n",
            "Epoch 15: saving model to model/gesture_sign_classifier/gesture_sign_classifier.keras\n",
            "\u001b[1m154/154\u001b[0m \u001b[32m━━━━━━━━━━━━━━━━━━━━\u001b[0m\u001b[37m\u001b[0m \u001b[1m3s\u001b[0m 17ms/step - accuracy: 0.9019 - loss: 0.2837 - val_accuracy: 0.9729 - val_loss: 0.0992\n",
            "Epoch 16/50\n",
            "\u001b[1m153/154\u001b[0m \u001b[32m━━━━━━━━━━━━━━━━━━━\u001b[0m\u001b[37m━\u001b[0m \u001b[1m0s\u001b[0m 15ms/step - accuracy: 0.9112 - loss: 0.2509\n",
            "Epoch 16: saving model to model/gesture_sign_classifier/gesture_sign_classifier.keras\n",
            "\u001b[1m154/154\u001b[0m \u001b[32m━━━━━━━━━━━━━━━━━━━━\u001b[0m\u001b[37m\u001b[0m \u001b[1m3s\u001b[0m 16ms/step - accuracy: 0.9112 - loss: 0.2510 - val_accuracy: 0.9662 - val_loss: 0.0936\n",
            "Epoch 17/50\n",
            "\u001b[1m152/154\u001b[0m \u001b[32m━━━━━━━━━━━━━━━━━━━\u001b[0m\u001b[37m━\u001b[0m \u001b[1m0s\u001b[0m 15ms/step - accuracy: 0.9147 - loss: 0.2417\n",
            "Epoch 17: saving model to model/gesture_sign_classifier/gesture_sign_classifier.keras\n",
            "\u001b[1m154/154\u001b[0m \u001b[32m━━━━━━━━━━━━━━━━━━━━\u001b[0m\u001b[37m\u001b[0m \u001b[1m3s\u001b[0m 16ms/step - accuracy: 0.9148 - loss: 0.2416 - val_accuracy: 0.9815 - val_loss: 0.0696\n",
            "Epoch 18/50\n",
            "\u001b[1m154/154\u001b[0m \u001b[32m━━━━━━━━━━━━━━━━━━━━\u001b[0m\u001b[37m\u001b[0m \u001b[1m0s\u001b[0m 16ms/step - accuracy: 0.9226 - loss: 0.2143\n",
            "Epoch 18: saving model to model/gesture_sign_classifier/gesture_sign_classifier.keras\n",
            "\u001b[1m154/154\u001b[0m \u001b[32m━━━━━━━━━━━━━━━━━━━━\u001b[0m\u001b[37m\u001b[0m \u001b[1m3s\u001b[0m 17ms/step - accuracy: 0.9226 - loss: 0.2144 - val_accuracy: 0.9734 - val_loss: 0.0745\n",
            "Epoch 19/50\n",
            "\u001b[1m154/154\u001b[0m \u001b[32m━━━━━━━━━━━━━━━━━━━━\u001b[0m\u001b[37m\u001b[0m \u001b[1m0s\u001b[0m 15ms/step - accuracy: 0.9196 - loss: 0.2300\n",
            "Epoch 19: saving model to model/gesture_sign_classifier/gesture_sign_classifier.keras\n",
            "\u001b[1m154/154\u001b[0m \u001b[32m━━━━━━━━━━━━━━━━━━━━\u001b[0m\u001b[37m\u001b[0m \u001b[1m3s\u001b[0m 16ms/step - accuracy: 0.9196 - loss: 0.2299 - val_accuracy: 0.9710 - val_loss: 0.0810\n",
            "Epoch 20/50\n",
            "\u001b[1m153/154\u001b[0m \u001b[32m━━━━━━━━━━━━━━━━━━━\u001b[0m\u001b[37m━\u001b[0m \u001b[1m0s\u001b[0m 15ms/step - accuracy: 0.9206 - loss: 0.2306\n",
            "Epoch 20: saving model to model/gesture_sign_classifier/gesture_sign_classifier.keras\n",
            "\u001b[1m154/154\u001b[0m \u001b[32m━━━━━━━━━━━━━━━━━━━━\u001b[0m\u001b[37m\u001b[0m \u001b[1m3s\u001b[0m 16ms/step - accuracy: 0.9206 - loss: 0.2306 - val_accuracy: 0.9805 - val_loss: 0.0717\n",
            "Epoch 21/50\n",
            "\u001b[1m154/154\u001b[0m \u001b[32m━━━━━━━━━━━━━━━━━━━━\u001b[0m\u001b[37m\u001b[0m \u001b[1m0s\u001b[0m 16ms/step - accuracy: 0.9194 - loss: 0.2302\n",
            "Epoch 21: saving model to model/gesture_sign_classifier/gesture_sign_classifier.keras\n",
            "\u001b[1m154/154\u001b[0m \u001b[32m━━━━━━━━━━━━━━━━━━━━\u001b[0m\u001b[37m\u001b[0m \u001b[1m3s\u001b[0m 17ms/step - accuracy: 0.9194 - loss: 0.2302 - val_accuracy: 0.9677 - val_loss: 0.0937\n",
            "Epoch 22/50\n",
            "\u001b[1m151/154\u001b[0m \u001b[32m━━━━━━━━━━━━━━━━━━━\u001b[0m\u001b[37m━\u001b[0m \u001b[1m0s\u001b[0m 15ms/step - accuracy: 0.9173 - loss: 0.2551\n",
            "Epoch 22: saving model to model/gesture_sign_classifier/gesture_sign_classifier.keras\n",
            "\u001b[1m154/154\u001b[0m \u001b[32m━━━━━━━━━━━━━━━━━━━━\u001b[0m\u001b[37m\u001b[0m \u001b[1m3s\u001b[0m 16ms/step - accuracy: 0.9174 - loss: 0.2547 - val_accuracy: 0.9791 - val_loss: 0.0701\n",
            "Epoch 23/50\n",
            "\u001b[1m151/154\u001b[0m \u001b[32m━━━━━━━━━━━━━━━━━━━\u001b[0m\u001b[37m━\u001b[0m \u001b[1m0s\u001b[0m 16ms/step - accuracy: 0.9312 - loss: 0.2040\n",
            "Epoch 23: saving model to model/gesture_sign_classifier/gesture_sign_classifier.keras\n",
            "\u001b[1m154/154\u001b[0m \u001b[32m━━━━━━━━━━━━━━━━━━━━\u001b[0m\u001b[37m\u001b[0m \u001b[1m3s\u001b[0m 17ms/step - accuracy: 0.9312 - loss: 0.2041 - val_accuracy: 0.9610 - val_loss: 0.0893\n",
            "Epoch 24/50\n",
            "\u001b[1m153/154\u001b[0m \u001b[32m━━━━━━━━━━━━━━━━━━━\u001b[0m\u001b[37m━\u001b[0m \u001b[1m0s\u001b[0m 16ms/step - accuracy: 0.9300 - loss: 0.2120\n",
            "Epoch 24: saving model to model/gesture_sign_classifier/gesture_sign_classifier.keras\n",
            "\u001b[1m154/154\u001b[0m \u001b[32m━━━━━━━━━━━━━━━━━━━━\u001b[0m\u001b[37m\u001b[0m \u001b[1m3s\u001b[0m 17ms/step - accuracy: 0.9300 - loss: 0.2121 - val_accuracy: 0.9838 - val_loss: 0.0654\n",
            "Epoch 25/50\n",
            "\u001b[1m151/154\u001b[0m \u001b[32m━━━━━━━━━━━━━━━━━━━\u001b[0m\u001b[37m━\u001b[0m \u001b[1m0s\u001b[0m 16ms/step - accuracy: 0.9270 - loss: 0.2012\n",
            "Epoch 25: saving model to model/gesture_sign_classifier/gesture_sign_classifier.keras\n",
            "\u001b[1m154/154\u001b[0m \u001b[32m━━━━━━━━━━━━━━━━━━━━\u001b[0m\u001b[37m\u001b[0m \u001b[1m3s\u001b[0m 17ms/step - accuracy: 0.9270 - loss: 0.2011 - val_accuracy: 0.9914 - val_loss: 0.0448\n",
            "Epoch 26/50\n",
            "\u001b[1m154/154\u001b[0m \u001b[32m━━━━━━━━━━━━━━━━━━━━\u001b[0m\u001b[37m\u001b[0m \u001b[1m0s\u001b[0m 15ms/step - accuracy: 0.9409 - loss: 0.1621\n",
            "Epoch 26: saving model to model/gesture_sign_classifier/gesture_sign_classifier.keras\n",
            "\u001b[1m154/154\u001b[0m \u001b[32m━━━━━━━━━━━━━━━━━━━━\u001b[0m\u001b[37m\u001b[0m \u001b[1m3s\u001b[0m 16ms/step - accuracy: 0.9409 - loss: 0.1621 - val_accuracy: 0.9848 - val_loss: 0.0548\n",
            "Epoch 27/50\n",
            "\u001b[1m153/154\u001b[0m \u001b[32m━━━━━━━━━━━━━━━━━━━\u001b[0m\u001b[37m━\u001b[0m \u001b[1m0s\u001b[0m 16ms/step - accuracy: 0.9486 - loss: 0.1676\n",
            "Epoch 27: saving model to model/gesture_sign_classifier/gesture_sign_classifier.keras\n",
            "\u001b[1m154/154\u001b[0m \u001b[32m━━━━━━━━━━━━━━━━━━━━\u001b[0m\u001b[37m\u001b[0m \u001b[1m3s\u001b[0m 17ms/step - accuracy: 0.9485 - loss: 0.1678 - val_accuracy: 0.9876 - val_loss: 0.0522\n",
            "Epoch 28/50\n",
            "\u001b[1m152/154\u001b[0m \u001b[32m━━━━━━━━━━━━━━━━━━━\u001b[0m\u001b[37m━\u001b[0m \u001b[1m0s\u001b[0m 17ms/step - accuracy: 0.9370 - loss: 0.2096\n",
            "Epoch 28: saving model to model/gesture_sign_classifier/gesture_sign_classifier.keras\n",
            "\u001b[1m154/154\u001b[0m \u001b[32m━━━━━━━━━━━━━━━━━━━━\u001b[0m\u001b[37m\u001b[0m \u001b[1m3s\u001b[0m 18ms/step - accuracy: 0.9369 - loss: 0.2097 - val_accuracy: 0.9800 - val_loss: 0.0490\n",
            "Epoch 29/50\n",
            "\u001b[1m154/154\u001b[0m \u001b[32m━━━━━━━━━━━━━━━━━━━━\u001b[0m\u001b[37m\u001b[0m \u001b[1m0s\u001b[0m 16ms/step - accuracy: 0.9507 - loss: 0.1545\n",
            "Epoch 29: saving model to model/gesture_sign_classifier/gesture_sign_classifier.keras\n",
            "\u001b[1m154/154\u001b[0m \u001b[32m━━━━━━━━━━━━━━━━━━━━\u001b[0m\u001b[37m\u001b[0m \u001b[1m3s\u001b[0m 17ms/step - accuracy: 0.9506 - loss: 0.1546 - val_accuracy: 0.9886 - val_loss: 0.0494\n",
            "Epoch 30/50\n",
            "\u001b[1m151/154\u001b[0m \u001b[32m━━━━━━━━━━━━━━━━━━━\u001b[0m\u001b[37m━\u001b[0m \u001b[1m0s\u001b[0m 15ms/step - accuracy: 0.9412 - loss: 0.1835\n",
            "Epoch 30: saving model to model/gesture_sign_classifier/gesture_sign_classifier.keras\n",
            "\u001b[1m154/154\u001b[0m \u001b[32m━━━━━━━━━━━━━━━━━━━━\u001b[0m\u001b[37m\u001b[0m \u001b[1m3s\u001b[0m 16ms/step - accuracy: 0.9412 - loss: 0.1835 - val_accuracy: 0.9853 - val_loss: 0.0584\n",
            "Epoch 31/50\n",
            "\u001b[1m152/154\u001b[0m \u001b[32m━━━━━━━━━━━━━━━━━━━\u001b[0m\u001b[37m━\u001b[0m \u001b[1m0s\u001b[0m 17ms/step - accuracy: 0.9366 - loss: 0.1981\n",
            "Epoch 31: saving model to model/gesture_sign_classifier/gesture_sign_classifier.keras\n",
            "\u001b[1m154/154\u001b[0m \u001b[32m━━━━━━━━━━━━━━━━━━━━\u001b[0m\u001b[37m\u001b[0m \u001b[1m3s\u001b[0m 18ms/step - accuracy: 0.9366 - loss: 0.1978 - val_accuracy: 0.9800 - val_loss: 0.0576\n",
            "Epoch 32/50\n",
            "\u001b[1m153/154\u001b[0m \u001b[32m━━━━━━━━━━━━━━━━━━━\u001b[0m\u001b[37m━\u001b[0m \u001b[1m0s\u001b[0m 17ms/step - accuracy: 0.9473 - loss: 0.1670\n",
            "Epoch 32: saving model to model/gesture_sign_classifier/gesture_sign_classifier.keras\n",
            "\u001b[1m154/154\u001b[0m \u001b[32m━━━━━━━━━━━━━━━━━━━━\u001b[0m\u001b[37m\u001b[0m \u001b[1m3s\u001b[0m 18ms/step - accuracy: 0.9473 - loss: 0.1670 - val_accuracy: 0.9791 - val_loss: 0.0578\n",
            "Epoch 33/50\n",
            "\u001b[1m152/154\u001b[0m \u001b[32m━━━━━━━━━━━━━━━━━━━\u001b[0m\u001b[37m━\u001b[0m \u001b[1m0s\u001b[0m 15ms/step - accuracy: 0.9474 - loss: 0.1589\n",
            "Epoch 33: saving model to model/gesture_sign_classifier/gesture_sign_classifier.keras\n",
            "\u001b[1m154/154\u001b[0m \u001b[32m━━━━━━━━━━━━━━━━━━━━\u001b[0m\u001b[37m\u001b[0m \u001b[1m3s\u001b[0m 16ms/step - accuracy: 0.9473 - loss: 0.1593 - val_accuracy: 0.9886 - val_loss: 0.0494\n",
            "Epoch 34/50\n",
            "\u001b[1m154/154\u001b[0m \u001b[32m━━━━━━━━━━━━━━━━━━━━\u001b[0m\u001b[37m\u001b[0m \u001b[1m0s\u001b[0m 15ms/step - accuracy: 0.9439 - loss: 0.1710\n",
            "Epoch 34: saving model to model/gesture_sign_classifier/gesture_sign_classifier.keras\n",
            "\u001b[1m154/154\u001b[0m \u001b[32m━━━━━━━━━━━━━━━━━━━━\u001b[0m\u001b[37m\u001b[0m \u001b[1m2s\u001b[0m 16ms/step - accuracy: 0.9440 - loss: 0.1709 - val_accuracy: 0.9829 - val_loss: 0.0426\n",
            "Epoch 35/50\n",
            "\u001b[1m154/154\u001b[0m \u001b[32m━━━━━━━━━━━━━━━━━━━━\u001b[0m\u001b[37m\u001b[0m \u001b[1m0s\u001b[0m 15ms/step - accuracy: 0.9432 - loss: 0.1671\n",
            "Epoch 35: saving model to model/gesture_sign_classifier/gesture_sign_classifier.keras\n",
            "\u001b[1m154/154\u001b[0m \u001b[32m━━━━━━━━━━━━━━━━━━━━\u001b[0m\u001b[37m\u001b[0m \u001b[1m3s\u001b[0m 16ms/step - accuracy: 0.9432 - loss: 0.1672 - val_accuracy: 0.9853 - val_loss: 0.0758\n",
            "Epoch 36/50\n",
            "\u001b[1m154/154\u001b[0m \u001b[32m━━━━━━━━━━━━━━━━━━━━\u001b[0m\u001b[37m\u001b[0m \u001b[1m0s\u001b[0m 16ms/step - accuracy: 0.9524 - loss: 0.1537\n",
            "Epoch 36: saving model to model/gesture_sign_classifier/gesture_sign_classifier.keras\n",
            "\u001b[1m154/154\u001b[0m \u001b[32m━━━━━━━━━━━━━━━━━━━━\u001b[0m\u001b[37m\u001b[0m \u001b[1m3s\u001b[0m 17ms/step - accuracy: 0.9524 - loss: 0.1536 - val_accuracy: 0.9933 - val_loss: 0.0254\n",
            "Epoch 37/50\n",
            "\u001b[1m154/154\u001b[0m \u001b[32m━━━━━━━━━━━━━━━━━━━━\u001b[0m\u001b[37m\u001b[0m \u001b[1m0s\u001b[0m 17ms/step - accuracy: 0.9444 - loss: 0.1860\n",
            "Epoch 37: saving model to model/gesture_sign_classifier/gesture_sign_classifier.keras\n",
            "\u001b[1m154/154\u001b[0m \u001b[32m━━━━━━━━━━━━━━━━━━━━\u001b[0m\u001b[37m\u001b[0m \u001b[1m3s\u001b[0m 18ms/step - accuracy: 0.9444 - loss: 0.1859 - val_accuracy: 0.9924 - val_loss: 0.0299\n",
            "Epoch 38/50\n",
            "\u001b[1m154/154\u001b[0m \u001b[32m━━━━━━━━━━━━━━━━━━━━\u001b[0m\u001b[37m\u001b[0m \u001b[1m0s\u001b[0m 15ms/step - accuracy: 0.9460 - loss: 0.1780\n",
            "Epoch 38: saving model to model/gesture_sign_classifier/gesture_sign_classifier.keras\n",
            "\u001b[1m154/154\u001b[0m \u001b[32m━━━━━━━━━━━━━━━━━━━━\u001b[0m\u001b[37m\u001b[0m \u001b[1m3s\u001b[0m 16ms/step - accuracy: 0.9460 - loss: 0.1779 - val_accuracy: 0.9876 - val_loss: 0.0354\n",
            "Epoch 39/50\n",
            "\u001b[1m152/154\u001b[0m \u001b[32m━━━━━━━━━━━━━━━━━━━\u001b[0m\u001b[37m━\u001b[0m \u001b[1m0s\u001b[0m 15ms/step - accuracy: 0.9570 - loss: 0.1321\n",
            "Epoch 39: saving model to model/gesture_sign_classifier/gesture_sign_classifier.keras\n",
            "\u001b[1m154/154\u001b[0m \u001b[32m━━━━━━━━━━━━━━━━━━━━\u001b[0m\u001b[37m\u001b[0m \u001b[1m3s\u001b[0m 16ms/step - accuracy: 0.9569 - loss: 0.1323 - val_accuracy: 0.9838 - val_loss: 0.0479\n",
            "Epoch 40/50\n",
            "\u001b[1m154/154\u001b[0m \u001b[32m━━━━━━━━━━━━━━━━━━━━\u001b[0m\u001b[37m\u001b[0m \u001b[1m0s\u001b[0m 16ms/step - accuracy: 0.9505 - loss: 0.1387\n",
            "Epoch 40: saving model to model/gesture_sign_classifier/gesture_sign_classifier.keras\n",
            "\u001b[1m154/154\u001b[0m \u001b[32m━━━━━━━━━━━━━━━━━━━━\u001b[0m\u001b[37m\u001b[0m \u001b[1m3s\u001b[0m 17ms/step - accuracy: 0.9506 - loss: 0.1386 - val_accuracy: 0.9948 - val_loss: 0.0252\n",
            "Epoch 41/50\n",
            "\u001b[1m154/154\u001b[0m \u001b[32m━━━━━━━━━━━━━━━━━━━━\u001b[0m\u001b[37m\u001b[0m \u001b[1m0s\u001b[0m 16ms/step - accuracy: 0.9554 - loss: 0.1392\n",
            "Epoch 41: saving model to model/gesture_sign_classifier/gesture_sign_classifier.keras\n",
            "\u001b[1m154/154\u001b[0m \u001b[32m━━━━━━━━━━━━━━━━━━━━\u001b[0m\u001b[37m\u001b[0m \u001b[1m3s\u001b[0m 17ms/step - accuracy: 0.9553 - loss: 0.1393 - val_accuracy: 0.9919 - val_loss: 0.0331\n",
            "Epoch 42/50\n",
            "\u001b[1m153/154\u001b[0m \u001b[32m━━━━━━━━━━━━━━━━━━━\u001b[0m\u001b[37m━\u001b[0m \u001b[1m0s\u001b[0m 15ms/step - accuracy: 0.9521 - loss: 0.1515\n",
            "Epoch 42: saving model to model/gesture_sign_classifier/gesture_sign_classifier.keras\n",
            "\u001b[1m154/154\u001b[0m \u001b[32m━━━━━━━━━━━━━━━━━━━━\u001b[0m\u001b[37m\u001b[0m \u001b[1m2s\u001b[0m 16ms/step - accuracy: 0.9521 - loss: 0.1516 - val_accuracy: 0.9876 - val_loss: 0.0367\n",
            "Epoch 43/50\n",
            "\u001b[1m151/154\u001b[0m \u001b[32m━━━━━━━━━━━━━━━━━━━\u001b[0m\u001b[37m━\u001b[0m \u001b[1m0s\u001b[0m 15ms/step - accuracy: 0.9520 - loss: 0.1603\n",
            "Epoch 43: saving model to model/gesture_sign_classifier/gesture_sign_classifier.keras\n",
            "\u001b[1m154/154\u001b[0m \u001b[32m━━━━━━━━━━━━━━━━━━━━\u001b[0m\u001b[37m\u001b[0m \u001b[1m2s\u001b[0m 16ms/step - accuracy: 0.9521 - loss: 0.1599 - val_accuracy: 0.9853 - val_loss: 0.0418\n",
            "Epoch 44/50\n",
            "\u001b[1m153/154\u001b[0m \u001b[32m━━━━━━━━━━━━━━━━━━━\u001b[0m\u001b[37m━\u001b[0m \u001b[1m0s\u001b[0m 15ms/step - accuracy: 0.9518 - loss: 0.1515\n",
            "Epoch 44: saving model to model/gesture_sign_classifier/gesture_sign_classifier.keras\n",
            "\u001b[1m154/154\u001b[0m \u001b[32m━━━━━━━━━━━━━━━━━━━━\u001b[0m\u001b[37m\u001b[0m \u001b[1m2s\u001b[0m 16ms/step - accuracy: 0.9518 - loss: 0.1514 - val_accuracy: 0.9786 - val_loss: 0.0472\n",
            "Epoch 45/50\n",
            "\u001b[1m154/154\u001b[0m \u001b[32m━━━━━━━━━━━━━━━━━━━━\u001b[0m\u001b[37m\u001b[0m \u001b[1m0s\u001b[0m 16ms/step - accuracy: 0.9542 - loss: 0.1494\n",
            "Epoch 45: saving model to model/gesture_sign_classifier/gesture_sign_classifier.keras\n",
            "\u001b[1m154/154\u001b[0m \u001b[32m━━━━━━━━━━━━━━━━━━━━\u001b[0m\u001b[37m\u001b[0m \u001b[1m3s\u001b[0m 17ms/step - accuracy: 0.9542 - loss: 0.1494 - val_accuracy: 0.9919 - val_loss: 0.0323\n",
            "Epoch 46/50\n",
            "\u001b[1m151/154\u001b[0m \u001b[32m━━━━━━━━━━━━━━━━━━━\u001b[0m\u001b[37m━\u001b[0m \u001b[1m0s\u001b[0m 16ms/step - accuracy: 0.9621 - loss: 0.1337\n",
            "Epoch 46: saving model to model/gesture_sign_classifier/gesture_sign_classifier.keras\n",
            "\u001b[1m154/154\u001b[0m \u001b[32m━━━━━━━━━━━━━━━━━━━━\u001b[0m\u001b[37m\u001b[0m \u001b[1m3s\u001b[0m 17ms/step - accuracy: 0.9621 - loss: 0.1335 - val_accuracy: 0.9876 - val_loss: 0.0316\n",
            "Epoch 47/50\n",
            "\u001b[1m151/154\u001b[0m \u001b[32m━━━━━━━━━━━━━━━━━━━\u001b[0m\u001b[37m━\u001b[0m \u001b[1m0s\u001b[0m 16ms/step - accuracy: 0.9469 - loss: 0.1678\n",
            "Epoch 47: saving model to model/gesture_sign_classifier/gesture_sign_classifier.keras\n",
            "\u001b[1m154/154\u001b[0m \u001b[32m━━━━━━━━━━━━━━━━━━━━\u001b[0m\u001b[37m\u001b[0m \u001b[1m3s\u001b[0m 17ms/step - accuracy: 0.9469 - loss: 0.1676 - val_accuracy: 0.9919 - val_loss: 0.0365\n",
            "Epoch 48/50\n",
            "\u001b[1m152/154\u001b[0m \u001b[32m━━━━━━━━━━━━━━━━━━━\u001b[0m\u001b[37m━\u001b[0m \u001b[1m0s\u001b[0m 15ms/step - accuracy: 0.9628 - loss: 0.1230\n",
            "Epoch 48: saving model to model/gesture_sign_classifier/gesture_sign_classifier.keras\n",
            "\u001b[1m154/154\u001b[0m \u001b[32m━━━━━━━━━━━━━━━━━━━━\u001b[0m\u001b[37m\u001b[0m \u001b[1m3s\u001b[0m 16ms/step - accuracy: 0.9627 - loss: 0.1231 - val_accuracy: 0.9919 - val_loss: 0.0397\n",
            "Epoch 49/50\n",
            "\u001b[1m153/154\u001b[0m \u001b[32m━━━━━━━━━━━━━━━━━━━\u001b[0m\u001b[37m━\u001b[0m \u001b[1m0s\u001b[0m 16ms/step - accuracy: 0.9582 - loss: 0.1396\n",
            "Epoch 49: saving model to model/gesture_sign_classifier/gesture_sign_classifier.keras\n",
            "\u001b[1m154/154\u001b[0m \u001b[32m━━━━━━━━━━━━━━━━━━━━\u001b[0m\u001b[37m\u001b[0m \u001b[1m3s\u001b[0m 18ms/step - accuracy: 0.9582 - loss: 0.1396 - val_accuracy: 0.9867 - val_loss: 0.0414\n",
            "Epoch 50/50\n",
            "\u001b[1m154/154\u001b[0m \u001b[32m━━━━━━━━━━━━━━━━━━━━\u001b[0m\u001b[37m\u001b[0m \u001b[1m0s\u001b[0m 15ms/step - accuracy: 0.9436 - loss: 0.1696\n",
            "Epoch 50: saving model to model/gesture_sign_classifier/gesture_sign_classifier.keras\n",
            "\u001b[1m154/154\u001b[0m \u001b[32m━━━━━━━━━━━━━━━━━━━━\u001b[0m\u001b[37m\u001b[0m \u001b[1m3s\u001b[0m 16ms/step - accuracy: 0.9436 - loss: 0.1694 - val_accuracy: 0.9900 - val_loss: 0.0425\n"
          ]
        },
        {
          "data": {
            "text/plain": [
              "<keras.src.callbacks.history.History at 0x1f96a028860>"
            ]
          },
          "execution_count": 13,
          "metadata": {},
          "output_type": "execute_result"
        }
      ],
      "source": [
        "model.fit(\n",
        "    X_train,\n",
        "    y_train,\n",
        "    epochs=50,\n",
        "    batch_size=64,\n",
        "    validation_data=(X_val, y_val),\n",
        "    callbacks=[cp_callback, es_callback]\n",
        ")"
      ]
    },
    {
      "cell_type": "code",
      "execution_count": 14,
      "metadata": {
        "id": "yRTVe6NarhXD"
      },
      "outputs": [],
      "source": [
        "# Carregamento do modelo salvo\n",
        "model = tf.keras.models.load_model(model_save_path)"
      ]
    },
    {
      "cell_type": "code",
      "execution_count": 15,
      "metadata": {
        "id": "TwyIR1LWrhXD",
        "outputId": "3594d7db-9b97-4bb9-8586-d720d17b199a"
      },
      "outputs": [
        {
          "name": "stdout",
          "output_type": "stream",
          "text": [
            "\u001b[1m1/1\u001b[0m \u001b[32m━━━━━━━━━━━━━━━━━━━━\u001b[0m\u001b[37m\u001b[0m \u001b[1m0s\u001b[0m 48ms/step\n",
            "[0.0000000e+00 1.0729748e-37 5.3615387e-26 0.0000000e+00 1.0384582e-26\n",
            " 2.3391351e-15 4.1290682e-32 0.0000000e+00 0.0000000e+00 0.0000000e+00\n",
            " 2.5228155e-14 0.0000000e+00 3.0753894e-24 0.0000000e+00 3.1755122e-36\n",
            " 7.9207536e-27 3.7393998e-28 4.4964463e-32 3.9844075e-16 1.3974053e-16\n",
            " 2.0915821e-34 1.7987907e-26 3.7370042e-28 1.3196417e-28 3.2590161e-26\n",
            " 3.0592899e-31 3.9571857e-17 0.0000000e+00 5.8753851e-29 3.1583714e-35\n",
            " 0.0000000e+00 0.0000000e+00 0.0000000e+00 1.3504994e-26 1.0000000e+00\n",
            " 0.0000000e+00]\n",
            "34\n"
          ]
        }
      ],
      "source": [
        "# Teste de inferência\n",
        "predict_result = model.predict(np.array([X_test[0]]))\n",
        "print(np.squeeze(predict_result))\n",
        "print(np.argmax(np.squeeze(predict_result)))"
      ]
    },
    {
      "cell_type": "markdown",
      "metadata": {
        "id": "6OuS9YGOrhXD"
      },
      "source": [
        "Linhas mistas"
      ]
    },
    {
      "cell_type": "code",
      "execution_count": 16,
      "metadata": {
        "id": "bGAmJ3i3rhXD",
        "outputId": "a4e0c646-1592-4f85-ce47-d0a8ff89ad4f"
      },
      "outputs": [
        {
          "name": "stdout",
          "output_type": "stream",
          "text": [
            "\u001b[1m66/66\u001b[0m \u001b[32m━━━━━━━━━━━━━━━━━━━━\u001b[0m\u001b[37m\u001b[0m \u001b[1m0s\u001b[0m 2ms/step\n"
          ]
        },
        {
          "data": {
            "image/png": "[encoded data removed]",
            "text/plain": [
              "<Figure size 700x600 with 2 Axes>"
            ]
          },
          "metadata": {},
          "output_type": "display_data"
        },
        {
          "name": "stdout",
          "output_type": "stream",
          "text": [
            "Classification Report\n",
            "              precision    recall  f1-score   support\n",
            "\n",
            "           1       0.93      1.00      0.96        25\n",
            "           2       0.98      1.00      0.99        53\n",
            "           3       1.00      0.90      0.95        21\n",
            "           4       1.00      0.97      0.98        33\n",
            "           5       1.00      1.00      1.00        33\n",
            "           6       1.00      0.93      0.96        14\n",
            "          10       1.00      1.00      1.00        93\n",
            "          11       0.97      1.00      0.98        94\n",
            "          12       0.99      1.00      0.99        76\n",
            "          13       1.00      0.99      1.00       107\n",
            "          14       1.00      0.98      0.99        82\n",
            "          15       0.99      1.00      1.00       110\n",
            "          16       1.00      0.98      0.99        84\n",
            "          17       0.98      0.98      0.98        56\n",
            "          18       0.99      1.00      0.99        68\n",
            "          19       1.00      1.00      1.00        37\n",
            "          20       1.00      0.95      0.98        62\n",
            "          21       1.00      1.00      1.00        53\n",
            "          22       0.98      1.00      0.99        57\n",
            "          23       0.98      0.96      0.97        48\n",
            "          24       1.00      1.00      1.00        71\n",
            "          25       0.98      1.00      0.99        99\n",
            "          26       1.00      0.99      0.99        83\n",
            "          27       1.00      1.00      1.00        77\n",
            "          28       1.00      1.00      1.00        70\n",
            "          29       1.00      0.99      0.99        90\n",
            "          30       0.99      1.00      0.99        80\n",
            "          31       0.99      1.00      0.99        81\n",
            "          32       1.00      1.00      1.00        82\n",
            "          33       0.98      1.00      0.99        62\n",
            "          34       1.00      1.00      1.00        68\n",
            "          35       0.94      0.94      0.94        34\n",
            "\n",
            "    accuracy                           0.99      2103\n",
            "   macro avg       0.99      0.99      0.99      2103\n",
            "weighted avg       0.99      0.99      0.99      2103\n",
            "\n"
          ]
        }
      ],
      "source": [
        "#O código abaixo foi adaptado a partir da seguinte resposta do Stack Overflow:\n",
        "# Fonte: Stack Overflow Users. (2018). Stack Overflow. \n",
        "# Retrieved from https://stackoverflow.com/questions/50443411/how-to-load-a-tflite-model-in-script\n",
        "import pandas as pd\n",
        "import seaborn as sns\n",
        "import matplotlib.pyplot as plt\n",
        "from sklearn.metrics import confusion_matrix, classification_report\n",
        "\n",
        "def print_confusion_matrix(y_true, y_pred, report=True):\n",
        "    labels = sorted(list(set(y_true)))\n",
        "    cmx_data = confusion_matrix(y_true, y_pred, labels=labels)\n",
        "\n",
        "    df_cmx = pd.DataFrame(cmx_data, index=labels, columns=labels)\n",
        "\n",
        "    fig, ax = plt.subplots(figsize=(7, 6))\n",
        "    sns.heatmap(df_cmx, annot=True, fmt='g' ,square=False)\n",
        "    ax.set_ylim(len(set(y_true)), 0)\n",
        "    plt.show()\n",
        "\n",
        "    if report:\n",
        "        print('Classification Report')\n",
        "        print(classification_report(y_test, y_pred))\n",
        "\n",
        "Y_pred = model.predict(X_test)\n",
        "y_pred = np.argmax(Y_pred, axis=1)\n",
        "\n",
        "print_confusion_matrix(y_test, y_pred)"
      ]
    },
    {
      "cell_type": "markdown",
      "metadata": {
        "id": "a6brrSFLrhXD"
      },
      "source": [
        "Converter em modelo para Tensorflow-Lite"
      ]
    },
    {
      "cell_type": "code",
      "execution_count": 17,
      "metadata": {
        "id": "TWV8XN7rrhXD"
      },
      "outputs": [],
      "source": [
        "# Salvando como modelo apenas para inferência\n",
        "model.save(model_save_path, include_optimizer=False)\n",
        "model = tf.keras.models.load_model(model_save_path)"
      ]
    },
    {
      "cell_type": "code",
      "execution_count": 18,
      "metadata": {
        "id": "OULJmjNlrhXE"
      },
      "outputs": [],
      "source": [
        "tflite_save_path = 'model/gesture_sign_classifier/gesture_sign_classifier.tflite'"
      ]
    },
    {
      "cell_type": "code",
      "execution_count": 19,
      "metadata": {
        "id": "W2WG7c1vrhXE",
        "outputId": "22443d5e-829e-4913-dad2-0beeaec63d9f"
      },
      "outputs": [
        {
          "name": "stdout",
          "output_type": "stream",
          "text": [
            "INFO:tensorflow:Assets written to: saved_model\\assets\n"
          ]
        },
        {
          "name": "stderr",
          "output_type": "stream",
          "text": [
            "INFO:tensorflow:Assets written to: saved_model\\assets\n"
          ]
        },
        {
          "name": "stdout",
          "output_type": "stream",
          "text": [
            "Saved artifact at 'saved_model'. The following endpoints are available:\n",
            "\n",
            "* Endpoint 'serve'\n",
            "  args_0 (POSITIONAL_ONLY): TensorSpec(shape=(None, 3864), dtype=tf.float32, name='input_layer')\n",
            "Output Type:\n",
            "  TensorSpec(shape=(None, 36), dtype=tf.float32, name=None)\n",
            "Captures:\n",
            "  2169029054288: TensorSpec(shape=(), dtype=tf.resource, name=None)\n",
            "  2169029055248: TensorSpec(shape=(), dtype=tf.resource, name=None)\n",
            "  2169029056016: TensorSpec(shape=(), dtype=tf.resource, name=None)\n",
            "  2169029056976: TensorSpec(shape=(), dtype=tf.resource, name=None)\n",
            "  2169029057168: TensorSpec(shape=(), dtype=tf.resource, name=None)\n",
            "  2169029058128: TensorSpec(shape=(), dtype=tf.resource, name=None)\n",
            "  2169029057936: TensorSpec(shape=(), dtype=tf.resource, name=None)\n",
            "  2169029058896: TensorSpec(shape=(), dtype=tf.resource, name=None)\n"
          ]
        }
      ],
      "source": [
        "#Codigo adaptado a partir da documentação do tensoflow\n",
        "#Fonte: MediaPipe Authors. (2020). MediaPipe Python (Version 2.0) [Source code]. Retrieved from https://www.tensorflow.org/lite/convert?hl=pt-br\n",
        "\n",
        "\n",
        "# Exportar o modelo Keras para o formato de modelo salvo\n",
        "model.export(\"saved_model\")\n",
        "\n",
        "# Converter o modelo salvo para TensorFlow Lite\n",
        "converter = tf.lite.TFLiteConverter.from_saved_model(\"saved_model\")\n",
        "tflite_model = converter.convert()\n",
        "\n",
        "# Salvar o modelo TensorFlow Lite em um arquivo\n",
        "with open(tflite_save_path, \"wb\") as f:\n",
        "    f.write(tflite_model)\n"
      ]
    }
  ],
  "metadata": {
    "colab": {
      "provenance": []
    },
    "kernelspec": {
      "display_name": "Python 3",
      "language": "python",
      "name": "python3"
    },
    "language_info": {
      "codemirror_mode": {
        "name": "ipython",
        "version": 3
      },
      "file_extension": ".py",
      "mimetype": "text/x-python",
      "name": "python",
      "nbconvert_exporter": "python",
      "pygments_lexer": "ipython3",
      "version": "3.12.3"
    }
  },
  "nbformat": 4,
  "nbformat_minor": 0
}
