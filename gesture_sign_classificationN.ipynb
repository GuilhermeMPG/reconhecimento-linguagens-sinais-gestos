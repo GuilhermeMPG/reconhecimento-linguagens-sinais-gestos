{
  "cells": [
    {
      "cell_type": "code",
      "execution_count": 1,
      "metadata": {
        "id": "_AGA2lv1rhW_"
      },
      "outputs": [],
      "source": [
        "# Código adaptado em Jupyter Notebook com base nos materiais disponibilizados pelo professor, juntamente com exemplos do próprio TensorFlow. \n",
        "# O TensorFlow é uma biblioteca popular para aprendizado de máquina e pode ser encontrado na sua documentação oficial.\n",
        "import numpy as np\n",
        "import tensorflow as tf\n",
        "from sklearn.model_selection import train_test_split\n",
        "\n",
        "RANDOM_SEED = 1024"
      ]
    },
    {
      "cell_type": "markdown",
      "metadata": {
        "id": "ZDguXYmFrhXA"
      },
      "source": [
        "Especifique cada caminho\n"
      ]
    },
    {
      "cell_type": "code",
      "execution_count": 2,
      "metadata": {
        "id": "9Z7Z9w_srhXB"
      },
      "outputs": [],
      "source": [
        "dataset = 'model/gesture_sign_classifier/gesture_sign_history.csv'\n",
        "model_save_path = 'model/gesture_sign_classifier/gesture_sign_classifier.keras'"
      ]
    },
    {
      "cell_type": "markdown",
      "metadata": {
        "id": "h8LgLD1YrhXB"
      },
      "source": [
        "Configuração do número de classificação"
      ]
    },
    {
      "cell_type": "code",
      "execution_count": 3,
      "metadata": {
        "id": "kP5mq1g0rhXB"
      },
      "outputs": [],
      "source": [
        "NUM_CLASSES = 36"
      ]
    },
    {
      "cell_type": "markdown",
      "metadata": {
        "id": "lu74KcO1rhXB"
      },
      "source": [
        "Comprimento de entrada"
      ]
    },
    {
      "cell_type": "code",
      "execution_count": 4,
      "metadata": {
        "id": "NryeSr5PrhXB"
      },
      "outputs": [],
      "source": [
        "TAMANHO_DATA = (966 * 4)\n"
      ]
    },
    {
      "cell_type": "markdown",
      "metadata": {
        "id": "QmvvxgHArhXB"
      },
      "source": [
        "Carregar dados de aprendizagem\n",
        "\n"
      ]
    },
    {
      "cell_type": "code",
      "execution_count": 5,
      "metadata": {
        "id": "tmLPKtslrhXB"
      },
      "outputs": [],
      "source": [
        "X_dataset = np.loadtxt(dataset, delimiter=',', dtype='float32', usecols=list(range(1, (TAMANHO_DATA) + 1)))"
      ]
    },
    {
      "cell_type": "code",
      "execution_count": 6,
      "metadata": {
        "id": "ZpRwynpqrhXC"
      },
      "outputs": [],
      "source": [
        "y_dataset = np.loadtxt(dataset, delimiter=',', dtype='int32', usecols=(0))"
      ]
    },
    {
      "cell_type": "code",
      "execution_count": 7,
      "metadata": {
        "id": "h36-2dPHrhXC"
      },
      "outputs": [
        {
          "name": "stdout",
          "output_type": "stream",
          "text": [
            "Tamanho do conjunto de treino: 9805\n",
            "Tamanho do conjunto de validação: 2102\n",
            "Tamanho do conjunto de teste: 2101\n"
          ]
        }
      ],
      "source": [
        "# Dividindo os dados em 70% treino e 30% (teste + validação)\n",
        "X_train, X_test_val, y_train, y_test_val = train_test_split(X_dataset, y_dataset, train_size=0.70, random_state=RANDOM_SEED)\n",
        "\n",
        "# Dividindo os 30% em 15% validação e 15% teste\n",
        "X_test, X_val, y_test, y_val = train_test_split(X_test_val, y_test_val, test_size=0.5, random_state=RANDOM_SEED)\n",
        "\n",
        "# Exibindo a quantidade de dados em cada conjunto\n",
        "print(f'Tamanho do conjunto de treino: {len(X_train)}')\n",
        "print(f'Tamanho do conjunto de validação: {len(X_val)}')\n",
        "print(f'Tamanho do conjunto de teste: {len(X_test)}')"
      ]
    },
    {
      "cell_type": "markdown",
      "metadata": {
        "id": "tZU0U_k3rhXC"
      },
      "source": [
        "Construção de modelo"
      ]
    },
    {
      "cell_type": "code",
      "execution_count": 8,
      "metadata": {
        "id": "sQJFryxyrhXC"
      },
      "outputs": [
        {
          "name": "stderr",
          "output_type": "stream",
          "text": [
            "c:\\Users\\Guilherme\\AppData\\Local\\Programs\\Python\\Python312\\Lib\\site-packages\\keras\\src\\layers\\core\\input_layer.py:25: UserWarning: Argument `input_shape` is deprecated. Use `shape` instead.\n",
            "  warnings.warn(\n"
          ]
        }
      ],
      "source": [
        "model = tf.keras.models.Sequential([\n",
        "    tf.keras.layers.InputLayer(input_shape=(TAMANHO_DATA, )),\n",
        "    tf.keras.layers.Dense(512, activation='relu', kernel_initializer=tf.keras.initializers.HeNormal(seed=RANDOM_SEED)),\n",
        "    tf.keras.layers.Dropout(0.5, seed=RANDOM_SEED),\n",
        "    tf.keras.layers.Dense(256, activation='relu', kernel_initializer=tf.keras.initializers.HeNormal(seed=RANDOM_SEED)),\n",
        "    tf.keras.layers.Dropout(0.5, seed=RANDOM_SEED),\n",
        "    tf.keras.layers.Dense(128, activation='relu', kernel_initializer=tf.keras.initializers.HeNormal(seed=RANDOM_SEED)),\n",
        "    tf.keras.layers.Dense(NUM_CLASSES, activation='softmax')\n",
        "])\n"
      ]
    },
    {
      "cell_type": "code",
      "execution_count": 9,
      "metadata": {
        "id": "z2NoizMyrhXC",
        "outputId": "15fcaefa-de1e-4e2f-e177-9c1b4913a645"
      },
      "outputs": [
        {
          "data": {
            "text/html": [
              "<pre style=\"white-space:pre;overflow-x:auto;line-height:normal;font-family:Menlo,'DejaVu Sans Mono',consolas,'Courier New',monospace\"><span style=\"font-weight: bold\">Model: \"sequential\"</span>\n",
              "</pre>\n"
            ],
            "text/plain": [
              "\u001b[1mModel: \"sequential\"\u001b[0m\n"
            ]
          },
          "metadata": {},
          "output_type": "display_data"
        },
        {
          "data": {
            "text/html": [
              "<pre style=\"white-space:pre;overflow-x:auto;line-height:normal;font-family:Menlo,'DejaVu Sans Mono',consolas,'Courier New',monospace\">┏━━━━━━━━━━━━━━━━━━━━━━━━━━━━━━━━━┳━━━━━━━━━━━━━━━━━━━━━━━━┳━━━━━━━━━━━━━━━┓\n",
              "┃<span style=\"font-weight: bold\"> Layer (type)                    </span>┃<span style=\"font-weight: bold\"> Output Shape           </span>┃<span style=\"font-weight: bold\">       Param # </span>┃\n",
              "┡━━━━━━━━━━━━━━━━━━━━━━━━━━━━━━━━━╇━━━━━━━━━━━━━━━━━━━━━━━━╇━━━━━━━━━━━━━━━┩\n",
              "│ dense (<span style=\"color: #0087ff; text-decoration-color: #0087ff\">Dense</span>)                   │ (<span style=\"color: #00d7ff; text-decoration-color: #00d7ff\">None</span>, <span style=\"color: #00af00; text-decoration-color: #00af00\">512</span>)            │     <span style=\"color: #00af00; text-decoration-color: #00af00\">1,978,880</span> │\n",
              "├─────────────────────────────────┼────────────────────────┼───────────────┤\n",
              "│ dropout (<span style=\"color: #0087ff; text-decoration-color: #0087ff\">Dropout</span>)               │ (<span style=\"color: #00d7ff; text-decoration-color: #00d7ff\">None</span>, <span style=\"color: #00af00; text-decoration-color: #00af00\">512</span>)            │             <span style=\"color: #00af00; text-decoration-color: #00af00\">0</span> │\n",
              "├─────────────────────────────────┼────────────────────────┼───────────────┤\n",
              "│ dense_1 (<span style=\"color: #0087ff; text-decoration-color: #0087ff\">Dense</span>)                 │ (<span style=\"color: #00d7ff; text-decoration-color: #00d7ff\">None</span>, <span style=\"color: #00af00; text-decoration-color: #00af00\">256</span>)            │       <span style=\"color: #00af00; text-decoration-color: #00af00\">131,328</span> │\n",
              "├─────────────────────────────────┼────────────────────────┼───────────────┤\n",
              "│ dropout_1 (<span style=\"color: #0087ff; text-decoration-color: #0087ff\">Dropout</span>)             │ (<span style=\"color: #00d7ff; text-decoration-color: #00d7ff\">None</span>, <span style=\"color: #00af00; text-decoration-color: #00af00\">256</span>)            │             <span style=\"color: #00af00; text-decoration-color: #00af00\">0</span> │\n",
              "├─────────────────────────────────┼────────────────────────┼───────────────┤\n",
              "│ dense_2 (<span style=\"color: #0087ff; text-decoration-color: #0087ff\">Dense</span>)                 │ (<span style=\"color: #00d7ff; text-decoration-color: #00d7ff\">None</span>, <span style=\"color: #00af00; text-decoration-color: #00af00\">128</span>)            │        <span style=\"color: #00af00; text-decoration-color: #00af00\">32,896</span> │\n",
              "├─────────────────────────────────┼────────────────────────┼───────────────┤\n",
              "│ dense_3 (<span style=\"color: #0087ff; text-decoration-color: #0087ff\">Dense</span>)                 │ (<span style=\"color: #00d7ff; text-decoration-color: #00d7ff\">None</span>, <span style=\"color: #00af00; text-decoration-color: #00af00\">36</span>)             │         <span style=\"color: #00af00; text-decoration-color: #00af00\">4,644</span> │\n",
              "└─────────────────────────────────┴────────────────────────┴───────────────┘\n",
              "</pre>\n"
            ],
            "text/plain": [
              "┏━━━━━━━━━━━━━━━━━━━━━━━━━━━━━━━━━┳━━━━━━━━━━━━━━━━━━━━━━━━┳━━━━━━━━━━━━━━━┓\n",
              "┃\u001b[1m \u001b[0m\u001b[1mLayer (type)                   \u001b[0m\u001b[1m \u001b[0m┃\u001b[1m \u001b[0m\u001b[1mOutput Shape          \u001b[0m\u001b[1m \u001b[0m┃\u001b[1m \u001b[0m\u001b[1m      Param #\u001b[0m\u001b[1m \u001b[0m┃\n",
              "┡━━━━━━━━━━━━━━━━━━━━━━━━━━━━━━━━━╇━━━━━━━━━━━━━━━━━━━━━━━━╇━━━━━━━━━━━━━━━┩\n",
              "│ dense (\u001b[38;5;33mDense\u001b[0m)                   │ (\u001b[38;5;45mNone\u001b[0m, \u001b[38;5;34m512\u001b[0m)            │     \u001b[38;5;34m1,978,880\u001b[0m │\n",
              "├─────────────────────────────────┼────────────────────────┼───────────────┤\n",
              "│ dropout (\u001b[38;5;33mDropout\u001b[0m)               │ (\u001b[38;5;45mNone\u001b[0m, \u001b[38;5;34m512\u001b[0m)            │             \u001b[38;5;34m0\u001b[0m │\n",
              "├─────────────────────────────────┼────────────────────────┼───────────────┤\n",
              "│ dense_1 (\u001b[38;5;33mDense\u001b[0m)                 │ (\u001b[38;5;45mNone\u001b[0m, \u001b[38;5;34m256\u001b[0m)            │       \u001b[38;5;34m131,328\u001b[0m │\n",
              "├─────────────────────────────────┼────────────────────────┼───────────────┤\n",
              "│ dropout_1 (\u001b[38;5;33mDropout\u001b[0m)             │ (\u001b[38;5;45mNone\u001b[0m, \u001b[38;5;34m256\u001b[0m)            │             \u001b[38;5;34m0\u001b[0m │\n",
              "├─────────────────────────────────┼────────────────────────┼───────────────┤\n",
              "│ dense_2 (\u001b[38;5;33mDense\u001b[0m)                 │ (\u001b[38;5;45mNone\u001b[0m, \u001b[38;5;34m128\u001b[0m)            │        \u001b[38;5;34m32,896\u001b[0m │\n",
              "├─────────────────────────────────┼────────────────────────┼───────────────┤\n",
              "│ dense_3 (\u001b[38;5;33mDense\u001b[0m)                 │ (\u001b[38;5;45mNone\u001b[0m, \u001b[38;5;34m36\u001b[0m)             │         \u001b[38;5;34m4,644\u001b[0m │\n",
              "└─────────────────────────────────┴────────────────────────┴───────────────┘\n"
            ]
          },
          "metadata": {},
          "output_type": "display_data"
        },
        {
          "data": {
            "text/html": [
              "<pre style=\"white-space:pre;overflow-x:auto;line-height:normal;font-family:Menlo,'DejaVu Sans Mono',consolas,'Courier New',monospace\"><span style=\"font-weight: bold\"> Total params: </span><span style=\"color: #00af00; text-decoration-color: #00af00\">2,147,748</span> (8.19 MB)\n",
              "</pre>\n"
            ],
            "text/plain": [
              "\u001b[1m Total params: \u001b[0m\u001b[38;5;34m2,147,748\u001b[0m (8.19 MB)\n"
            ]
          },
          "metadata": {},
          "output_type": "display_data"
        },
        {
          "data": {
            "text/html": [
              "<pre style=\"white-space:pre;overflow-x:auto;line-height:normal;font-family:Menlo,'DejaVu Sans Mono',consolas,'Courier New',monospace\"><span style=\"font-weight: bold\"> Trainable params: </span><span style=\"color: #00af00; text-decoration-color: #00af00\">2,147,748</span> (8.19 MB)\n",
              "</pre>\n"
            ],
            "text/plain": [
              "\u001b[1m Trainable params: \u001b[0m\u001b[38;5;34m2,147,748\u001b[0m (8.19 MB)\n"
            ]
          },
          "metadata": {},
          "output_type": "display_data"
        },
        {
          "data": {
            "text/html": [
              "<pre style=\"white-space:pre;overflow-x:auto;line-height:normal;font-family:Menlo,'DejaVu Sans Mono',consolas,'Courier New',monospace\"><span style=\"font-weight: bold\"> Non-trainable params: </span><span style=\"color: #00af00; text-decoration-color: #00af00\">0</span> (0.00 B)\n",
              "</pre>\n"
            ],
            "text/plain": [
              "\u001b[1m Non-trainable params: \u001b[0m\u001b[38;5;34m0\u001b[0m (0.00 B)\n"
            ]
          },
          "metadata": {},
          "output_type": "display_data"
        }
      ],
      "source": [
        "model.summary()  # tf.keras.utils.plot_model(model, show_shapes=True)"
      ]
    },
    {
      "cell_type": "code",
      "execution_count": 10,
      "metadata": {
        "id": "VU9Z7Ns5rhXC"
      },
      "outputs": [],
      "source": [
        "#Callback para checkpoint do modelo\n",
        "cp_callback = tf.keras.callbacks.ModelCheckpoint(\n",
        "  model_save_path, verbose=1, save_weights_only=False)\n",
        "\n",
        "#Callback para parada antecipada\n",
        "es_callback = tf.keras.callbacks.EarlyStopping(patience=20, verbose=1)"
      ]
    },
    {
      "cell_type": "code",
      "execution_count": 11,
      "metadata": {
        "colab": {
          "base_uri": "https://localhost:8080/",
          "height": 211
        },
        "id": "bg5jQdiTrhXD",
        "outputId": "402cad72-f6c6-4273-e613-f101e0ad9779"
      },
      "outputs": [],
      "source": [
        "#Compilação do modelo\n",
        "model.compile(\n",
        "    optimizer=tf.keras.optimizers.Adam(learning_rate=0.001),\n",
        "    loss='sparse_categorical_crossentropy',\n",
        "    metrics=['accuracy']\n",
        ")\n",
        "\n"
      ]
    },
    {
      "cell_type": "markdown",
      "metadata": {
        "id": "9Q4HsdQmrhXD"
      },
      "source": [
        "Treinamento do modelo"
      ]
    },
    {
      "cell_type": "code",
      "execution_count": 12,
      "metadata": {
        "id": "8OmaPJjtrhXD",
        "outputId": "cec74298-5773-48fc-fa4b-b01cf48ea269",
        "scrolled": true
      },
      "outputs": [
        {
          "name": "stdout",
          "output_type": "stream",
          "text": [
            "Epoch 1/50\n",
            "\u001b[1m153/154\u001b[0m \u001b[32m━━━━━━━━━━━━━━━━━━━\u001b[0m\u001b[37m━\u001b[0m \u001b[1m0s\u001b[0m 15ms/step - accuracy: 0.1194 - loss: 3.3333\n",
            "Epoch 1: saving model to model/gesture_sign_classifier/gesture_sign_classifier.keras\n",
            "\u001b[1m154/154\u001b[0m \u001b[32m━━━━━━━━━━━━━━━━━━━━\u001b[0m\u001b[37m\u001b[0m \u001b[1m3s\u001b[0m 17ms/step - accuracy: 0.1203 - loss: 3.3274 - val_accuracy: 0.5300 - val_loss: 1.4849\n",
            "Epoch 2/50\n",
            "\u001b[1m154/154\u001b[0m \u001b[32m━━━━━━━━━━━━━━━━━━━━\u001b[0m\u001b[37m\u001b[0m \u001b[1m0s\u001b[0m 16ms/step - accuracy: 0.4181 - loss: 1.7774\n",
            "Epoch 2: saving model to model/gesture_sign_classifier/gesture_sign_classifier.keras\n",
            "\u001b[1m154/154\u001b[0m \u001b[32m━━━━━━━━━━━━━━━━━━━━\u001b[0m\u001b[37m\u001b[0m \u001b[1m3s\u001b[0m 17ms/step - accuracy: 0.4185 - loss: 1.7759 - val_accuracy: 0.7788 - val_loss: 0.7201\n",
            "Epoch 3/50\n",
            "\u001b[1m153/154\u001b[0m \u001b[32m━━━━━━━━━━━━━━━━━━━\u001b[0m\u001b[37m━\u001b[0m \u001b[1m0s\u001b[0m 15ms/step - accuracy: 0.6205 - loss: 1.0840\n",
            "Epoch 3: saving model to model/gesture_sign_classifier/gesture_sign_classifier.keras\n",
            "\u001b[1m154/154\u001b[0m \u001b[32m━━━━━━━━━━━━━━━━━━━━\u001b[0m\u001b[37m\u001b[0m \u001b[1m2s\u001b[0m 16ms/step - accuracy: 0.6210 - loss: 1.0830 - val_accuracy: 0.8620 - val_loss: 0.4288\n",
            "Epoch 4/50\n",
            "\u001b[1m153/154\u001b[0m \u001b[32m━━━━━━━━━━━━━━━━━━━\u001b[0m\u001b[37m━\u001b[0m \u001b[1m0s\u001b[0m 16ms/step - accuracy: 0.7083 - loss: 0.8052\n",
            "Epoch 4: saving model to model/gesture_sign_classifier/gesture_sign_classifier.keras\n",
            "\u001b[1m154/154\u001b[0m \u001b[32m━━━━━━━━━━━━━━━━━━━━\u001b[0m\u001b[37m\u001b[0m \u001b[1m3s\u001b[0m 17ms/step - accuracy: 0.7084 - loss: 0.8049 - val_accuracy: 0.8687 - val_loss: 0.3382\n",
            "Epoch 5/50\n",
            "\u001b[1m154/154\u001b[0m \u001b[32m━━━━━━━━━━━━━━━━━━━━\u001b[0m\u001b[37m\u001b[0m \u001b[1m0s\u001b[0m 17ms/step - accuracy: 0.7594 - loss: 0.6673\n",
            "Epoch 5: saving model to model/gesture_sign_classifier/gesture_sign_classifier.keras\n",
            "\u001b[1m154/154\u001b[0m \u001b[32m━━━━━━━━━━━━━━━━━━━━\u001b[0m\u001b[37m\u001b[0m \u001b[1m3s\u001b[0m 18ms/step - accuracy: 0.7595 - loss: 0.6671 - val_accuracy: 0.9025 - val_loss: 0.2893\n",
            "Epoch 6/50\n",
            "\u001b[1m153/154\u001b[0m \u001b[32m━━━━━━━━━━━━━━━━━━━\u001b[0m\u001b[37m━\u001b[0m \u001b[1m0s\u001b[0m 17ms/step - accuracy: 0.7725 - loss: 0.6398\n",
            "Epoch 6: saving model to model/gesture_sign_classifier/gesture_sign_classifier.keras\n",
            "\u001b[1m154/154\u001b[0m \u001b[32m━━━━━━━━━━━━━━━━━━━━\u001b[0m\u001b[37m\u001b[0m \u001b[1m3s\u001b[0m 18ms/step - accuracy: 0.7726 - loss: 0.6392 - val_accuracy: 0.8863 - val_loss: 0.2982\n",
            "Epoch 7/50\n",
            "\u001b[1m154/154\u001b[0m \u001b[32m━━━━━━━━━━━━━━━━━━━━\u001b[0m\u001b[37m\u001b[0m \u001b[1m0s\u001b[0m 16ms/step - accuracy: 0.7893 - loss: 0.5449\n",
            "Epoch 7: saving model to model/gesture_sign_classifier/gesture_sign_classifier.keras\n",
            "\u001b[1m154/154\u001b[0m \u001b[32m━━━━━━━━━━━━━━━━━━━━\u001b[0m\u001b[37m\u001b[0m \u001b[1m3s\u001b[0m 18ms/step - accuracy: 0.7894 - loss: 0.5447 - val_accuracy: 0.9182 - val_loss: 0.2525\n",
            "Epoch 8/50\n",
            "\u001b[1m154/154\u001b[0m \u001b[32m━━━━━━━━━━━━━━━━━━━━\u001b[0m\u001b[37m\u001b[0m \u001b[1m0s\u001b[0m 17ms/step - accuracy: 0.8350 - loss: 0.4626\n",
            "Epoch 8: saving model to model/gesture_sign_classifier/gesture_sign_classifier.keras\n",
            "\u001b[1m154/154\u001b[0m \u001b[32m━━━━━━━━━━━━━━━━━━━━\u001b[0m\u001b[37m\u001b[0m \u001b[1m3s\u001b[0m 18ms/step - accuracy: 0.8350 - loss: 0.4625 - val_accuracy: 0.9286 - val_loss: 0.2186\n",
            "Epoch 9/50\n",
            "\u001b[1m153/154\u001b[0m \u001b[32m━━━━━━━━━━━━━━━━━━━\u001b[0m\u001b[37m━\u001b[0m \u001b[1m0s\u001b[0m 15ms/step - accuracy: 0.8439 - loss: 0.4217\n",
            "Epoch 9: saving model to model/gesture_sign_classifier/gesture_sign_classifier.keras\n",
            "\u001b[1m154/154\u001b[0m \u001b[32m━━━━━━━━━━━━━━━━━━━━\u001b[0m\u001b[37m\u001b[0m \u001b[1m2s\u001b[0m 16ms/step - accuracy: 0.8439 - loss: 0.4217 - val_accuracy: 0.9186 - val_loss: 0.1953\n",
            "Epoch 10/50\n",
            "\u001b[1m152/154\u001b[0m \u001b[32m━━━━━━━━━━━━━━━━━━━\u001b[0m\u001b[37m━\u001b[0m \u001b[1m0s\u001b[0m 15ms/step - accuracy: 0.8551 - loss: 0.3909\n",
            "Epoch 10: saving model to model/gesture_sign_classifier/gesture_sign_classifier.keras\n",
            "\u001b[1m154/154\u001b[0m \u001b[32m━━━━━━━━━━━━━━━━━━━━\u001b[0m\u001b[37m\u001b[0m \u001b[1m3s\u001b[0m 17ms/step - accuracy: 0.8552 - loss: 0.3908 - val_accuracy: 0.9500 - val_loss: 0.1676\n",
            "Epoch 11/50\n",
            "\u001b[1m153/154\u001b[0m \u001b[32m━━━━━━━━━━━━━━━━━━━\u001b[0m\u001b[37m━\u001b[0m \u001b[1m0s\u001b[0m 14ms/step - accuracy: 0.8559 - loss: 0.3888\n",
            "Epoch 11: saving model to model/gesture_sign_classifier/gesture_sign_classifier.keras\n",
            "\u001b[1m154/154\u001b[0m \u001b[32m━━━━━━━━━━━━━━━━━━━━\u001b[0m\u001b[37m\u001b[0m \u001b[1m2s\u001b[0m 15ms/step - accuracy: 0.8559 - loss: 0.3886 - val_accuracy: 0.9667 - val_loss: 0.1550\n",
            "Epoch 12/50\n",
            "\u001b[1m153/154\u001b[0m \u001b[32m━━━━━━━━━━━━━━━━━━━\u001b[0m\u001b[37m━\u001b[0m \u001b[1m0s\u001b[0m 15ms/step - accuracy: 0.8728 - loss: 0.3557\n",
            "Epoch 12: saving model to model/gesture_sign_classifier/gesture_sign_classifier.keras\n",
            "\u001b[1m154/154\u001b[0m \u001b[32m━━━━━━━━━━━━━━━━━━━━\u001b[0m\u001b[37m\u001b[0m \u001b[1m2s\u001b[0m 16ms/step - accuracy: 0.8729 - loss: 0.3555 - val_accuracy: 0.9424 - val_loss: 0.1773\n",
            "Epoch 13/50\n",
            "\u001b[1m152/154\u001b[0m \u001b[32m━━━━━━━━━━━━━━━━━━━\u001b[0m\u001b[37m━\u001b[0m \u001b[1m0s\u001b[0m 15ms/step - accuracy: 0.8886 - loss: 0.3116\n",
            "Epoch 13: saving model to model/gesture_sign_classifier/gesture_sign_classifier.keras\n",
            "\u001b[1m154/154\u001b[0m \u001b[32m━━━━━━━━━━━━━━━━━━━━\u001b[0m\u001b[37m\u001b[0m \u001b[1m2s\u001b[0m 16ms/step - accuracy: 0.8885 - loss: 0.3118 - val_accuracy: 0.9529 - val_loss: 0.1799\n",
            "Epoch 14/50\n",
            "\u001b[1m152/154\u001b[0m \u001b[32m━━━━━━━━━━━━━━━━━━━\u001b[0m\u001b[37m━\u001b[0m \u001b[1m0s\u001b[0m 15ms/step - accuracy: 0.8871 - loss: 0.3170\n",
            "Epoch 14: saving model to model/gesture_sign_classifier/gesture_sign_classifier.keras\n",
            "\u001b[1m154/154\u001b[0m \u001b[32m━━━━━━━━━━━━━━━━━━━━\u001b[0m\u001b[37m\u001b[0m \u001b[1m2s\u001b[0m 16ms/step - accuracy: 0.8872 - loss: 0.3169 - val_accuracy: 0.9638 - val_loss: 0.1378\n",
            "Epoch 15/50\n",
            "\u001b[1m153/154\u001b[0m \u001b[32m━━━━━━━━━━━━━━━━━━━\u001b[0m\u001b[37m━\u001b[0m \u001b[1m0s\u001b[0m 14ms/step - accuracy: 0.8912 - loss: 0.3109\n",
            "Epoch 15: saving model to model/gesture_sign_classifier/gesture_sign_classifier.keras\n",
            "\u001b[1m154/154\u001b[0m \u001b[32m━━━━━━━━━━━━━━━━━━━━\u001b[0m\u001b[37m\u001b[0m \u001b[1m2s\u001b[0m 16ms/step - accuracy: 0.8912 - loss: 0.3108 - val_accuracy: 0.9729 - val_loss: 0.1213\n",
            "Epoch 16/50\n",
            "\u001b[1m153/154\u001b[0m \u001b[32m━━━━━━━━━━━━━━━━━━━\u001b[0m\u001b[37m━\u001b[0m \u001b[1m0s\u001b[0m 15ms/step - accuracy: 0.9030 - loss: 0.2788\n",
            "Epoch 16: saving model to model/gesture_sign_classifier/gesture_sign_classifier.keras\n",
            "\u001b[1m154/154\u001b[0m \u001b[32m━━━━━━━━━━━━━━━━━━━━\u001b[0m\u001b[37m\u001b[0m \u001b[1m2s\u001b[0m 16ms/step - accuracy: 0.9030 - loss: 0.2789 - val_accuracy: 0.9786 - val_loss: 0.1206\n",
            "Epoch 17/50\n",
            "\u001b[1m153/154\u001b[0m \u001b[32m━━━━━━━━━━━━━━━━━━━\u001b[0m\u001b[37m━\u001b[0m \u001b[1m0s\u001b[0m 14ms/step - accuracy: 0.9100 - loss: 0.2738\n",
            "Epoch 17: saving model to model/gesture_sign_classifier/gesture_sign_classifier.keras\n",
            "\u001b[1m154/154\u001b[0m \u001b[32m━━━━━━━━━━━━━━━━━━━━\u001b[0m\u001b[37m\u001b[0m \u001b[1m2s\u001b[0m 15ms/step - accuracy: 0.9100 - loss: 0.2739 - val_accuracy: 0.9819 - val_loss: 0.1151\n",
            "Epoch 18/50\n",
            "\u001b[1m152/154\u001b[0m \u001b[32m━━━━━━━━━━━━━━━━━━━\u001b[0m\u001b[37m━\u001b[0m \u001b[1m0s\u001b[0m 15ms/step - accuracy: 0.8996 - loss: 0.2850\n",
            "Epoch 18: saving model to model/gesture_sign_classifier/gesture_sign_classifier.keras\n",
            "\u001b[1m154/154\u001b[0m \u001b[32m━━━━━━━━━━━━━━━━━━━━\u001b[0m\u001b[37m\u001b[0m \u001b[1m2s\u001b[0m 16ms/step - accuracy: 0.8996 - loss: 0.2852 - val_accuracy: 0.9700 - val_loss: 0.1157\n",
            "Epoch 19/50\n",
            "\u001b[1m151/154\u001b[0m \u001b[32m━━━━━━━━━━━━━━━━━━━\u001b[0m\u001b[37m━\u001b[0m \u001b[1m0s\u001b[0m 15ms/step - accuracy: 0.9146 - loss: 0.2482\n",
            "Epoch 19: saving model to model/gesture_sign_classifier/gesture_sign_classifier.keras\n",
            "\u001b[1m154/154\u001b[0m \u001b[32m━━━━━━━━━━━━━━━━━━━━\u001b[0m\u001b[37m\u001b[0m \u001b[1m2s\u001b[0m 16ms/step - accuracy: 0.9147 - loss: 0.2480 - val_accuracy: 0.9786 - val_loss: 0.1034\n",
            "Epoch 20/50\n",
            "\u001b[1m151/154\u001b[0m \u001b[32m━━━━━━━━━━━━━━━━━━━\u001b[0m\u001b[37m━\u001b[0m \u001b[1m0s\u001b[0m 16ms/step - accuracy: 0.9173 - loss: 0.2479\n",
            "Epoch 20: saving model to model/gesture_sign_classifier/gesture_sign_classifier.keras\n",
            "\u001b[1m154/154\u001b[0m \u001b[32m━━━━━━━━━━━━━━━━━━━━\u001b[0m\u001b[37m\u001b[0m \u001b[1m3s\u001b[0m 17ms/step - accuracy: 0.9173 - loss: 0.2480 - val_accuracy: 0.9767 - val_loss: 0.1191\n",
            "Epoch 21/50\n",
            "\u001b[1m153/154\u001b[0m \u001b[32m━━━━━━━━━━━━━━━━━━━\u001b[0m\u001b[37m━\u001b[0m \u001b[1m0s\u001b[0m 15ms/step - accuracy: 0.9131 - loss: 0.2549\n",
            "Epoch 21: saving model to model/gesture_sign_classifier/gesture_sign_classifier.keras\n",
            "\u001b[1m154/154\u001b[0m \u001b[32m━━━━━━━━━━━━━━━━━━━━\u001b[0m\u001b[37m\u001b[0m \u001b[1m3s\u001b[0m 16ms/step - accuracy: 0.9131 - loss: 0.2547 - val_accuracy: 0.9705 - val_loss: 0.1102\n",
            "Epoch 22/50\n",
            "\u001b[1m153/154\u001b[0m \u001b[32m━━━━━━━━━━━━━━━━━━━\u001b[0m\u001b[37m━\u001b[0m \u001b[1m0s\u001b[0m 15ms/step - accuracy: 0.9164 - loss: 0.2482\n",
            "Epoch 22: saving model to model/gesture_sign_classifier/gesture_sign_classifier.keras\n",
            "\u001b[1m154/154\u001b[0m \u001b[32m━━━━━━━━━━━━━━━━━━━━\u001b[0m\u001b[37m\u001b[0m \u001b[1m2s\u001b[0m 16ms/step - accuracy: 0.9164 - loss: 0.2483 - val_accuracy: 0.9814 - val_loss: 0.0905\n",
            "Epoch 23/50\n",
            "\u001b[1m153/154\u001b[0m \u001b[32m━━━━━━━━━━━━━━━━━━━\u001b[0m\u001b[37m━\u001b[0m \u001b[1m0s\u001b[0m 15ms/step - accuracy: 0.9145 - loss: 0.2830\n",
            "Epoch 23: saving model to model/gesture_sign_classifier/gesture_sign_classifier.keras\n",
            "\u001b[1m154/154\u001b[0m \u001b[32m━━━━━━━━━━━━━━━━━━━━\u001b[0m\u001b[37m\u001b[0m \u001b[1m2s\u001b[0m 16ms/step - accuracy: 0.9146 - loss: 0.2827 - val_accuracy: 0.9900 - val_loss: 0.0832\n",
            "Epoch 24/50\n",
            "\u001b[1m153/154\u001b[0m \u001b[32m━━━━━━━━━━━━━━━━━━━\u001b[0m\u001b[37m━\u001b[0m \u001b[1m0s\u001b[0m 15ms/step - accuracy: 0.9170 - loss: 0.2354\n",
            "Epoch 24: saving model to model/gesture_sign_classifier/gesture_sign_classifier.keras\n",
            "\u001b[1m154/154\u001b[0m \u001b[32m━━━━━━━━━━━━━━━━━━━━\u001b[0m\u001b[37m\u001b[0m \u001b[1m2s\u001b[0m 16ms/step - accuracy: 0.9170 - loss: 0.2352 - val_accuracy: 0.9819 - val_loss: 0.0818\n",
            "Epoch 25/50\n",
            "\u001b[1m153/154\u001b[0m \u001b[32m━━━━━━━━━━━━━━━━━━━\u001b[0m\u001b[37m━\u001b[0m \u001b[1m0s\u001b[0m 15ms/step - accuracy: 0.9240 - loss: 0.2360\n",
            "Epoch 25: saving model to model/gesture_sign_classifier/gesture_sign_classifier.keras\n",
            "\u001b[1m154/154\u001b[0m \u001b[32m━━━━━━━━━━━━━━━━━━━━\u001b[0m\u001b[37m\u001b[0m \u001b[1m2s\u001b[0m 16ms/step - accuracy: 0.9239 - loss: 0.2360 - val_accuracy: 0.9881 - val_loss: 0.0823\n",
            "Epoch 26/50\n",
            "\u001b[1m153/154\u001b[0m \u001b[32m━━━━━━━━━━━━━━━━━━━\u001b[0m\u001b[37m━\u001b[0m \u001b[1m0s\u001b[0m 15ms/step - accuracy: 0.9233 - loss: 0.2285\n",
            "Epoch 26: saving model to model/gesture_sign_classifier/gesture_sign_classifier.keras\n",
            "\u001b[1m154/154\u001b[0m \u001b[32m━━━━━━━━━━━━━━━━━━━━\u001b[0m\u001b[37m\u001b[0m \u001b[1m2s\u001b[0m 16ms/step - accuracy: 0.9233 - loss: 0.2284 - val_accuracy: 0.9786 - val_loss: 0.0835\n",
            "Epoch 27/50\n",
            "\u001b[1m153/154\u001b[0m \u001b[32m━━━━━━━━━━━━━━━━━━━\u001b[0m\u001b[37m━\u001b[0m \u001b[1m0s\u001b[0m 15ms/step - accuracy: 0.9333 - loss: 0.1971\n",
            "Epoch 27: saving model to model/gesture_sign_classifier/gesture_sign_classifier.keras\n",
            "\u001b[1m154/154\u001b[0m \u001b[32m━━━━━━━━━━━━━━━━━━━━\u001b[0m\u001b[37m\u001b[0m \u001b[1m2s\u001b[0m 16ms/step - accuracy: 0.9333 - loss: 0.1972 - val_accuracy: 0.9867 - val_loss: 0.0771\n",
            "Epoch 28/50\n",
            "\u001b[1m153/154\u001b[0m \u001b[32m━━━━━━━━━━━━━━━━━━━\u001b[0m\u001b[37m━\u001b[0m \u001b[1m0s\u001b[0m 15ms/step - accuracy: 0.9326 - loss: 0.2030\n",
            "Epoch 28: saving model to model/gesture_sign_classifier/gesture_sign_classifier.keras\n",
            "\u001b[1m154/154\u001b[0m \u001b[32m━━━━━━━━━━━━━━━━━━━━\u001b[0m\u001b[37m\u001b[0m \u001b[1m2s\u001b[0m 16ms/step - accuracy: 0.9326 - loss: 0.2027 - val_accuracy: 0.9833 - val_loss: 0.1031\n",
            "Epoch 29/50\n",
            "\u001b[1m151/154\u001b[0m \u001b[32m━━━━━━━━━━━━━━━━━━━\u001b[0m\u001b[37m━\u001b[0m \u001b[1m0s\u001b[0m 15ms/step - accuracy: 0.9349 - loss: 0.2016\n",
            "Epoch 29: saving model to model/gesture_sign_classifier/gesture_sign_classifier.keras\n",
            "\u001b[1m154/154\u001b[0m \u001b[32m━━━━━━━━━━━━━━━━━━━━\u001b[0m\u001b[37m\u001b[0m \u001b[1m2s\u001b[0m 16ms/step - accuracy: 0.9349 - loss: 0.2014 - val_accuracy: 0.9853 - val_loss: 0.0836\n",
            "Epoch 30/50\n",
            "\u001b[1m153/154\u001b[0m \u001b[32m━━━━━━━━━━━━━━━━━━━\u001b[0m\u001b[37m━\u001b[0m \u001b[1m0s\u001b[0m 15ms/step - accuracy: 0.9341 - loss: 0.1961\n",
            "Epoch 30: saving model to model/gesture_sign_classifier/gesture_sign_classifier.keras\n",
            "\u001b[1m154/154\u001b[0m \u001b[32m━━━━━━━━━━━━━━━━━━━━\u001b[0m\u001b[37m\u001b[0m \u001b[1m2s\u001b[0m 16ms/step - accuracy: 0.9341 - loss: 0.1962 - val_accuracy: 0.9853 - val_loss: 0.0781\n",
            "Epoch 31/50\n",
            "\u001b[1m153/154\u001b[0m \u001b[32m━━━━━━━━━━━━━━━━━━━\u001b[0m\u001b[37m━\u001b[0m \u001b[1m0s\u001b[0m 15ms/step - accuracy: 0.9424 - loss: 0.1865\n",
            "Epoch 31: saving model to model/gesture_sign_classifier/gesture_sign_classifier.keras\n",
            "\u001b[1m154/154\u001b[0m \u001b[32m━━━━━━━━━━━━━━━━━━━━\u001b[0m\u001b[37m\u001b[0m \u001b[1m2s\u001b[0m 16ms/step - accuracy: 0.9424 - loss: 0.1865 - val_accuracy: 0.9776 - val_loss: 0.0963\n",
            "Epoch 32/50\n",
            "\u001b[1m153/154\u001b[0m \u001b[32m━━━━━━━━━━━━━━━━━━━\u001b[0m\u001b[37m━\u001b[0m \u001b[1m0s\u001b[0m 15ms/step - accuracy: 0.9293 - loss: 0.2237\n",
            "Epoch 32: saving model to model/gesture_sign_classifier/gesture_sign_classifier.keras\n",
            "\u001b[1m154/154\u001b[0m \u001b[32m━━━━━━━━━━━━━━━━━━━━\u001b[0m\u001b[37m\u001b[0m \u001b[1m2s\u001b[0m 16ms/step - accuracy: 0.9293 - loss: 0.2234 - val_accuracy: 0.9824 - val_loss: 0.0848\n",
            "Epoch 33/50\n",
            "\u001b[1m153/154\u001b[0m \u001b[32m━━━━━━━━━━━━━━━━━━━\u001b[0m\u001b[37m━\u001b[0m \u001b[1m0s\u001b[0m 15ms/step - accuracy: 0.9439 - loss: 0.1745\n",
            "Epoch 33: saving model to model/gesture_sign_classifier/gesture_sign_classifier.keras\n",
            "\u001b[1m154/154\u001b[0m \u001b[32m━━━━━━━━━━━━━━━━━━━━\u001b[0m\u001b[37m\u001b[0m \u001b[1m3s\u001b[0m 17ms/step - accuracy: 0.9439 - loss: 0.1745 - val_accuracy: 0.9853 - val_loss: 0.0769\n",
            "Epoch 34/50\n",
            "\u001b[1m152/154\u001b[0m \u001b[32m━━━━━━━━━━━━━━━━━━━\u001b[0m\u001b[37m━\u001b[0m \u001b[1m0s\u001b[0m 15ms/step - accuracy: 0.9355 - loss: 0.2099\n",
            "Epoch 34: saving model to model/gesture_sign_classifier/gesture_sign_classifier.keras\n",
            "\u001b[1m154/154\u001b[0m \u001b[32m━━━━━━━━━━━━━━━━━━━━\u001b[0m\u001b[37m\u001b[0m \u001b[1m3s\u001b[0m 16ms/step - accuracy: 0.9357 - loss: 0.2093 - val_accuracy: 0.9876 - val_loss: 0.0815\n",
            "Epoch 35/50\n",
            "\u001b[1m153/154\u001b[0m \u001b[32m━━━━━━━━━━━━━━━━━━━\u001b[0m\u001b[37m━\u001b[0m \u001b[1m0s\u001b[0m 15ms/step - accuracy: 0.9457 - loss: 0.1699\n",
            "Epoch 35: saving model to model/gesture_sign_classifier/gesture_sign_classifier.keras\n",
            "\u001b[1m154/154\u001b[0m \u001b[32m━━━━━━━━━━━━━━━━━━━━\u001b[0m\u001b[37m\u001b[0m \u001b[1m3s\u001b[0m 17ms/step - accuracy: 0.9458 - loss: 0.1699 - val_accuracy: 0.9881 - val_loss: 0.0779\n",
            "Epoch 36/50\n",
            "\u001b[1m153/154\u001b[0m \u001b[32m━━━━━━━━━━━━━━━━━━━\u001b[0m\u001b[37m━\u001b[0m \u001b[1m0s\u001b[0m 15ms/step - accuracy: 0.9459 - loss: 0.1705\n",
            "Epoch 36: saving model to model/gesture_sign_classifier/gesture_sign_classifier.keras\n",
            "\u001b[1m154/154\u001b[0m \u001b[32m━━━━━━━━━━━━━━━━━━━━\u001b[0m\u001b[37m\u001b[0m \u001b[1m2s\u001b[0m 16ms/step - accuracy: 0.9458 - loss: 0.1706 - val_accuracy: 0.9891 - val_loss: 0.0721\n",
            "Epoch 37/50\n",
            "\u001b[1m152/154\u001b[0m \u001b[32m━━━━━━━━━━━━━━━━━━━\u001b[0m\u001b[37m━\u001b[0m \u001b[1m0s\u001b[0m 15ms/step - accuracy: 0.9449 - loss: 0.1799\n",
            "Epoch 37: saving model to model/gesture_sign_classifier/gesture_sign_classifier.keras\n",
            "\u001b[1m154/154\u001b[0m \u001b[32m━━━━━━━━━━━━━━━━━━━━\u001b[0m\u001b[37m\u001b[0m \u001b[1m2s\u001b[0m 16ms/step - accuracy: 0.9449 - loss: 0.1796 - val_accuracy: 0.9900 - val_loss: 0.0641\n",
            "Epoch 38/50\n",
            "\u001b[1m153/154\u001b[0m \u001b[32m━━━━━━━━━━━━━━━━━━━\u001b[0m\u001b[37m━\u001b[0m \u001b[1m0s\u001b[0m 15ms/step - accuracy: 0.9336 - loss: 0.2076\n",
            "Epoch 38: saving model to model/gesture_sign_classifier/gesture_sign_classifier.keras\n",
            "\u001b[1m154/154\u001b[0m \u001b[32m━━━━━━━━━━━━━━━━━━━━\u001b[0m\u001b[37m\u001b[0m \u001b[1m2s\u001b[0m 16ms/step - accuracy: 0.9336 - loss: 0.2073 - val_accuracy: 0.9819 - val_loss: 0.0718\n",
            "Epoch 39/50\n",
            "\u001b[1m151/154\u001b[0m \u001b[32m━━━━━━━━━━━━━━━━━━━\u001b[0m\u001b[37m━\u001b[0m \u001b[1m0s\u001b[0m 15ms/step - accuracy: 0.9423 - loss: 0.1766\n",
            "Epoch 39: saving model to model/gesture_sign_classifier/gesture_sign_classifier.keras\n",
            "\u001b[1m154/154\u001b[0m \u001b[32m━━━━━━━━━━━━━━━━━━━━\u001b[0m\u001b[37m\u001b[0m \u001b[1m3s\u001b[0m 16ms/step - accuracy: 0.9424 - loss: 0.1767 - val_accuracy: 0.9881 - val_loss: 0.0633\n",
            "Epoch 40/50\n",
            "\u001b[1m153/154\u001b[0m \u001b[32m━━━━━━━━━━━━━━━━━━━\u001b[0m\u001b[37m━\u001b[0m \u001b[1m0s\u001b[0m 15ms/step - accuracy: 0.9423 - loss: 0.1838\n",
            "Epoch 40: saving model to model/gesture_sign_classifier/gesture_sign_classifier.keras\n",
            "\u001b[1m154/154\u001b[0m \u001b[32m━━━━━━━━━━━━━━━━━━━━\u001b[0m\u001b[37m\u001b[0m \u001b[1m2s\u001b[0m 16ms/step - accuracy: 0.9424 - loss: 0.1836 - val_accuracy: 0.9905 - val_loss: 0.0682\n",
            "Epoch 41/50\n",
            "\u001b[1m153/154\u001b[0m \u001b[32m━━━━━━━━━━━━━━━━━━━\u001b[0m\u001b[37m━\u001b[0m \u001b[1m0s\u001b[0m 15ms/step - accuracy: 0.9504 - loss: 0.1494\n",
            "Epoch 41: saving model to model/gesture_sign_classifier/gesture_sign_classifier.keras\n",
            "\u001b[1m154/154\u001b[0m \u001b[32m━━━━━━━━━━━━━━━━━━━━\u001b[0m\u001b[37m\u001b[0m \u001b[1m3s\u001b[0m 16ms/step - accuracy: 0.9504 - loss: 0.1495 - val_accuracy: 0.9857 - val_loss: 0.0709\n",
            "Epoch 42/50\n",
            "\u001b[1m152/154\u001b[0m \u001b[32m━━━━━━━━━━━━━━━━━━━\u001b[0m\u001b[37m━\u001b[0m \u001b[1m0s\u001b[0m 15ms/step - accuracy: 0.9504 - loss: 0.1680\n",
            "Epoch 42: saving model to model/gesture_sign_classifier/gesture_sign_classifier.keras\n",
            "\u001b[1m154/154\u001b[0m \u001b[32m━━━━━━━━━━━━━━━━━━━━\u001b[0m\u001b[37m\u001b[0m \u001b[1m2s\u001b[0m 16ms/step - accuracy: 0.9504 - loss: 0.1678 - val_accuracy: 0.9900 - val_loss: 0.0666\n",
            "Epoch 43/50\n",
            "\u001b[1m153/154\u001b[0m \u001b[32m━━━━━━━━━━━━━━━━━━━\u001b[0m\u001b[37m━\u001b[0m \u001b[1m0s\u001b[0m 15ms/step - accuracy: 0.9498 - loss: 0.1720\n",
            "Epoch 43: saving model to model/gesture_sign_classifier/gesture_sign_classifier.keras\n",
            "\u001b[1m154/154\u001b[0m \u001b[32m━━━━━━━━━━━━━━━━━━━━\u001b[0m\u001b[37m\u001b[0m \u001b[1m2s\u001b[0m 16ms/step - accuracy: 0.9499 - loss: 0.1717 - val_accuracy: 0.9895 - val_loss: 0.0593\n",
            "Epoch 44/50\n",
            "\u001b[1m153/154\u001b[0m \u001b[32m━━━━━━━━━━━━━━━━━━━\u001b[0m\u001b[37m━\u001b[0m \u001b[1m0s\u001b[0m 15ms/step - accuracy: 0.9465 - loss: 0.1782\n",
            "Epoch 44: saving model to model/gesture_sign_classifier/gesture_sign_classifier.keras\n",
            "\u001b[1m154/154\u001b[0m \u001b[32m━━━━━━━━━━━━━━━━━━━━\u001b[0m\u001b[37m\u001b[0m \u001b[1m2s\u001b[0m 16ms/step - accuracy: 0.9465 - loss: 0.1781 - val_accuracy: 0.9924 - val_loss: 0.0596\n",
            "Epoch 45/50\n",
            "\u001b[1m153/154\u001b[0m \u001b[32m━━━━━━━━━━━━━━━━━━━\u001b[0m\u001b[37m━\u001b[0m \u001b[1m0s\u001b[0m 15ms/step - accuracy: 0.9614 - loss: 0.1190\n",
            "Epoch 45: saving model to model/gesture_sign_classifier/gesture_sign_classifier.keras\n",
            "\u001b[1m154/154\u001b[0m \u001b[32m━━━━━━━━━━━━━━━━━━━━\u001b[0m\u001b[37m\u001b[0m \u001b[1m3s\u001b[0m 16ms/step - accuracy: 0.9613 - loss: 0.1191 - val_accuracy: 0.9900 - val_loss: 0.0634\n",
            "Epoch 46/50\n",
            "\u001b[1m153/154\u001b[0m \u001b[32m━━━━━━━━━━━━━━━━━━━\u001b[0m\u001b[37m━\u001b[0m \u001b[1m0s\u001b[0m 15ms/step - accuracy: 0.9531 - loss: 0.1580\n",
            "Epoch 46: saving model to model/gesture_sign_classifier/gesture_sign_classifier.keras\n",
            "\u001b[1m154/154\u001b[0m \u001b[32m━━━━━━━━━━━━━━━━━━━━\u001b[0m\u001b[37m\u001b[0m \u001b[1m2s\u001b[0m 16ms/step - accuracy: 0.9531 - loss: 0.1581 - val_accuracy: 0.9876 - val_loss: 0.0717\n",
            "Epoch 47/50\n",
            "\u001b[1m152/154\u001b[0m \u001b[32m━━━━━━━━━━━━━━━━━━━\u001b[0m\u001b[37m━\u001b[0m \u001b[1m0s\u001b[0m 15ms/step - accuracy: 0.9535 - loss: 0.1329\n",
            "Epoch 47: saving model to model/gesture_sign_classifier/gesture_sign_classifier.keras\n",
            "\u001b[1m154/154\u001b[0m \u001b[32m━━━━━━━━━━━━━━━━━━━━\u001b[0m\u001b[37m\u001b[0m \u001b[1m2s\u001b[0m 16ms/step - accuracy: 0.9535 - loss: 0.1330 - val_accuracy: 0.9881 - val_loss: 0.0678\n",
            "Epoch 48/50\n",
            "\u001b[1m153/154\u001b[0m \u001b[32m━━━━━━━━━━━━━━━━━━━\u001b[0m\u001b[37m━\u001b[0m \u001b[1m0s\u001b[0m 15ms/step - accuracy: 0.9534 - loss: 0.1517\n",
            "Epoch 48: saving model to model/gesture_sign_classifier/gesture_sign_classifier.keras\n",
            "\u001b[1m154/154\u001b[0m \u001b[32m━━━━━━━━━━━━━━━━━━━━\u001b[0m\u001b[37m\u001b[0m \u001b[1m2s\u001b[0m 16ms/step - accuracy: 0.9534 - loss: 0.1516 - val_accuracy: 0.9900 - val_loss: 0.0730\n",
            "Epoch 49/50\n",
            "\u001b[1m151/154\u001b[0m \u001b[32m━━━━━━━━━━━━━━━━━━━\u001b[0m\u001b[37m━\u001b[0m \u001b[1m0s\u001b[0m 15ms/step - accuracy: 0.9625 - loss: 0.1297\n",
            "Epoch 49: saving model to model/gesture_sign_classifier/gesture_sign_classifier.keras\n",
            "\u001b[1m154/154\u001b[0m \u001b[32m━━━━━━━━━━━━━━━━━━━━\u001b[0m\u001b[37m\u001b[0m \u001b[1m3s\u001b[0m 16ms/step - accuracy: 0.9623 - loss: 0.1299 - val_accuracy: 0.9867 - val_loss: 0.0671\n",
            "Epoch 50/50\n",
            "\u001b[1m153/154\u001b[0m \u001b[32m━━━━━━━━━━━━━━━━━━━\u001b[0m\u001b[37m━\u001b[0m \u001b[1m0s\u001b[0m 15ms/step - accuracy: 0.9556 - loss: 0.1390\n",
            "Epoch 50: saving model to model/gesture_sign_classifier/gesture_sign_classifier.keras\n",
            "\u001b[1m154/154\u001b[0m \u001b[32m━━━━━━━━━━━━━━━━━━━━\u001b[0m\u001b[37m\u001b[0m \u001b[1m3s\u001b[0m 16ms/step - accuracy: 0.9556 - loss: 0.1392 - val_accuracy: 0.9848 - val_loss: 0.0741\n"
          ]
        },
        {
          "data": {
            "text/plain": [
              "<keras.src.callbacks.history.History at 0x1e76aea4470>"
            ]
          },
          "execution_count": 12,
          "metadata": {},
          "output_type": "execute_result"
        }
      ],
      "source": [
        "model.fit(\n",
        "    X_train,\n",
        "    y_train,\n",
        "    epochs=50,\n",
        "    batch_size=64,\n",
        "    validation_data=(X_val, y_val),\n",
        "    callbacks=[cp_callback, es_callback]\n",
        ")"
      ]
    },
    {
      "cell_type": "code",
      "execution_count": 13,
      "metadata": {
        "id": "yRTVe6NarhXD"
      },
      "outputs": [],
      "source": [
        "# Carregamento do modelo salvo\n",
        "model = tf.keras.models.load_model(model_save_path)"
      ]
    },
    {
      "cell_type": "code",
      "execution_count": 14,
      "metadata": {
        "id": "TwyIR1LWrhXD",
        "outputId": "3594d7db-9b97-4bb9-8586-d720d17b199a"
      },
      "outputs": [
        {
          "name": "stdout",
          "output_type": "stream",
          "text": [
            "\u001b[1m1/1\u001b[0m \u001b[32m━━━━━━━━━━━━━━━━━━━━\u001b[0m\u001b[37m\u001b[0m \u001b[1m0s\u001b[0m 40ms/step\n",
            "[1.7326236e-23 8.3258231e-15 3.3607416e-12 3.5150539e-20 9.1399131e-14\n",
            " 1.0000000e+00 1.4979295e-14 2.9080568e-24 1.9879683e-26 3.0375999e-25\n",
            " 1.7270656e-10 4.3721145e-22 3.6014567e-14 3.8521623e-19 2.9646884e-17\n",
            " 1.5295166e-11 1.2363479e-12 1.2302220e-09 3.0679361e-17 2.6273167e-08\n",
            " 3.9980788e-09 3.9630204e-23 9.9838493e-14 2.7806423e-12 6.4131644e-11\n",
            " 8.5987210e-11 1.4417454e-11 2.5855207e-18 6.3500556e-14 7.4055318e-16\n",
            " 2.8760822e-19 5.0916963e-19 1.5192380e-23 6.9321199e-10 4.7250290e-11\n",
            " 2.1921612e-14]\n",
            "5\n"
          ]
        }
      ],
      "source": [
        "# Teste de inferência\n",
        "predict_result = model.predict(np.array([X_test[0]]))\n",
        "print(np.squeeze(predict_result))\n",
        "print(np.argmax(np.squeeze(predict_result)))"
      ]
    },
    {
      "cell_type": "markdown",
      "metadata": {
        "id": "6OuS9YGOrhXD"
      },
      "source": [
        "Linhas mistas"
      ]
    },
    {
      "cell_type": "code",
      "execution_count": 15,
      "metadata": {
        "id": "bGAmJ3i3rhXD",
        "outputId": "a4e0c646-1592-4f85-ce47-d0a8ff89ad4f"
      },
      "outputs": [
        {
          "name": "stdout",
          "output_type": "stream",
          "text": [
            "\u001b[1m66/66\u001b[0m \u001b[32m━━━━━━━━━━━━━━━━━━━━\u001b[0m\u001b[37m\u001b[0m \u001b[1m0s\u001b[0m 1ms/step\n"
          ]
        },
        {
          "data": {
            "image/png": "[encoded data removed]",
            "text/plain": [
              "<Figure size 700x600 with 2 Axes>"
            ]
          },
          "metadata": {},
          "output_type": "display_data"
        },
        {
          "name": "stdout",
          "output_type": "stream",
          "text": [
            "Classification Report\n",
            "              precision    recall  f1-score   support\n",
            "\n",
            "           1       1.00      1.00      1.00        34\n",
            "           2       1.00      1.00      1.00        41\n",
            "           3       0.96      1.00      0.98        26\n",
            "           4       1.00      0.95      0.98        42\n",
            "           5       1.00      1.00      1.00        35\n",
            "           6       0.92      0.79      0.85        14\n",
            "          10       1.00      1.00      1.00        78\n",
            "          11       0.99      1.00      0.99        78\n",
            "          12       0.97      0.97      0.97        78\n",
            "          13       1.00      0.99      1.00       104\n",
            "          14       1.00      1.00      1.00        73\n",
            "          15       0.90      1.00      0.95       101\n",
            "          16       1.00      1.00      1.00        73\n",
            "          17       0.98      1.00      0.99        61\n",
            "          18       0.99      1.00      0.99        70\n",
            "          19       1.00      0.97      0.99        34\n",
            "          20       1.00      1.00      1.00        46\n",
            "          21       1.00      1.00      1.00        70\n",
            "          22       1.00      1.00      1.00        72\n",
            "          23       1.00      1.00      1.00        51\n",
            "          24       0.97      1.00      0.98        91\n",
            "          25       0.99      1.00      0.99        92\n",
            "          26       1.00      1.00      1.00        85\n",
            "          27       1.00      0.98      0.99        90\n",
            "          28       1.00      1.00      1.00        66\n",
            "          29       1.00      0.88      0.93        88\n",
            "          30       0.98      1.00      0.99        84\n",
            "          31       1.00      1.00      1.00        64\n",
            "          32       1.00      1.00      1.00        94\n",
            "          33       1.00      0.99      0.99        68\n",
            "          34       1.00      1.00      1.00        61\n",
            "          35       1.00      0.97      0.99        37\n",
            "\n",
            "    accuracy                           0.99      2101\n",
            "   macro avg       0.99      0.98      0.99      2101\n",
            "weighted avg       0.99      0.99      0.99      2101\n",
            "\n"
          ]
        }
      ],
      "source": [
        "#O código abaixo foi adaptado a partir da seguinte resposta do Stack Overflow:\n",
        "# Fonte: Stack Overflow Users. (2018). Stack Overflow. \n",
        "# Retrieved from https://stackoverflow.com/questions/50443411/how-to-load-a-tflite-model-in-script\n",
        "import pandas as pd\n",
        "import seaborn as sns\n",
        "import matplotlib.pyplot as plt\n",
        "from sklearn.metrics import confusion_matrix, classification_report\n",
        "\n",
        "def print_confusion_matrix(y_true, y_pred, report=True):\n",
        "    labels = sorted(list(set(y_true)))\n",
        "    cmx_data = confusion_matrix(y_true, y_pred, labels=labels)\n",
        "\n",
        "    df_cmx = pd.DataFrame(cmx_data, index=labels, columns=labels)\n",
        "\n",
        "    fig, ax = plt.subplots(figsize=(7, 6))\n",
        "    sns.heatmap(df_cmx, annot=True, fmt='g' ,square=False)\n",
        "    ax.set_ylim(len(set(y_true)), 0)\n",
        "    plt.show()\n",
        "\n",
        "    if report:\n",
        "        print('Classification Report')\n",
        "        print(classification_report(y_test, y_pred))\n",
        "\n",
        "Y_pred = model.predict(X_test)\n",
        "y_pred = np.argmax(Y_pred, axis=1)\n",
        "\n",
        "print_confusion_matrix(y_test, y_pred)"
      ]
    },
    {
      "cell_type": "markdown",
      "metadata": {
        "id": "a6brrSFLrhXD"
      },
      "source": [
        "Converter em modelo para Tensorflow-Lite"
      ]
    },
    {
      "cell_type": "code",
      "execution_count": 16,
      "metadata": {
        "id": "TWV8XN7rrhXD"
      },
      "outputs": [],
      "source": [
        "# Salvando como modelo apenas para inferência\n",
        "model.save(model_save_path, include_optimizer=False)\n",
        "model = tf.keras.models.load_model(model_save_path)"
      ]
    },
    {
      "cell_type": "code",
      "execution_count": 17,
      "metadata": {
        "id": "OULJmjNlrhXE"
      },
      "outputs": [],
      "source": [
        "tflite_save_path = 'model/gesture_sign_classifier/gesture_sign_classifier.tflite'"
      ]
    },
    {
      "cell_type": "code",
      "execution_count": 18,
      "metadata": {
        "id": "W2WG7c1vrhXE",
        "outputId": "22443d5e-829e-4913-dad2-0beeaec63d9f"
      },
      "outputs": [
        {
          "name": "stdout",
          "output_type": "stream",
          "text": [
            "INFO:tensorflow:Assets written to: saved_model\\assets\n"
          ]
        },
        {
          "name": "stderr",
          "output_type": "stream",
          "text": [
            "INFO:tensorflow:Assets written to: saved_model\\assets\n"
          ]
        },
        {
          "name": "stdout",
          "output_type": "stream",
          "text": [
            "Saved artifact at 'saved_model'. The following endpoints are available:\n",
            "\n",
            "* Endpoint 'serve'\n",
            "  args_0 (POSITIONAL_ONLY): TensorSpec(shape=(None, 3864), dtype=tf.float32, name='input_layer')\n",
            "Output Type:\n",
            "  TensorSpec(shape=(None, 36), dtype=tf.float32, name=None)\n",
            "Captures:\n",
            "  2091719819536: TensorSpec(shape=(), dtype=tf.resource, name=None)\n",
            "  2091719819920: TensorSpec(shape=(), dtype=tf.resource, name=None)\n",
            "  2091719822032: TensorSpec(shape=(), dtype=tf.resource, name=None)\n",
            "  2091719821264: TensorSpec(shape=(), dtype=tf.resource, name=None)\n",
            "  2091719823376: TensorSpec(shape=(), dtype=tf.resource, name=None)\n",
            "  2091719822608: TensorSpec(shape=(), dtype=tf.resource, name=None)\n",
            "  2091719821648: TensorSpec(shape=(), dtype=tf.resource, name=None)\n",
            "  2091719823760: TensorSpec(shape=(), dtype=tf.resource, name=None)\n"
          ]
        }
      ],
      "source": [
        "#Codigo adaptado a partir da documentação do tensoflow\n",
        "#Fonte: MediaPipe Authors. (2020). MediaPipe Python (Version 2.0) [Source code]. Retrieved from https://www.tensorflow.org/lite/convert?hl=pt-br\n",
        "\n",
        "\n",
        "# Exportar o modelo Keras para o formato de modelo salvo\n",
        "model.export(\"saved_model\")\n",
        "\n",
        "# Converter o modelo salvo para TensorFlow Lite\n",
        "converter = tf.lite.TFLiteConverter.from_saved_model(\"saved_model\")\n",
        "tflite_model = converter.convert()\n",
        "\n",
        "# Salvar o modelo TensorFlow Lite em um arquivo\n",
        "with open(tflite_save_path, \"wb\") as f:\n",
        "    f.write(tflite_model)\n"
      ]
    }
  ],
  "metadata": {
    "colab": {
      "provenance": []
    },
    "kernelspec": {
      "display_name": "Python 3",
      "language": "python",
      "name": "python3"
    },
    "language_info": {
      "codemirror_mode": {
        "name": "ipython",
        "version": 3
      },
      "file_extension": ".py",
      "mimetype": "text/x-python",
      "name": "python",
      "nbconvert_exporter": "python",
      "pygments_lexer": "ipython3",
      "version": "3.12.3"
    }
  },
  "nbformat": 4,
  "nbformat_minor": 0
}
