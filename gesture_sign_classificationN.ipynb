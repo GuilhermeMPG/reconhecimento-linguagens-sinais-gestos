{
  "cells": [
    {
      "cell_type": "code",
      "execution_count": 186,
      "metadata": {
        "id": "_AGA2lv1rhW_"
      },
      "outputs": [],
      "source": [
        "# Código adaptado em Jupyter Notebook com base nos materiais disponibilizados pelo professor, juntamente com exemplos do próprio TensorFlow. \n",
        "# O TensorFlow é uma biblioteca popular para aprendizado de máquina e pode ser encontrado na sua documentação oficial.\n",
        "\n",
        "import csv\n",
        "from tensorflow.keras.layers import LeakyReLU\n",
        "from tensorflow.keras.regularizers import l2\n",
        "import numpy as np\n",
        "import tensorflow as tf\n",
        "from sklearn.model_selection import train_test_split\n",
        "\n",
        "RANDOM_SEED = 1024"
      ]
    },
    {
      "cell_type": "markdown",
      "metadata": {
        "id": "ZDguXYmFrhXA"
      },
      "source": [
        "Especifique cada caminho\n"
      ]
    },
    {
      "cell_type": "code",
      "execution_count": 187,
      "metadata": {
        "id": "9Z7Z9w_srhXB"
      },
      "outputs": [],
      "source": [
        "dataset = 'model/gesture_sign_classifier/gesture_sign_history.csv'\n",
        "model_save_path = 'model/gesture_sign_classifier/gesture_sign_classifier.keras'"
      ]
    },
    {
      "cell_type": "markdown",
      "metadata": {
        "id": "h8LgLD1YrhXB"
      },
      "source": [
        "Configuração do número de classificação"
      ]
    },
    {
      "cell_type": "code",
      "execution_count": 188,
      "metadata": {
        "id": "kP5mq1g0rhXB"
      },
      "outputs": [],
      "source": [
        "NUM_CLASSES = 36"
      ]
    },
    {
      "cell_type": "markdown",
      "metadata": {
        "id": "lu74KcO1rhXB"
      },
      "source": [
        "Comprimento de entrada"
      ]
    },
    {
      "cell_type": "code",
      "execution_count": 189,
      "metadata": {
        "id": "NryeSr5PrhXB"
      },
      "outputs": [],
      "source": [
        "TIME_STEPS = 966\n",
        "DIMENSION = 4"
      ]
    },
    {
      "cell_type": "markdown",
      "metadata": {
        "id": "QmvvxgHArhXB"
      },
      "source": [
        "Carregar dados de aprendizagem\n",
        "\n"
      ]
    },
    {
      "cell_type": "code",
      "execution_count": 190,
      "metadata": {
        "id": "tmLPKtslrhXB"
      },
      "outputs": [],
      "source": [
        "X_dataset = np.loadtxt(dataset, delimiter=',', dtype='float32', usecols=list(range(1, (TIME_STEPS * DIMENSION) + 1)))"
      ]
    },
    {
      "cell_type": "code",
      "execution_count": 191,
      "metadata": {
        "id": "ZpRwynpqrhXC"
      },
      "outputs": [],
      "source": [
        "y_dataset = np.loadtxt(dataset, delimiter=',', dtype='int32', usecols=(0))"
      ]
    },
    {
      "cell_type": "code",
      "execution_count": 192,
      "metadata": {
        "id": "h36-2dPHrhXC"
      },
      "outputs": [
        {
          "name": "stdout",
          "output_type": "stream",
          "text": [
            "Tamanho do conjunto de treino: 11774\n",
            "Tamanho do conjunto de validação: 2523\n",
            "Tamanho do conjunto de teste: 2523\n"
          ]
        }
      ],
      "source": [
        "# Dividindo os dados em 70% treino e 30% (teste + validação)\n",
        "X_train, X_test_val, y_train, y_test_val = train_test_split(X_dataset, y_dataset, train_size=0.70, random_state=RANDOM_SEED)\n",
        "\n",
        "# Dividindo os 30% em 15% validação e 15% teste\n",
        "X_test, X_val, y_test, y_val = train_test_split(X_test_val, y_test_val, test_size=0.5, random_state=RANDOM_SEED)\n",
        "\n",
        "# Exibindo a quantidade de dados em cada conjunto\n",
        "print(f'Tamanho do conjunto de treino: {len(X_train)}')\n",
        "print(f'Tamanho do conjunto de validação: {len(X_val)}')\n",
        "print(f'Tamanho do conjunto de teste: {len(X_test)}')"
      ]
    },
    {
      "cell_type": "markdown",
      "metadata": {
        "id": "tZU0U_k3rhXC"
      },
      "source": [
        "Construção de modelo"
      ]
    },
    {
      "cell_type": "code",
      "execution_count": 193,
      "metadata": {
        "id": "sQJFryxyrhXC"
      },
      "outputs": [
        {
          "name": "stderr",
          "output_type": "stream",
          "text": [
            "c:\\Users\\Guilherme\\AppData\\Local\\Programs\\Python\\Python312\\Lib\\site-packages\\keras\\src\\layers\\core\\input_layer.py:25: UserWarning: Argument `input_shape` is deprecated. Use `shape` instead.\n",
            "  warnings.warn(\n"
          ]
        }
      ],
      "source": [
        "use_lstm = False\n",
        "model = None\n",
        "# Adicionar mais camadas densas pode ajudar o modelo a aprender representações mais complexas.\n",
        "model = tf.keras.models.Sequential([\n",
        "    tf.keras.layers.InputLayer(input_shape=(TIME_STEPS * DIMENSION, )),\n",
        "    tf.keras.layers.Dense(512, activation='relu', kernel_initializer=tf.keras.initializers.HeNormal(seed=RANDOM_SEED)),\n",
        "    tf.keras.layers.Dropout(0.5, seed=RANDOM_SEED),\n",
        "    tf.keras.layers.Dense(256, activation='relu', kernel_initializer=tf.keras.initializers.HeNormal(seed=RANDOM_SEED)),\n",
        "    tf.keras.layers.Dropout(0.5, seed=RANDOM_SEED),\n",
        "    tf.keras.layers.Dense(128, activation='relu', kernel_initializer=tf.keras.initializers.HeNormal(seed=RANDOM_SEED)),\n",
        "    tf.keras.layers.Dense(NUM_CLASSES, activation='softmax')\n",
        "])\n",
        "# model = tf.keras.models.Sequential([\n",
        "#     tf.keras.layers.InputLayer(input_shape=(1974, 1)),\n",
        "#     tf.keras.layers.LSTM(128, return_sequences=True),\n",
        "#     tf.keras.layers.LSTM(64),\n",
        "#     tf.keras.layers.Dense(32, activation='relu'),\n",
        "#     tf.keras.layers.Dense(NUM_CLASSES, activation='softmax')\n",
        "# ])\n",
        "# model = tf.keras.models.Sequential([\n",
        "#     tf.keras.layers.InputLayer(input_shape=(TIME_STEPS * DIMENSION , )),\n",
        "#     tf.keras.layers.Dense(512, kernel_initializer=tf.keras.initializers.HeNormal(seed=RANDOM_SEED)),\n",
        "#     tf.keras.layers.LeakyReLU(),\n",
        "#     tf.keras.layers.Dropout(0.5, seed=RANDOM_SEED),\n",
        "#     tf.keras.layers.Dense(256, kernel_initializer=tf.keras.initializers.HeNormal(seed=RANDOM_SEED)),\n",
        "#     tf.keras.layers.LeakyReLU(),\n",
        "#     tf.keras.layers.Dropout(0.5, seed=RANDOM_SEED),\n",
        "#     tf.keras.layers.Dense(128, kernel_initializer=tf.keras.initializers.HeNormal(seed=RANDOM_SEED)),\n",
        "#     tf.keras.layers.LeakyReLU(),\n",
        "#     tf.keras.layers.Dense(NUM_CLASSES, activation='softmax')\n",
        "# ])\n",
        "# model = tf.keras.models.Sequential([\n",
        "#     tf.keras.layers.InputLayer(input_shape=(TIME_STEPS * DIMENSION, )),\n",
        "#     tf.keras.layers.Dense(512, activation='relu', kernel_regularizer=l2(0.001), kernel_initializer=tf.keras.initializers.HeNormal(seed=RANDOM_SEED)),\n",
        "#     tf.keras.layers.Dropout(0.5, seed=RANDOM_SEED),\n",
        "#     tf.keras.layers.Dense(256, activation='relu', kernel_regularizer=l2(0.001), kernel_initializer=tf.keras.initializers.HeNormal(seed=RANDOM_SEED)),\n",
        "#     tf.keras.layers.Dropout(0.5, seed=RANDOM_SEED),\n",
        "#     tf.keras.layers.Dense(128, activation='relu', kernel_regularizer=l2(0.001), kernel_initializer=tf.keras.initializers.HeNormal(seed=RANDOM_SEED)),\n",
        "#     tf.keras.layers.Dense(NUM_CLASSES, activation='softmax')\n",
        "# ])\n",
        "# if use_lstm:\n",
        "#     model = tf.keras.models.Sequential([\n",
        "#         tf.keras.layers.InputLayer(input_shape=(TIME_STEPS * DIMENSION, )),\n",
        "#         tf.keras.layers.Reshape((TIME_STEPS, DIMENSION), input_shape=(TIME_STEPS * DIMENSION, )),\n",
        "#         tf.keras.layers.Dropout(0.2),\n",
        "#         tf.keras.layers.LSTM(16, input_shape=[TIME_STEPS, DIMENSION]),\n",
        "#         tf.keras.layers.Dropout(0.5),\n",
        "#         tf.keras.layers.Dense(10, activation='relu'),\n",
        "#         tf.keras.layers.Dense(NUM_CLASSES, activation='softmax')\n",
        "#     ])\n",
        "# else:\n",
        "\n",
        "# model = tf.keras.models.Sequential([\n",
        "#         tf.keras.layers.InputLayer(input_shape=(TIME_STEPS * DIMENSION, )),        \n",
        "#         tf.keras.layers.Dropout(0.5),\n",
        "#         tf.keras.layers.Dense(256, activation='relu'),\n",
        "#         tf.keras.layers.Dropout(0.5),\n",
        "#         tf.keras.layers.Dense(128, activation='relu'),\n",
        "        \n",
        "#         tf.keras.layers.Dense(NUM_CLASSES, activation='softmax')\n",
        "#     ])"
      ]
    },
    {
      "cell_type": "code",
      "execution_count": 194,
      "metadata": {
        "id": "z2NoizMyrhXC",
        "outputId": "15fcaefa-de1e-4e2f-e177-9c1b4913a645"
      },
      "outputs": [
        {
          "data": {
            "text/html": [
              "<pre style=\"white-space:pre;overflow-x:auto;line-height:normal;font-family:Menlo,'DejaVu Sans Mono',consolas,'Courier New',monospace\"><span style=\"font-weight: bold\">Model: \"sequential_8\"</span>\n",
              "</pre>\n"
            ],
            "text/plain": [
              "\u001b[1mModel: \"sequential_8\"\u001b[0m\n"
            ]
          },
          "metadata": {},
          "output_type": "display_data"
        },
        {
          "data": {
            "text/html": [
              "<pre style=\"white-space:pre;overflow-x:auto;line-height:normal;font-family:Menlo,'DejaVu Sans Mono',consolas,'Courier New',monospace\">┏━━━━━━━━━━━━━━━━━━━━━━━━━━━━━━━━━┳━━━━━━━━━━━━━━━━━━━━━━━━┳━━━━━━━━━━━━━━━┓\n",
              "┃<span style=\"font-weight: bold\"> Layer (type)                    </span>┃<span style=\"font-weight: bold\"> Output Shape           </span>┃<span style=\"font-weight: bold\">       Param # </span>┃\n",
              "┡━━━━━━━━━━━━━━━━━━━━━━━━━━━━━━━━━╇━━━━━━━━━━━━━━━━━━━━━━━━╇━━━━━━━━━━━━━━━┩\n",
              "│ dense_32 (<span style=\"color: #0087ff; text-decoration-color: #0087ff\">Dense</span>)                │ (<span style=\"color: #00d7ff; text-decoration-color: #00d7ff\">None</span>, <span style=\"color: #00af00; text-decoration-color: #00af00\">512</span>)            │     <span style=\"color: #00af00; text-decoration-color: #00af00\">1,978,880</span> │\n",
              "├─────────────────────────────────┼────────────────────────┼───────────────┤\n",
              "│ dropout_16 (<span style=\"color: #0087ff; text-decoration-color: #0087ff\">Dropout</span>)            │ (<span style=\"color: #00d7ff; text-decoration-color: #00d7ff\">None</span>, <span style=\"color: #00af00; text-decoration-color: #00af00\">512</span>)            │             <span style=\"color: #00af00; text-decoration-color: #00af00\">0</span> │\n",
              "├─────────────────────────────────┼────────────────────────┼───────────────┤\n",
              "│ dense_33 (<span style=\"color: #0087ff; text-decoration-color: #0087ff\">Dense</span>)                │ (<span style=\"color: #00d7ff; text-decoration-color: #00d7ff\">None</span>, <span style=\"color: #00af00; text-decoration-color: #00af00\">256</span>)            │       <span style=\"color: #00af00; text-decoration-color: #00af00\">131,328</span> │\n",
              "├─────────────────────────────────┼────────────────────────┼───────────────┤\n",
              "│ dropout_17 (<span style=\"color: #0087ff; text-decoration-color: #0087ff\">Dropout</span>)            │ (<span style=\"color: #00d7ff; text-decoration-color: #00d7ff\">None</span>, <span style=\"color: #00af00; text-decoration-color: #00af00\">256</span>)            │             <span style=\"color: #00af00; text-decoration-color: #00af00\">0</span> │\n",
              "├─────────────────────────────────┼────────────────────────┼───────────────┤\n",
              "│ dense_34 (<span style=\"color: #0087ff; text-decoration-color: #0087ff\">Dense</span>)                │ (<span style=\"color: #00d7ff; text-decoration-color: #00d7ff\">None</span>, <span style=\"color: #00af00; text-decoration-color: #00af00\">128</span>)            │        <span style=\"color: #00af00; text-decoration-color: #00af00\">32,896</span> │\n",
              "├─────────────────────────────────┼────────────────────────┼───────────────┤\n",
              "│ dense_35 (<span style=\"color: #0087ff; text-decoration-color: #0087ff\">Dense</span>)                │ (<span style=\"color: #00d7ff; text-decoration-color: #00d7ff\">None</span>, <span style=\"color: #00af00; text-decoration-color: #00af00\">36</span>)             │         <span style=\"color: #00af00; text-decoration-color: #00af00\">4,644</span> │\n",
              "└─────────────────────────────────┴────────────────────────┴───────────────┘\n",
              "</pre>\n"
            ],
            "text/plain": [
              "┏━━━━━━━━━━━━━━━━━━━━━━━━━━━━━━━━━┳━━━━━━━━━━━━━━━━━━━━━━━━┳━━━━━━━━━━━━━━━┓\n",
              "┃\u001b[1m \u001b[0m\u001b[1mLayer (type)                   \u001b[0m\u001b[1m \u001b[0m┃\u001b[1m \u001b[0m\u001b[1mOutput Shape          \u001b[0m\u001b[1m \u001b[0m┃\u001b[1m \u001b[0m\u001b[1m      Param #\u001b[0m\u001b[1m \u001b[0m┃\n",
              "┡━━━━━━━━━━━━━━━━━━━━━━━━━━━━━━━━━╇━━━━━━━━━━━━━━━━━━━━━━━━╇━━━━━━━━━━━━━━━┩\n",
              "│ dense_32 (\u001b[38;5;33mDense\u001b[0m)                │ (\u001b[38;5;45mNone\u001b[0m, \u001b[38;5;34m512\u001b[0m)            │     \u001b[38;5;34m1,978,880\u001b[0m │\n",
              "├─────────────────────────────────┼────────────────────────┼───────────────┤\n",
              "│ dropout_16 (\u001b[38;5;33mDropout\u001b[0m)            │ (\u001b[38;5;45mNone\u001b[0m, \u001b[38;5;34m512\u001b[0m)            │             \u001b[38;5;34m0\u001b[0m │\n",
              "├─────────────────────────────────┼────────────────────────┼───────────────┤\n",
              "│ dense_33 (\u001b[38;5;33mDense\u001b[0m)                │ (\u001b[38;5;45mNone\u001b[0m, \u001b[38;5;34m256\u001b[0m)            │       \u001b[38;5;34m131,328\u001b[0m │\n",
              "├─────────────────────────────────┼────────────────────────┼───────────────┤\n",
              "│ dropout_17 (\u001b[38;5;33mDropout\u001b[0m)            │ (\u001b[38;5;45mNone\u001b[0m, \u001b[38;5;34m256\u001b[0m)            │             \u001b[38;5;34m0\u001b[0m │\n",
              "├─────────────────────────────────┼────────────────────────┼───────────────┤\n",
              "│ dense_34 (\u001b[38;5;33mDense\u001b[0m)                │ (\u001b[38;5;45mNone\u001b[0m, \u001b[38;5;34m128\u001b[0m)            │        \u001b[38;5;34m32,896\u001b[0m │\n",
              "├─────────────────────────────────┼────────────────────────┼───────────────┤\n",
              "│ dense_35 (\u001b[38;5;33mDense\u001b[0m)                │ (\u001b[38;5;45mNone\u001b[0m, \u001b[38;5;34m36\u001b[0m)             │         \u001b[38;5;34m4,644\u001b[0m │\n",
              "└─────────────────────────────────┴────────────────────────┴───────────────┘\n"
            ]
          },
          "metadata": {},
          "output_type": "display_data"
        },
        {
          "data": {
            "text/html": [
              "<pre style=\"white-space:pre;overflow-x:auto;line-height:normal;font-family:Menlo,'DejaVu Sans Mono',consolas,'Courier New',monospace\"><span style=\"font-weight: bold\"> Total params: </span><span style=\"color: #00af00; text-decoration-color: #00af00\">2,147,748</span> (8.19 MB)\n",
              "</pre>\n"
            ],
            "text/plain": [
              "\u001b[1m Total params: \u001b[0m\u001b[38;5;34m2,147,748\u001b[0m (8.19 MB)\n"
            ]
          },
          "metadata": {},
          "output_type": "display_data"
        },
        {
          "data": {
            "text/html": [
              "<pre style=\"white-space:pre;overflow-x:auto;line-height:normal;font-family:Menlo,'DejaVu Sans Mono',consolas,'Courier New',monospace\"><span style=\"font-weight: bold\"> Trainable params: </span><span style=\"color: #00af00; text-decoration-color: #00af00\">2,147,748</span> (8.19 MB)\n",
              "</pre>\n"
            ],
            "text/plain": [
              "\u001b[1m Trainable params: \u001b[0m\u001b[38;5;34m2,147,748\u001b[0m (8.19 MB)\n"
            ]
          },
          "metadata": {},
          "output_type": "display_data"
        },
        {
          "data": {
            "text/html": [
              "<pre style=\"white-space:pre;overflow-x:auto;line-height:normal;font-family:Menlo,'DejaVu Sans Mono',consolas,'Courier New',monospace\"><span style=\"font-weight: bold\"> Non-trainable params: </span><span style=\"color: #00af00; text-decoration-color: #00af00\">0</span> (0.00 B)\n",
              "</pre>\n"
            ],
            "text/plain": [
              "\u001b[1m Non-trainable params: \u001b[0m\u001b[38;5;34m0\u001b[0m (0.00 B)\n"
            ]
          },
          "metadata": {},
          "output_type": "display_data"
        }
      ],
      "source": [
        "model.summary()  # tf.keras.utils.plot_model(model, show_shapes=True)"
      ]
    },
    {
      "cell_type": "code",
      "execution_count": 195,
      "metadata": {
        "id": "VU9Z7Ns5rhXC"
      },
      "outputs": [],
      "source": [
        "#Callback para checkpoint do modelo\n",
        "cp_callback = tf.keras.callbacks.ModelCheckpoint(\n",
        "  model_save_path, verbose=1, save_weights_only=False)\n",
        "\n",
        "#Callback para parada antecipada\n",
        "es_callback = tf.keras.callbacks.EarlyStopping(patience=20, verbose=1)"
      ]
    },
    {
      "cell_type": "code",
      "execution_count": 196,
      "metadata": {
        "colab": {
          "base_uri": "https://localhost:8080/",
          "height": 211
        },
        "id": "bg5jQdiTrhXD",
        "outputId": "402cad72-f6c6-4273-e613-f101e0ad9779"
      },
      "outputs": [],
      "source": [
        "#Compilação do modelo\n",
        "model.compile(\n",
        "    optimizer=tf.keras.optimizers.Adam(learning_rate=0.001),\n",
        "    loss='sparse_categorical_crossentropy',\n",
        "    metrics=['accuracy']\n",
        ")\n",
        "\n"
      ]
    },
    {
      "cell_type": "markdown",
      "metadata": {
        "id": "9Q4HsdQmrhXD"
      },
      "source": [
        "Treinamento do modelo"
      ]
    },
    {
      "cell_type": "code",
      "execution_count": 197,
      "metadata": {
        "id": "8OmaPJjtrhXD",
        "outputId": "cec74298-5773-48fc-fa4b-b01cf48ea269",
        "scrolled": true
      },
      "outputs": [
        {
          "name": "stdout",
          "output_type": "stream",
          "text": [
            "Epoch 1/30\n",
            "\u001b[1m183/184\u001b[0m \u001b[32m━━━━━━━━━━━━━━━━━━━\u001b[0m\u001b[37m━\u001b[0m \u001b[1m0s\u001b[0m 16ms/step - accuracy: 0.2244 - loss: 2.8233\n",
            "Epoch 1: saving model to model/gesture_sign_classifier/gesture_sign_classifier.keras\n",
            "\u001b[1m184/184\u001b[0m \u001b[32m━━━━━━━━━━━━━━━━━━━━\u001b[0m\u001b[37m\u001b[0m \u001b[1m4s\u001b[0m 18ms/step - accuracy: 0.2258 - loss: 2.8161 - val_accuracy: 0.7769 - val_loss: 0.7024\n",
            "Epoch 2/30\n",
            "\u001b[1m183/184\u001b[0m \u001b[32m━━━━━━━━━━━━━━━━━━━\u001b[0m\u001b[37m━\u001b[0m \u001b[1m0s\u001b[0m 16ms/step - accuracy: 0.6357 - loss: 1.0224\n",
            "Epoch 2: saving model to model/gesture_sign_classifier/gesture_sign_classifier.keras\n",
            "\u001b[1m184/184\u001b[0m \u001b[32m━━━━━━━━━━━━━━━━━━━━\u001b[0m\u001b[37m\u001b[0m \u001b[1m3s\u001b[0m 17ms/step - accuracy: 0.6361 - loss: 1.0211 - val_accuracy: 0.8807 - val_loss: 0.3131\n",
            "Epoch 3/30\n",
            "\u001b[1m183/184\u001b[0m \u001b[32m━━━━━━━━━━━━━━━━━━━\u001b[0m\u001b[37m━\u001b[0m \u001b[1m0s\u001b[0m 16ms/step - accuracy: 0.7628 - loss: 0.6280\n",
            "Epoch 3: saving model to model/gesture_sign_classifier/gesture_sign_classifier.keras\n",
            "\u001b[1m184/184\u001b[0m \u001b[32m━━━━━━━━━━━━━━━━━━━━\u001b[0m\u001b[37m\u001b[0m \u001b[1m3s\u001b[0m 17ms/step - accuracy: 0.7630 - loss: 0.6276 - val_accuracy: 0.9136 - val_loss: 0.2314\n",
            "Epoch 4/30\n",
            "\u001b[1m183/184\u001b[0m \u001b[32m━━━━━━━━━━━━━━━━━━━\u001b[0m\u001b[37m━\u001b[0m \u001b[1m0s\u001b[0m 16ms/step - accuracy: 0.8371 - loss: 0.4612\n",
            "Epoch 4: saving model to model/gesture_sign_classifier/gesture_sign_classifier.keras\n",
            "\u001b[1m184/184\u001b[0m \u001b[32m━━━━━━━━━━━━━━━━━━━━\u001b[0m\u001b[37m\u001b[0m \u001b[1m3s\u001b[0m 17ms/step - accuracy: 0.8372 - loss: 0.4610 - val_accuracy: 0.9453 - val_loss: 0.1649\n",
            "Epoch 5/30\n",
            "\u001b[1m181/184\u001b[0m \u001b[32m━━━━━━━━━━━━━━━━━━━\u001b[0m\u001b[37m━\u001b[0m \u001b[1m0s\u001b[0m 16ms/step - accuracy: 0.8555 - loss: 0.4006\n",
            "Epoch 5: saving model to model/gesture_sign_classifier/gesture_sign_classifier.keras\n",
            "\u001b[1m184/184\u001b[0m \u001b[32m━━━━━━━━━━━━━━━━━━━━\u001b[0m\u001b[37m\u001b[0m \u001b[1m3s\u001b[0m 17ms/step - accuracy: 0.8556 - loss: 0.4004 - val_accuracy: 0.9620 - val_loss: 0.1354\n",
            "Epoch 6/30\n",
            "\u001b[1m184/184\u001b[0m \u001b[32m━━━━━━━━━━━━━━━━━━━━\u001b[0m\u001b[37m\u001b[0m \u001b[1m0s\u001b[0m 16ms/step - accuracy: 0.8822 - loss: 0.3507\n",
            "Epoch 6: saving model to model/gesture_sign_classifier/gesture_sign_classifier.keras\n",
            "\u001b[1m184/184\u001b[0m \u001b[32m━━━━━━━━━━━━━━━━━━━━\u001b[0m\u001b[37m\u001b[0m \u001b[1m3s\u001b[0m 17ms/step - accuracy: 0.8822 - loss: 0.3506 - val_accuracy: 0.9592 - val_loss: 0.1326\n",
            "Epoch 7/30\n",
            "\u001b[1m182/184\u001b[0m \u001b[32m━━━━━━━━━━━━━━━━━━━\u001b[0m\u001b[37m━\u001b[0m \u001b[1m0s\u001b[0m 16ms/step - accuracy: 0.8945 - loss: 0.2969\n",
            "Epoch 7: saving model to model/gesture_sign_classifier/gesture_sign_classifier.keras\n",
            "\u001b[1m184/184\u001b[0m \u001b[32m━━━━━━━━━━━━━━━━━━━━\u001b[0m\u001b[37m\u001b[0m \u001b[1m3s\u001b[0m 17ms/step - accuracy: 0.8946 - loss: 0.2968 - val_accuracy: 0.9786 - val_loss: 0.0951\n",
            "Epoch 8/30\n",
            "\u001b[1m184/184\u001b[0m \u001b[32m━━━━━━━━━━━━━━━━━━━━\u001b[0m\u001b[37m\u001b[0m \u001b[1m0s\u001b[0m 17ms/step - accuracy: 0.9113 - loss: 0.2428\n",
            "Epoch 8: saving model to model/gesture_sign_classifier/gesture_sign_classifier.keras\n",
            "\u001b[1m184/184\u001b[0m \u001b[32m━━━━━━━━━━━━━━━━━━━━\u001b[0m\u001b[37m\u001b[0m \u001b[1m3s\u001b[0m 18ms/step - accuracy: 0.9113 - loss: 0.2428 - val_accuracy: 0.9877 - val_loss: 0.0649\n",
            "Epoch 9/30\n",
            "\u001b[1m181/184\u001b[0m \u001b[32m━━━━━━━━━━━━━━━━━━━\u001b[0m\u001b[37m━\u001b[0m \u001b[1m0s\u001b[0m 16ms/step - accuracy: 0.9175 - loss: 0.2353\n",
            "Epoch 9: saving model to model/gesture_sign_classifier/gesture_sign_classifier.keras\n",
            "\u001b[1m184/184\u001b[0m \u001b[32m━━━━━━━━━━━━━━━━━━━━\u001b[0m\u001b[37m\u001b[0m \u001b[1m3s\u001b[0m 18ms/step - accuracy: 0.9176 - loss: 0.2349 - val_accuracy: 0.9830 - val_loss: 0.0634\n",
            "Epoch 10/30\n",
            "\u001b[1m183/184\u001b[0m \u001b[32m━━━━━━━━━━━━━━━━━━━\u001b[0m\u001b[37m━\u001b[0m \u001b[1m0s\u001b[0m 17ms/step - accuracy: 0.9203 - loss: 0.2245\n",
            "Epoch 10: saving model to model/gesture_sign_classifier/gesture_sign_classifier.keras\n",
            "\u001b[1m184/184\u001b[0m \u001b[32m━━━━━━━━━━━━━━━━━━━━\u001b[0m\u001b[37m\u001b[0m \u001b[1m3s\u001b[0m 19ms/step - accuracy: 0.9203 - loss: 0.2246 - val_accuracy: 0.9893 - val_loss: 0.0668\n",
            "Epoch 11/30\n",
            "\u001b[1m181/184\u001b[0m \u001b[32m━━━━━━━━━━━━━━━━━━━\u001b[0m\u001b[37m━\u001b[0m \u001b[1m0s\u001b[0m 16ms/step - accuracy: 0.9288 - loss: 0.2129\n",
            "Epoch 11: saving model to model/gesture_sign_classifier/gesture_sign_classifier.keras\n",
            "\u001b[1m184/184\u001b[0m \u001b[32m━━━━━━━━━━━━━━━━━━━━\u001b[0m\u001b[37m\u001b[0m \u001b[1m3s\u001b[0m 18ms/step - accuracy: 0.9290 - loss: 0.2123 - val_accuracy: 0.9830 - val_loss: 0.0670\n",
            "Epoch 12/30\n",
            "\u001b[1m183/184\u001b[0m \u001b[32m━━━━━━━━━━━━━━━━━━━\u001b[0m\u001b[37m━\u001b[0m \u001b[1m0s\u001b[0m 16ms/step - accuracy: 0.9400 - loss: 0.1701\n",
            "Epoch 12: saving model to model/gesture_sign_classifier/gesture_sign_classifier.keras\n",
            "\u001b[1m184/184\u001b[0m \u001b[32m━━━━━━━━━━━━━━━━━━━━\u001b[0m\u001b[37m\u001b[0m \u001b[1m3s\u001b[0m 17ms/step - accuracy: 0.9401 - loss: 0.1701 - val_accuracy: 0.9941 - val_loss: 0.0318\n",
            "Epoch 13/30\n",
            "\u001b[1m183/184\u001b[0m \u001b[32m━━━━━━━━━━━━━━━━━━━\u001b[0m\u001b[37m━\u001b[0m \u001b[1m0s\u001b[0m 16ms/step - accuracy: 0.9404 - loss: 0.1832\n",
            "Epoch 13: saving model to model/gesture_sign_classifier/gesture_sign_classifier.keras\n",
            "\u001b[1m184/184\u001b[0m \u001b[32m━━━━━━━━━━━━━━━━━━━━\u001b[0m\u001b[37m\u001b[0m \u001b[1m3s\u001b[0m 18ms/step - accuracy: 0.9404 - loss: 0.1831 - val_accuracy: 0.9929 - val_loss: 0.0344\n",
            "Epoch 14/30\n",
            "\u001b[1m183/184\u001b[0m \u001b[32m━━━━━━━━━━━━━━━━━━━\u001b[0m\u001b[37m━\u001b[0m \u001b[1m0s\u001b[0m 16ms/step - accuracy: 0.9398 - loss: 0.1733\n",
            "Epoch 14: saving model to model/gesture_sign_classifier/gesture_sign_classifier.keras\n",
            "\u001b[1m184/184\u001b[0m \u001b[32m━━━━━━━━━━━━━━━━━━━━\u001b[0m\u001b[37m\u001b[0m \u001b[1m3s\u001b[0m 18ms/step - accuracy: 0.9398 - loss: 0.1732 - val_accuracy: 0.9952 - val_loss: 0.0364\n",
            "Epoch 15/30\n",
            "\u001b[1m184/184\u001b[0m \u001b[32m━━━━━━━━━━━━━━━━━━━━\u001b[0m\u001b[37m\u001b[0m \u001b[1m0s\u001b[0m 17ms/step - accuracy: 0.9508 - loss: 0.1552\n",
            "Epoch 15: saving model to model/gesture_sign_classifier/gesture_sign_classifier.keras\n",
            "\u001b[1m184/184\u001b[0m \u001b[32m━━━━━━━━━━━━━━━━━━━━\u001b[0m\u001b[37m\u001b[0m \u001b[1m3s\u001b[0m 18ms/step - accuracy: 0.9508 - loss: 0.1552 - val_accuracy: 0.9913 - val_loss: 0.0401\n",
            "Epoch 16/30\n",
            "\u001b[1m183/184\u001b[0m \u001b[32m━━━━━━━━━━━━━━━━━━━\u001b[0m\u001b[37m━\u001b[0m \u001b[1m0s\u001b[0m 17ms/step - accuracy: 0.9546 - loss: 0.1507\n",
            "Epoch 16: saving model to model/gesture_sign_classifier/gesture_sign_classifier.keras\n",
            "\u001b[1m184/184\u001b[0m \u001b[32m━━━━━━━━━━━━━━━━━━━━\u001b[0m\u001b[37m\u001b[0m \u001b[1m3s\u001b[0m 19ms/step - accuracy: 0.9546 - loss: 0.1507 - val_accuracy: 0.9933 - val_loss: 0.0312\n",
            "Epoch 17/30\n",
            "\u001b[1m184/184\u001b[0m \u001b[32m━━━━━━━━━━━━━━━━━━━━\u001b[0m\u001b[37m\u001b[0m \u001b[1m0s\u001b[0m 17ms/step - accuracy: 0.9613 - loss: 0.1332\n",
            "Epoch 17: saving model to model/gesture_sign_classifier/gesture_sign_classifier.keras\n",
            "\u001b[1m184/184\u001b[0m \u001b[32m━━━━━━━━━━━━━━━━━━━━\u001b[0m\u001b[37m\u001b[0m \u001b[1m3s\u001b[0m 18ms/step - accuracy: 0.9613 - loss: 0.1333 - val_accuracy: 0.9941 - val_loss: 0.0354\n",
            "Epoch 18/30\n",
            "\u001b[1m183/184\u001b[0m \u001b[32m━━━━━━━━━━━━━━━━━━━\u001b[0m\u001b[37m━\u001b[0m \u001b[1m0s\u001b[0m 16ms/step - accuracy: 0.9599 - loss: 0.1378\n",
            "Epoch 18: saving model to model/gesture_sign_classifier/gesture_sign_classifier.keras\n",
            "\u001b[1m184/184\u001b[0m \u001b[32m━━━━━━━━━━━━━━━━━━━━\u001b[0m\u001b[37m\u001b[0m \u001b[1m3s\u001b[0m 17ms/step - accuracy: 0.9599 - loss: 0.1378 - val_accuracy: 0.9976 - val_loss: 0.0207\n",
            "Epoch 19/30\n",
            "\u001b[1m182/184\u001b[0m \u001b[32m━━━━━━━━━━━━━━━━━━━\u001b[0m\u001b[37m━\u001b[0m \u001b[1m0s\u001b[0m 16ms/step - accuracy: 0.9618 - loss: 0.1272\n",
            "Epoch 19: saving model to model/gesture_sign_classifier/gesture_sign_classifier.keras\n",
            "\u001b[1m184/184\u001b[0m \u001b[32m━━━━━━━━━━━━━━━━━━━━\u001b[0m\u001b[37m\u001b[0m \u001b[1m3s\u001b[0m 17ms/step - accuracy: 0.9618 - loss: 0.1273 - val_accuracy: 0.9933 - val_loss: 0.0442\n",
            "Epoch 20/30\n",
            "\u001b[1m182/184\u001b[0m \u001b[32m━━━━━━━━━━━━━━━━━━━\u001b[0m\u001b[37m━\u001b[0m \u001b[1m0s\u001b[0m 16ms/step - accuracy: 0.9574 - loss: 0.1439\n",
            "Epoch 20: saving model to model/gesture_sign_classifier/gesture_sign_classifier.keras\n",
            "\u001b[1m184/184\u001b[0m \u001b[32m━━━━━━━━━━━━━━━━━━━━\u001b[0m\u001b[37m\u001b[0m \u001b[1m3s\u001b[0m 17ms/step - accuracy: 0.9574 - loss: 0.1438 - val_accuracy: 0.9968 - val_loss: 0.0238\n",
            "Epoch 21/30\n",
            "\u001b[1m181/184\u001b[0m \u001b[32m━━━━━━━━━━━━━━━━━━━\u001b[0m\u001b[37m━\u001b[0m \u001b[1m0s\u001b[0m 16ms/step - accuracy: 0.9559 - loss: 0.1650\n",
            "Epoch 21: saving model to model/gesture_sign_classifier/gesture_sign_classifier.keras\n",
            "\u001b[1m184/184\u001b[0m \u001b[32m━━━━━━━━━━━━━━━━━━━━\u001b[0m\u001b[37m\u001b[0m \u001b[1m3s\u001b[0m 17ms/step - accuracy: 0.9560 - loss: 0.1646 - val_accuracy: 0.9960 - val_loss: 0.0187\n",
            "Epoch 22/30\n",
            "\u001b[1m181/184\u001b[0m \u001b[32m━━━━━━━━━━━━━━━━━━━\u001b[0m\u001b[37m━\u001b[0m \u001b[1m0s\u001b[0m 16ms/step - accuracy: 0.9635 - loss: 0.1139\n",
            "Epoch 22: saving model to model/gesture_sign_classifier/gesture_sign_classifier.keras\n",
            "\u001b[1m184/184\u001b[0m \u001b[32m━━━━━━━━━━━━━━━━━━━━\u001b[0m\u001b[37m\u001b[0m \u001b[1m3s\u001b[0m 17ms/step - accuracy: 0.9635 - loss: 0.1139 - val_accuracy: 0.9960 - val_loss: 0.0272\n",
            "Epoch 23/30\n",
            "\u001b[1m183/184\u001b[0m \u001b[32m━━━━━━━━━━━━━━━━━━━\u001b[0m\u001b[37m━\u001b[0m \u001b[1m0s\u001b[0m 16ms/step - accuracy: 0.9549 - loss: 0.1424\n",
            "Epoch 23: saving model to model/gesture_sign_classifier/gesture_sign_classifier.keras\n",
            "\u001b[1m184/184\u001b[0m \u001b[32m━━━━━━━━━━━━━━━━━━━━\u001b[0m\u001b[37m\u001b[0m \u001b[1m3s\u001b[0m 17ms/step - accuracy: 0.9549 - loss: 0.1423 - val_accuracy: 0.9952 - val_loss: 0.0233\n",
            "Epoch 24/30\n",
            "\u001b[1m184/184\u001b[0m \u001b[32m━━━━━━━━━━━━━━━━━━━━\u001b[0m\u001b[37m\u001b[0m \u001b[1m0s\u001b[0m 18ms/step - accuracy: 0.9717 - loss: 0.1032\n",
            "Epoch 24: saving model to model/gesture_sign_classifier/gesture_sign_classifier.keras\n",
            "\u001b[1m184/184\u001b[0m \u001b[32m━━━━━━━━━━━━━━━━━━━━\u001b[0m\u001b[37m\u001b[0m \u001b[1m4s\u001b[0m 19ms/step - accuracy: 0.9717 - loss: 0.1033 - val_accuracy: 0.9976 - val_loss: 0.0147\n",
            "Epoch 25/30\n",
            "\u001b[1m184/184\u001b[0m \u001b[32m━━━━━━━━━━━━━━━━━━━━\u001b[0m\u001b[37m\u001b[0m \u001b[1m0s\u001b[0m 17ms/step - accuracy: 0.9685 - loss: 0.1076\n",
            "Epoch 25: saving model to model/gesture_sign_classifier/gesture_sign_classifier.keras\n",
            "\u001b[1m184/184\u001b[0m \u001b[32m━━━━━━━━━━━━━━━━━━━━\u001b[0m\u001b[37m\u001b[0m \u001b[1m3s\u001b[0m 18ms/step - accuracy: 0.9685 - loss: 0.1077 - val_accuracy: 0.9952 - val_loss: 0.0224\n",
            "Epoch 26/30\n",
            "\u001b[1m183/184\u001b[0m \u001b[32m━━━━━━━━━━━━━━━━━━━\u001b[0m\u001b[37m━\u001b[0m \u001b[1m0s\u001b[0m 17ms/step - accuracy: 0.9658 - loss: 0.1189\n",
            "Epoch 26: saving model to model/gesture_sign_classifier/gesture_sign_classifier.keras\n",
            "\u001b[1m184/184\u001b[0m \u001b[32m━━━━━━━━━━━━━━━━━━━━\u001b[0m\u001b[37m\u001b[0m \u001b[1m3s\u001b[0m 18ms/step - accuracy: 0.9658 - loss: 0.1189 - val_accuracy: 0.9964 - val_loss: 0.0232\n",
            "Epoch 27/30\n",
            "\u001b[1m184/184\u001b[0m \u001b[32m━━━━━━━━━━━━━━━━━━━━\u001b[0m\u001b[37m\u001b[0m \u001b[1m0s\u001b[0m 17ms/step - accuracy: 0.9694 - loss: 0.1015\n",
            "Epoch 27: saving model to model/gesture_sign_classifier/gesture_sign_classifier.keras\n",
            "\u001b[1m184/184\u001b[0m \u001b[32m━━━━━━━━━━━━━━━━━━━━\u001b[0m\u001b[37m\u001b[0m \u001b[1m4s\u001b[0m 19ms/step - accuracy: 0.9694 - loss: 0.1014 - val_accuracy: 0.9972 - val_loss: 0.0160\n",
            "Epoch 28/30\n",
            "\u001b[1m184/184\u001b[0m \u001b[32m━━━━━━━━━━━━━━━━━━━━\u001b[0m\u001b[37m\u001b[0m \u001b[1m0s\u001b[0m 17ms/step - accuracy: 0.9648 - loss: 0.1146\n",
            "Epoch 28: saving model to model/gesture_sign_classifier/gesture_sign_classifier.keras\n",
            "\u001b[1m184/184\u001b[0m \u001b[32m━━━━━━━━━━━━━━━━━━━━\u001b[0m\u001b[37m\u001b[0m \u001b[1m3s\u001b[0m 18ms/step - accuracy: 0.9648 - loss: 0.1147 - val_accuracy: 0.9984 - val_loss: 0.0193\n",
            "Epoch 29/30\n",
            "\u001b[1m182/184\u001b[0m \u001b[32m━━━━━━━━━━━━━━━━━━━\u001b[0m\u001b[37m━\u001b[0m \u001b[1m0s\u001b[0m 17ms/step - accuracy: 0.9688 - loss: 0.1042\n",
            "Epoch 29: saving model to model/gesture_sign_classifier/gesture_sign_classifier.keras\n",
            "\u001b[1m184/184\u001b[0m \u001b[32m━━━━━━━━━━━━━━━━━━━━\u001b[0m\u001b[37m\u001b[0m \u001b[1m3s\u001b[0m 18ms/step - accuracy: 0.9688 - loss: 0.1044 - val_accuracy: 0.9960 - val_loss: 0.0355\n",
            "Epoch 30/30\n",
            "\u001b[1m181/184\u001b[0m \u001b[32m━━━━━━━━━━━━━━━━━━━\u001b[0m\u001b[37m━\u001b[0m \u001b[1m0s\u001b[0m 16ms/step - accuracy: 0.9705 - loss: 0.0978\n",
            "Epoch 30: saving model to model/gesture_sign_classifier/gesture_sign_classifier.keras\n",
            "\u001b[1m184/184\u001b[0m \u001b[32m━━━━━━━━━━━━━━━━━━━━\u001b[0m\u001b[37m\u001b[0m \u001b[1m3s\u001b[0m 17ms/step - accuracy: 0.9705 - loss: 0.0978 - val_accuracy: 0.9913 - val_loss: 0.0338\n"
          ]
        },
        {
          "data": {
            "text/plain": [
              "<keras.src.callbacks.history.History at 0x197bc2259a0>"
            ]
          },
          "execution_count": 197,
          "metadata": {},
          "output_type": "execute_result"
        }
      ],
      "source": [
        "model.fit(\n",
        "    X_train,\n",
        "    y_train,\n",
        "    epochs=30,\n",
        "    batch_size=64,\n",
        "    validation_data=(X_val, y_val),\n",
        "    callbacks=[cp_callback, es_callback]\n",
        ")"
      ]
    },
    {
      "cell_type": "code",
      "execution_count": 198,
      "metadata": {
        "id": "yRTVe6NarhXD"
      },
      "outputs": [],
      "source": [
        "# Carregamento do modelo salvo\n",
        "model = tf.keras.models.load_model(model_save_path)"
      ]
    },
    {
      "cell_type": "code",
      "execution_count": 199,
      "metadata": {
        "id": "TwyIR1LWrhXD",
        "outputId": "3594d7db-9b97-4bb9-8586-d720d17b199a"
      },
      "outputs": [
        {
          "name": "stdout",
          "output_type": "stream",
          "text": [
            "\u001b[1m1/1\u001b[0m \u001b[32m━━━━━━━━━━━━━━━━━━━━\u001b[0m\u001b[37m\u001b[0m \u001b[1m0s\u001b[0m 42ms/step\n",
            "[1.8152274e-08 9.6622688e-01 9.5628580e-05 7.1189308e-04 9.0649664e-05\n",
            " 2.9231887e-06 1.9479156e-08 2.2831282e-08 1.1972385e-08 1.1980707e-07\n",
            " 2.4433523e-06 8.8666274e-09 8.7277760e-05 6.0096892e-07 4.8731425e-07\n",
            " 6.2593728e-08 3.2299865e-06 2.4939023e-05 2.5295313e-08 1.5081312e-05\n",
            " 2.1032781e-06 2.0258785e-04 3.9039245e-05 7.8042343e-05 1.1326087e-04\n",
            " 1.8565730e-05 3.7816480e-07 2.6368993e-10 3.5588656e-08 6.1874047e-08\n",
            " 4.9983782e-09 2.5373944e-07 6.0574668e-10 2.6085012e-04 7.9141131e-08\n",
            " 3.2022282e-02]\n",
            "1\n"
          ]
        }
      ],
      "source": [
        "# Teste de inferência\n",
        "predict_result = model.predict(np.array([X_test[0]]))\n",
        "print(np.squeeze(predict_result))\n",
        "print(np.argmax(np.squeeze(predict_result)))"
      ]
    },
    {
      "cell_type": "markdown",
      "metadata": {
        "id": "6OuS9YGOrhXD"
      },
      "source": [
        "Linhas mistas"
      ]
    },
    {
      "cell_type": "code",
      "execution_count": 200,
      "metadata": {
        "id": "bGAmJ3i3rhXD",
        "outputId": "a4e0c646-1592-4f85-ce47-d0a8ff89ad4f"
      },
      "outputs": [
        {
          "name": "stdout",
          "output_type": "stream",
          "text": [
            "\u001b[1m79/79\u001b[0m \u001b[32m━━━━━━━━━━━━━━━━━━━━\u001b[0m\u001b[37m\u001b[0m \u001b[1m0s\u001b[0m 2ms/step\n"
          ]
        },
        {
          "data": {
            "image/png": "[encoded data removed]",
            "text/plain": [
              "<Figure size 700x600 with 2 Axes>"
            ]
          },
          "metadata": {},
          "output_type": "display_data"
        },
        {
          "name": "stdout",
          "output_type": "stream",
          "text": [
            "Classification Report\n",
            "              precision    recall  f1-score   support\n",
            "\n",
            "           1       0.97      1.00      0.98        31\n",
            "           2       0.94      1.00      0.97        34\n",
            "           3       1.00      1.00      1.00        29\n",
            "           4       1.00      1.00      1.00        34\n",
            "           5       1.00      1.00      1.00        30\n",
            "          10       1.00      1.00      1.00       152\n",
            "          11       1.00      1.00      1.00       144\n",
            "          12       1.00      0.96      0.98       139\n",
            "          13       1.00      1.00      1.00       112\n",
            "          14       1.00      1.00      1.00        96\n",
            "          15       0.95      1.00      0.97        89\n",
            "          16       0.99      0.99      0.99        85\n",
            "          17       0.95      0.95      0.95        37\n",
            "          18       1.00      1.00      1.00       105\n",
            "          19       1.00      0.97      0.98        29\n",
            "          20       1.00      0.97      0.98        33\n",
            "          21       1.00      1.00      1.00       109\n",
            "          22       0.98      1.00      0.99        80\n",
            "          23       1.00      0.98      0.99        91\n",
            "          24       0.94      1.00      0.97        95\n",
            "          25       1.00      1.00      1.00       126\n",
            "          26       1.00      1.00      1.00       114\n",
            "          27       1.00      1.00      1.00       105\n",
            "          28       1.00      1.00      1.00        92\n",
            "          29       1.00      0.95      0.97        96\n",
            "          30       1.00      1.00      1.00        96\n",
            "          31       0.99      1.00      0.99        92\n",
            "          32       1.00      1.00      1.00       104\n",
            "          33       1.00      0.96      0.98        23\n",
            "          34       1.00      1.00      1.00        91\n",
            "          35       1.00      0.97      0.98        30\n",
            "\n",
            "    accuracy                           0.99      2523\n",
            "   macro avg       0.99      0.99      0.99      2523\n",
            "weighted avg       0.99      0.99      0.99      2523\n",
            "\n"
          ]
        }
      ],
      "source": [
        "#O código abaixo foi adaptado a partir da seguinte resposta do Stack Overflow:\n",
        "# Fonte: Stack Overflow Users. (2018). Stack Overflow. \n",
        "# Retrieved from https://stackoverflow.com/questions/50443411/how-to-load-a-tflite-model-in-script\n",
        "import pandas as pd\n",
        "import seaborn as sns\n",
        "import matplotlib.pyplot as plt\n",
        "from sklearn.metrics import confusion_matrix, classification_report\n",
        "\n",
        "def print_confusion_matrix(y_true, y_pred, report=True):\n",
        "    labels = sorted(list(set(y_true)))\n",
        "    cmx_data = confusion_matrix(y_true, y_pred, labels=labels)\n",
        "\n",
        "    df_cmx = pd.DataFrame(cmx_data, index=labels, columns=labels)\n",
        "\n",
        "    fig, ax = plt.subplots(figsize=(7, 6))\n",
        "    sns.heatmap(df_cmx, annot=True, fmt='g' ,square=False)\n",
        "    ax.set_ylim(len(set(y_true)), 0)\n",
        "    plt.show()\n",
        "\n",
        "    if report:\n",
        "        print('Classification Report')\n",
        "        print(classification_report(y_test, y_pred))\n",
        "\n",
        "Y_pred = model.predict(X_test)\n",
        "y_pred = np.argmax(Y_pred, axis=1)\n",
        "\n",
        "print_confusion_matrix(y_test, y_pred)"
      ]
    },
    {
      "cell_type": "markdown",
      "metadata": {
        "id": "a6brrSFLrhXD"
      },
      "source": [
        "Converter em modelo para Tensorflow-Lite"
      ]
    },
    {
      "cell_type": "code",
      "execution_count": 201,
      "metadata": {
        "id": "TWV8XN7rrhXD"
      },
      "outputs": [],
      "source": [
        "# Salvando como modelo apenas para inferência\n",
        "model.save(model_save_path, include_optimizer=False)\n",
        "model = tf.keras.models.load_model(model_save_path)"
      ]
    },
    {
      "cell_type": "code",
      "execution_count": 202,
      "metadata": {
        "id": "OULJmjNlrhXE"
      },
      "outputs": [],
      "source": [
        "tflite_save_path = 'model/gesture_sign_classifier/gesture_sign_classifier.tflite'"
      ]
    },
    {
      "cell_type": "code",
      "execution_count": 203,
      "metadata": {
        "id": "W2WG7c1vrhXE",
        "outputId": "22443d5e-829e-4913-dad2-0beeaec63d9f"
      },
      "outputs": [
        {
          "name": "stdout",
          "output_type": "stream",
          "text": [
            "INFO:tensorflow:Assets written to: saved_model\\assets\n"
          ]
        },
        {
          "name": "stderr",
          "output_type": "stream",
          "text": [
            "INFO:tensorflow:Assets written to: saved_model\\assets\n"
          ]
        },
        {
          "name": "stdout",
          "output_type": "stream",
          "text": [
            "Saved artifact at 'saved_model'. The following endpoints are available:\n",
            "\n",
            "* Endpoint 'serve'\n",
            "  args_0 (POSITIONAL_ONLY): TensorSpec(shape=(None, 3864), dtype=tf.float32, name='input_layer_8')\n",
            "Output Type:\n",
            "  TensorSpec(shape=(None, 36), dtype=tf.float32, name=None)\n",
            "Captures:\n",
            "  1750632715984: TensorSpec(shape=(), dtype=tf.resource, name=None)\n",
            "  1750632717136: TensorSpec(shape=(), dtype=tf.resource, name=None)\n",
            "  1750632718864: TensorSpec(shape=(), dtype=tf.resource, name=None)\n",
            "  1750632715216: TensorSpec(shape=(), dtype=tf.resource, name=None)\n",
            "  1750632720784: TensorSpec(shape=(), dtype=tf.resource, name=None)\n",
            "  1750632720016: TensorSpec(shape=(), dtype=tf.resource, name=None)\n",
            "  1750632718672: TensorSpec(shape=(), dtype=tf.resource, name=None)\n",
            "  1750632721168: TensorSpec(shape=(), dtype=tf.resource, name=None)\n"
          ]
        }
      ],
      "source": [
        "#Codigo adaptado a partir da documentação do tensoflow\n",
        "#Fonte: MediaPipe Authors. (2020). MediaPipe Python (Version 2.0) [Source code]. Retrieved from https://www.tensorflow.org/lite/convert?hl=pt-br\n",
        "\n",
        "\n",
        "# Exportar o modelo Keras para o formato de modelo salvo\n",
        "model.export(\"saved_model\")\n",
        "\n",
        "# Converter o modelo salvo para TensorFlow Lite\n",
        "converter = tf.lite.TFLiteConverter.from_saved_model(\"saved_model\")\n",
        "tflite_model = converter.convert()\n",
        "\n",
        "# Salvar o modelo TensorFlow Lite em um arquivo\n",
        "with open(tflite_save_path, \"wb\") as f:\n",
        "    f.write(tflite_model)\n"
      ]
    },
    {
      "cell_type": "markdown",
      "metadata": {
        "id": "qER9pC2OrhXE"
      },
      "source": [
        "Teste de raciocínio"
      ]
    },
    {
      "cell_type": "code",
      "execution_count": 204,
      "metadata": {
        "id": "BFt9SIMDrhXE"
      },
      "outputs": [],
      "source": [
        "# Inicialização do modelo TFLite\n",
        "# Código alterado a partir de: https://www.tensorflow.org/lite/guide/inference?hl=pt-br#load_and_run_a_model_in_python\n",
        "interpreter = tf.lite.Interpreter(model_path=tflite_save_path)\n",
        "interpreter.allocate_tensors()"
      ]
    },
    {
      "cell_type": "code",
      "execution_count": 205,
      "metadata": {
        "id": "eWgztI8vrhXE",
        "outputId": "441f3e59-7618-43d6-e1cf-62f9e6aec8bb"
      },
      "outputs": [
        {
          "name": "stdout",
          "output_type": "stream",
          "text": [
            "[{'name': 'serving_default_input_layer_8:0', 'index': 0, 'shape': array([   1, 3864]), 'shape_signature': array([  -1, 3864]), 'dtype': <class 'numpy.float32'>, 'quantization': (0.0, 0), 'quantization_parameters': {'scales': array([], dtype=float32), 'zero_points': array([], dtype=int32), 'quantized_dimension': 0}, 'sparsity_parameters': {}}]\n"
          ]
        }
      ],
      "source": [
        "# Obter detalhes de entrada e saída\n",
        "input_details = interpreter.get_input_details()\n",
        "output_details = interpreter.get_output_details()\n",
        "print(input_details)"
      ]
    },
    {
      "cell_type": "code",
      "execution_count": 206,
      "metadata": {
        "id": "oYbVszLwrhXE"
      },
      "outputs": [],
      "source": [
        "interpreter.set_tensor(input_details[0]['index'], np.array([X_test[0]]))"
      ]
    },
    {
      "cell_type": "code",
      "execution_count": 207,
      "metadata": {
        "id": "lOpwySX8rhXE",
        "outputId": "95da68e5-ac11-4a73-dd81-6b1ae1a29fd3"
      },
      "outputs": [
        {
          "name": "stdout",
          "output_type": "stream",
          "text": [
            "CPU times: total: 0 ns\n",
            "Wall time: 1e+03 µs\n"
          ]
        }
      ],
      "source": [
        "%%time\n",
        "# Realizar inferência\n",
        "interpreter.invoke()\n",
        "tflite_results = interpreter.get_tensor(output_details[0]['index'])"
      ]
    },
    {
      "cell_type": "code",
      "execution_count": 208,
      "metadata": {
        "id": "g8s4CjivrhXE",
        "outputId": "65bbcfbf-68e7-4d61-e4f6-04570add1f83"
      },
      "outputs": [
        {
          "name": "stdout",
          "output_type": "stream",
          "text": [
            "[1.81522068e-08 9.66226995e-01 9.56283184e-05 7.11892790e-04\n",
            " 9.06495843e-05 2.92318896e-06 1.94790832e-08 2.28311965e-08\n",
            " 1.19723405e-08 1.19806629e-07 2.44334569e-06 8.86659457e-09\n",
            " 8.72777600e-05 6.00967212e-07 4.87312491e-07 6.25936067e-08\n",
            " 3.22997425e-06 2.49389777e-05 2.52951686e-08 1.50812866e-05\n",
            " 2.10327426e-06 2.02587486e-04 3.90392124e-05 7.80422779e-05\n",
            " 1.13260772e-04 1.85657318e-05 3.78163747e-07 2.63688432e-10\n",
            " 3.55885241e-08 6.18738127e-08 4.99835950e-09 2.53738733e-07\n",
            " 6.05745620e-10 2.60849629e-04 7.91408397e-08 3.20222527e-02]\n",
            "1\n"
          ]
        }
      ],
      "source": [
        "print(np.squeeze(tflite_results))\n",
        "print(np.argmax(np.squeeze(tflite_results)))"
      ]
    }
  ],
  "metadata": {
    "colab": {
      "provenance": []
    },
    "kernelspec": {
      "display_name": "Python 3",
      "language": "python",
      "name": "python3"
    },
    "language_info": {
      "codemirror_mode": {
        "name": "ipython",
        "version": 3
      },
      "file_extension": ".py",
      "mimetype": "text/x-python",
      "name": "python",
      "nbconvert_exporter": "python",
      "pygments_lexer": "ipython3",
      "version": "3.12.3"
    }
  },
  "nbformat": 4,
  "nbformat_minor": 0
}
